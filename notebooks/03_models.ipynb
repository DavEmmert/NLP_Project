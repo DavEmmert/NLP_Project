{
  "cells": [
    {
      "cell_type": "code",
      "execution_count": 1,
      "id": "a5de8cce",
      "metadata": {
        "id": "a5de8cce"
      },
      "outputs": [
        {
          "name": "stderr",
          "output_type": "stream",
          "text": [
            "/Users/dave/Desktop/05_NLP/NLP_Contract_Checker/.venv/lib/python3.11/site-packages/tqdm/auto.py:21: TqdmWarning: IProgress not found. Please update jupyter and ipywidgets. See https://ipywidgets.readthedocs.io/en/stable/user_install.html\n",
            "  from .autonotebook import tqdm as notebook_tqdm\n"
          ]
        }
      ],
      "source": [
        "import pandas as pd\n",
        "import numpy as np\n",
        "from sentence_transformers import SentenceTransformer\n",
        "from transformers import BertTokenizer, BertModel\n",
        "import torch\n",
        "\n",
        "\n"
      ]
    },
    {
      "cell_type": "code",
      "execution_count": 2,
      "id": "dca61b91",
      "metadata": {
        "colab": {
          "base_uri": "https://localhost:8080/",
          "height": 347
        },
        "id": "dca61b91",
        "outputId": "599369a1-fa0f-44c8-b5ec-3169e9347d1f"
      },
      "outputs": [
        {
          "data": {
            "text/html": [
              "<div>\n",
              "<style scoped>\n",
              "    .dataframe tbody tr th:only-of-type {\n",
              "        vertical-align: middle;\n",
              "    }\n",
              "\n",
              "    .dataframe tbody tr th {\n",
              "        vertical-align: top;\n",
              "    }\n",
              "\n",
              "    .dataframe thead th {\n",
              "        text-align: right;\n",
              "    }\n",
              "</style>\n",
              "<table border=\"1\" class=\"dataframe\">\n",
              "  <thead>\n",
              "    <tr style=\"text-align: right;\">\n",
              "      <th></th>\n",
              "      <th>contract</th>\n",
              "      <th>paragraph</th>\n",
              "      <th>paragraph_title</th>\n",
              "      <th>paragraph_content</th>\n",
              "      <th>section</th>\n",
              "      <th>section_content</th>\n",
              "      <th>clean_paragraph_content</th>\n",
              "      <th>clean_section_content</th>\n",
              "      <th>paragraph_content_stemm</th>\n",
              "      <th>paragraph_content_lemma</th>\n",
              "      <th>paragraph_content_token</th>\n",
              "      <th>section_content_stemm</th>\n",
              "      <th>paragraph_section_lemma</th>\n",
              "      <th>paragraph_section_token</th>\n",
              "    </tr>\n",
              "  </thead>\n",
              "  <tbody>\n",
              "    <tr>\n",
              "      <th>0</th>\n",
              "      <td>1</td>\n",
              "      <td>§ 1</td>\n",
              "      <td>Vertragsgegenstand</td>\n",
              "      <td>§ 1 Vertragsgegenstand 1.1 Der Anbieter stellt...</td>\n",
              "      <td>1.1</td>\n",
              "      <td>1.1 Der Anbieter stellt dem Kunden die Softwar...</td>\n",
              "      <td>Der Anbieter stellt dem Kunden die Software Na...</td>\n",
              "      <td>Der Anbieter stellt dem Kunden die Software Na...</td>\n",
              "      <td>der anbiet stellt dem kunden die softwar name ...</td>\n",
              "      <td>Der Anbieter stellt dem Kunden die Software Na...</td>\n",
              "      <td>[der, an, ##bie, ##ter, ste, ##ll, ##t, dem, k...</td>\n",
              "      <td>der anbiet stellt dem kunden die softwar name ...</td>\n",
              "      <td>Der Anbieter stellt dem Kunden die Software Na...</td>\n",
              "      <td>[der, an, ##bie, ##ter, ste, ##ll, ##t, dem, k...</td>\n",
              "    </tr>\n",
              "    <tr>\n",
              "      <th>1</th>\n",
              "      <td>1</td>\n",
              "      <td>§ 1</td>\n",
              "      <td>Vertragsgegenstand</td>\n",
              "      <td>§ 1 Vertragsgegenstand 1.1 Der Anbieter stellt...</td>\n",
              "      <td>1.2</td>\n",
              "      <td>1.2 Die Nutzung umfasst die Bereitstellung von...</td>\n",
              "      <td>Der Anbieter stellt dem Kunden die Software Na...</td>\n",
              "      <td>Die Nutzung umfasst die Bereitstellung von Fun...</td>\n",
              "      <td>der anbiet stellt dem kunden die softwar name ...</td>\n",
              "      <td>Der Anbieter stellt dem Kunden die Software Na...</td>\n",
              "      <td>[der, an, ##bie, ##ter, ste, ##ll, ##t, dem, k...</td>\n",
              "      <td>die nutzung umfasst die bereitstellung von fun...</td>\n",
              "      <td>die Nutzung umfasst die Bereitstellung von Fun...</td>\n",
              "      <td>[die, nut, ##zu, ##ng, um, ##fa, ##ss, ##t, di...</td>\n",
              "    </tr>\n",
              "    <tr>\n",
              "      <th>2</th>\n",
              "      <td>1</td>\n",
              "      <td>§ 1</td>\n",
              "      <td>Vertragsgegenstand</td>\n",
              "      <td>§ 1 Vertragsgegenstand 1.1 Der Anbieter stellt...</td>\n",
              "      <td>1.3</td>\n",
              "      <td>1.3 Der Kunde erhält ausschließlich das vertra...</td>\n",
              "      <td>Der Anbieter stellt dem Kunden die Software Na...</td>\n",
              "      <td>Der Kunde erhält ausschließlich das vertraglic...</td>\n",
              "      <td>der anbiet stellt dem kunden die softwar name ...</td>\n",
              "      <td>Der Anbieter stellt dem Kunden die Software Na...</td>\n",
              "      <td>[der, an, ##bie, ##ter, ste, ##ll, ##t, dem, k...</td>\n",
              "      <td>der kund erhält ausschließlich da vertraglich ...</td>\n",
              "      <td>Der Kunde erhält ausschließlich das vertraglic...</td>\n",
              "      <td>[der, kun, ##de, er, ##hal, ##t, aus, ##sch, #...</td>\n",
              "    </tr>\n",
              "    <tr>\n",
              "      <th>3</th>\n",
              "      <td>2</td>\n",
              "      <td>§ 1</td>\n",
              "      <td>Vertragsgegenstand</td>\n",
              "      <td>§ 1 Vertragsgegenstand (1) Dieser Software-as-...</td>\n",
              "      <td>(1)</td>\n",
              "      <td>(1) Dieser Software-as-a-Service-Vertrag ist a...</td>\n",
              "      <td>1 Dieser SoftwareasaServiceVertrag ist auf On ...</td>\n",
              "      <td>1 Dieser SoftwareasaServiceVertrag ist auf On ...</td>\n",
              "      <td>1 dieser softwareasaservicevertrag ist auf on ...</td>\n",
              "      <td>1 Dieser softwareasaservicevertrag ist auf on ...</td>\n",
              "      <td>[1, dies, ##er, software, ##asa, ##ser, ##vic,...</td>\n",
              "      <td>1 dieser softwareasaservicevertrag ist auf on ...</td>\n",
              "      <td>1 Dieser softwareasaservicevertrag ist auf on ...</td>\n",
              "      <td>[1, dies, ##er, software, ##asa, ##ser, ##vic,...</td>\n",
              "    </tr>\n",
              "    <tr>\n",
              "      <th>4</th>\n",
              "      <td>2</td>\n",
              "      <td>§ 1</td>\n",
              "      <td>Vertragsgegenstand</td>\n",
              "      <td>§ 1 Vertragsgegenstand (1) Dieser Software-as-...</td>\n",
              "      <td>(2)</td>\n",
              "      <td>(2) Die Software wird vom Anbieter als webbasi...</td>\n",
              "      <td>1 Dieser SoftwareasaServiceVertrag ist auf On ...</td>\n",
              "      <td>2 Die Software wird vom Anbieter als webbasier...</td>\n",
              "      <td>1 dieser softwareasaservicevertrag ist auf on ...</td>\n",
              "      <td>1 Dieser softwareasaservicevertrag ist auf on ...</td>\n",
              "      <td>[1, dies, ##er, software, ##asa, ##ser, ##vic,...</td>\n",
              "      <td>2 die softwar wird vom anbiet al webbasiert sa...</td>\n",
              "      <td>2 die Software wird vom Anbieter al webbasiert...</td>\n",
              "      <td>[2, die, software, wi, ##rd, vo, ##m, an, ##bi...</td>\n",
              "    </tr>\n",
              "  </tbody>\n",
              "</table>\n",
              "</div>"
            ],
            "text/plain": [
              "   contract paragraph     paragraph_title  \\\n",
              "0         1       § 1  Vertragsgegenstand   \n",
              "1         1       § 1  Vertragsgegenstand   \n",
              "2         1       § 1  Vertragsgegenstand   \n",
              "3         2       § 1  Vertragsgegenstand   \n",
              "4         2       § 1  Vertragsgegenstand   \n",
              "\n",
              "                                   paragraph_content section  \\\n",
              "0  § 1 Vertragsgegenstand 1.1 Der Anbieter stellt...     1.1   \n",
              "1  § 1 Vertragsgegenstand 1.1 Der Anbieter stellt...     1.2   \n",
              "2  § 1 Vertragsgegenstand 1.1 Der Anbieter stellt...     1.3   \n",
              "3  § 1 Vertragsgegenstand (1) Dieser Software-as-...     (1)   \n",
              "4  § 1 Vertragsgegenstand (1) Dieser Software-as-...     (2)   \n",
              "\n",
              "                                     section_content  \\\n",
              "0  1.1 Der Anbieter stellt dem Kunden die Softwar...   \n",
              "1  1.2 Die Nutzung umfasst die Bereitstellung von...   \n",
              "2  1.3 Der Kunde erhält ausschließlich das vertra...   \n",
              "3  (1) Dieser Software-as-a-Service-Vertrag ist a...   \n",
              "4  (2) Die Software wird vom Anbieter als webbasi...   \n",
              "\n",
              "                             clean_paragraph_content  \\\n",
              "0  Der Anbieter stellt dem Kunden die Software Na...   \n",
              "1  Der Anbieter stellt dem Kunden die Software Na...   \n",
              "2  Der Anbieter stellt dem Kunden die Software Na...   \n",
              "3  1 Dieser SoftwareasaServiceVertrag ist auf On ...   \n",
              "4  1 Dieser SoftwareasaServiceVertrag ist auf On ...   \n",
              "\n",
              "                               clean_section_content  \\\n",
              "0  Der Anbieter stellt dem Kunden die Software Na...   \n",
              "1  Die Nutzung umfasst die Bereitstellung von Fun...   \n",
              "2  Der Kunde erhält ausschließlich das vertraglic...   \n",
              "3  1 Dieser SoftwareasaServiceVertrag ist auf On ...   \n",
              "4  2 Die Software wird vom Anbieter als webbasier...   \n",
              "\n",
              "                             paragraph_content_stemm  \\\n",
              "0  der anbiet stellt dem kunden die softwar name ...   \n",
              "1  der anbiet stellt dem kunden die softwar name ...   \n",
              "2  der anbiet stellt dem kunden die softwar name ...   \n",
              "3  1 dieser softwareasaservicevertrag ist auf on ...   \n",
              "4  1 dieser softwareasaservicevertrag ist auf on ...   \n",
              "\n",
              "                             paragraph_content_lemma  \\\n",
              "0  Der Anbieter stellt dem Kunden die Software Na...   \n",
              "1  Der Anbieter stellt dem Kunden die Software Na...   \n",
              "2  Der Anbieter stellt dem Kunden die Software Na...   \n",
              "3  1 Dieser softwareasaservicevertrag ist auf on ...   \n",
              "4  1 Dieser softwareasaservicevertrag ist auf on ...   \n",
              "\n",
              "                             paragraph_content_token  \\\n",
              "0  [der, an, ##bie, ##ter, ste, ##ll, ##t, dem, k...   \n",
              "1  [der, an, ##bie, ##ter, ste, ##ll, ##t, dem, k...   \n",
              "2  [der, an, ##bie, ##ter, ste, ##ll, ##t, dem, k...   \n",
              "3  [1, dies, ##er, software, ##asa, ##ser, ##vic,...   \n",
              "4  [1, dies, ##er, software, ##asa, ##ser, ##vic,...   \n",
              "\n",
              "                               section_content_stemm  \\\n",
              "0  der anbiet stellt dem kunden die softwar name ...   \n",
              "1  die nutzung umfasst die bereitstellung von fun...   \n",
              "2  der kund erhält ausschließlich da vertraglich ...   \n",
              "3  1 dieser softwareasaservicevertrag ist auf on ...   \n",
              "4  2 die softwar wird vom anbiet al webbasiert sa...   \n",
              "\n",
              "                             paragraph_section_lemma  \\\n",
              "0  Der Anbieter stellt dem Kunden die Software Na...   \n",
              "1  die Nutzung umfasst die Bereitstellung von Fun...   \n",
              "2  Der Kunde erhält ausschließlich das vertraglic...   \n",
              "3  1 Dieser softwareasaservicevertrag ist auf on ...   \n",
              "4  2 die Software wird vom Anbieter al webbasiert...   \n",
              "\n",
              "                             paragraph_section_token  \n",
              "0  [der, an, ##bie, ##ter, ste, ##ll, ##t, dem, k...  \n",
              "1  [die, nut, ##zu, ##ng, um, ##fa, ##ss, ##t, di...  \n",
              "2  [der, kun, ##de, er, ##hal, ##t, aus, ##sch, #...  \n",
              "3  [1, dies, ##er, software, ##asa, ##ser, ##vic,...  \n",
              "4  [2, die, software, wi, ##rd, vo, ##m, an, ##bi...  "
            ]
          },
          "execution_count": 2,
          "metadata": {},
          "output_type": "execute_result"
        }
      ],
      "source": [
        "path = '../data/data_clean.pkl'\n",
        "df = pd.read_pickle(path)\n",
        "df.head()\n"
      ]
    },
    {
      "cell_type": "markdown",
      "id": "8Jiy1JnY6VTp",
      "metadata": {
        "id": "8Jiy1JnY6VTp"
      },
      "source": [
        "# 1 Loading the model and tokenizer"
      ]
    },
    {
      "cell_type": "code",
      "execution_count": 3,
      "id": "wjGzGtXG5YVf",
      "metadata": {
        "id": "wjGzGtXG5YVf"
      },
      "outputs": [
        {
          "name": "stderr",
          "output_type": "stream",
          "text": [
            "Some weights of the model checkpoint at bert-base-cased were not used when initializing BertModel: ['cls.predictions.transform.LayerNorm.weight', 'cls.seq_relationship.weight', 'cls.predictions.transform.dense.weight', 'cls.predictions.transform.LayerNorm.bias', 'cls.predictions.transform.dense.bias', 'cls.seq_relationship.bias', 'cls.predictions.bias']\n",
            "- This IS expected if you are initializing BertModel from the checkpoint of a model trained on another task or with another architecture (e.g. initializing a BertForSequenceClassification model from a BertForPreTraining model).\n",
            "- This IS NOT expected if you are initializing BertModel from the checkpoint of a model that you expect to be exactly identical (initializing a BertForSequenceClassification model from a BertForSequenceClassification model).\n"
          ]
        }
      ],
      "source": [
        "bert_cased = BertTokenizer.from_pretrained('bert-base-cased')\n",
        "model = BertModel.from_pretrained('bert-base-cased')\n"
      ]
    },
    {
      "cell_type": "markdown",
      "id": "Woma71ea6dNz",
      "metadata": {
        "id": "Woma71ea6dNz"
      },
      "source": [
        "# 2. Appling the tokenizer on each of the cleand columns\n",
        "This will give us a list of token-IDs for every toeken in every entity in each coumn as a list\n"
      ]
    },
    {
      "cell_type": "markdown",
      "id": "OueLGd7P6S-a",
      "metadata": {
        "id": "OueLGd7P6S-a"
      },
      "source": []
    },
    {
      "cell_type": "code",
      "execution_count": 4,
      "id": "cT9XtK4z5rZp",
      "metadata": {
        "colab": {
          "base_uri": "https://localhost:8080/"
        },
        "id": "cT9XtK4z5rZp",
        "outputId": "86ff0bd4-f7d5-4020-a1af-473ce2b6308a"
      },
      "outputs": [
        {
          "name": "stderr",
          "output_type": "stream",
          "text": [
            "Token indices sequence length is longer than the specified maximum sequence length for this model (945 > 512). Running this sequence through the model will result in indexing errors\n"
          ]
        },
        {
          "name": "stdout",
          "output_type": "stream",
          "text": [
            "Clean content:\n",
            "0                                   Vertragsgegenstand\n",
            "1                                   Vertragsgegenstand\n",
            "2                                   Vertragsgegenstand\n",
            "3                                   Vertragsgegenstand\n",
            "4                                   Vertragsgegenstand\n",
            "5                                   Vertragsgegenstand\n",
            "6    Registrierung, Zustandekommen des Nutzungsvert...\n",
            "7    Registrierung, Zustandekommen des Nutzungsvert...\n",
            "8                          Art und Umfang der Leistung\n",
            "9                          Art und Umfang der Leistung\n",
            "Name: paragraph_title, dtype: object\n",
            "\n",
            "\n",
            "--> transformed to tokens (left out since we are using IDs):\n",
            "0     [V, ##ert, ##rag, ##s, ##ge, ##gens, ##tan, ##d]\n",
            "1     [V, ##ert, ##rag, ##s, ##ge, ##gens, ##tan, ##d]\n",
            "2     [V, ##ert, ##rag, ##s, ##ge, ##gens, ##tan, ##d]\n",
            "3     [V, ##ert, ##rag, ##s, ##ge, ##gens, ##tan, ##d]\n",
            "4     [V, ##ert, ##rag, ##s, ##ge, ##gens, ##tan, ##d]\n",
            "5     [V, ##ert, ##rag, ##s, ##ge, ##gens, ##tan, ##d]\n",
            "6    [Regis, ##tri, ##er, ##ung, ,, Z, ##ust, ##and...\n",
            "7    [Regis, ##tri, ##er, ##ung, ,, Z, ##ust, ##and...\n",
            "8    [Art, und, Um, ##fan, ##g, der, Le, ##ist, ##ung]\n",
            "9    [Art, und, Um, ##fan, ##g, der, Le, ##ist, ##ung]\n",
            "Name: tokens_paragraph_title, dtype: object\n",
            "\n",
            "\n",
            "--> transformed to Ids:\n",
            "                          bert_quick_paragraph_titel\n",
            "0  [[101, 159, 7340, 20484, 1116, 2176, 21144, 51...\n",
            "1  [[101, 159, 7340, 20484, 1116, 2176, 21144, 51...\n",
            "2  [[101, 159, 7340, 20484, 1116, 2176, 21144, 51...\n",
            "3  [[101, 159, 7340, 20484, 1116, 2176, 21144, 51...\n",
            "4  [[101, 159, 7340, 20484, 1116, 2176, 21144, 51...\n",
            "5  [[101, 159, 7340, 20484, 1116, 2176, 21144, 51...\n",
            "6  [[101, 25510, 19091, 1200, 4380, 117, 163, 895...\n",
            "7  [[101, 25510, 19091, 1200, 4380, 117, 163, 895...\n",
            "8  [[101, 2051, 5576, 12189, 16740, 1403, 4167, 3...\n",
            "9  [[101, 2051, 5576, 12189, 16740, 1403, 4167, 3...\n"
          ]
        }
      ],
      "source": [
        "df['tokens_paragraph_title'] = df['paragraph_title'].apply(lambda x: bert_cased.tokenize(str(x)))\n",
        "df['bert_quick_paragraph_titel']=df['paragraph_title'].apply(lambda x: [bert_cased.encode(x)])\n",
        "df['bert_quick_paragraph_content']=df['clean_paragraph_content'].apply(lambda x: [bert_cased.encode(x)])\n",
        "df['bert_quick_section_content']=df['clean_section_content'].apply(lambda x: [bert_cased.encode(x)])\n",
        "print(\"Clean content:\")\n",
        "print(df[\"paragraph_title\"][0:10])\n",
        "print(\"\\n\\n--> transformed to tokens (left out since we are using IDs):\")\n",
        "print(df['tokens_paragraph_title'][0:10])\n",
        "print(\"\\n\\n--> transformed to Ids:\")\n",
        "print(df[[\"bert_quick_paragraph_titel\"]][0:10])"
      ]
    },
    {
      "cell_type": "markdown",
      "id": "_7on7l1l-7BQ",
      "metadata": {
        "id": "_7on7l1l-7BQ"
      },
      "source": [
        "Since Bert needs torch-tensors we simmply transform the lsit to torch tensors:\n"
      ]
    },
    {
      "cell_type": "code",
      "execution_count": 5,
      "id": "y_czTZI9_DqR",
      "metadata": {
        "colab": {
          "base_uri": "https://localhost:8080/"
        },
        "id": "y_czTZI9_DqR",
        "outputId": "7c1f0ec3-5978-4b19-8ccb-f3c72d38d903"
      },
      "outputs": [
        {
          "name": "stdout",
          "output_type": "stream",
          "text": [
            "torch tensor for \"Vertragsgegenstand\":\n",
            "tensor([[  101,   159,  7340, 20484,  1116,  2176, 21144,  5108,  1181,   102]])\n"
          ]
        }
      ],
      "source": [
        "inputs_paragraph_title = df['bert_quick_paragraph_titel'].apply(lambda x: torch.tensor(x))\n",
        "inputs_paragraph_content = df['bert_quick_paragraph_content'].apply(lambda x: torch.tensor(x))\n",
        "inputs_section_content = df['bert_quick_section_content'].apply(lambda x: torch.tensor(x))\n",
        "print(f'torch tensor for \"{df[\"paragraph_title\"][1]}\":')\n",
        "print(inputs_paragraph_title[1])"
      ]
    },
    {
      "cell_type": "markdown",
      "id": "e7t_MnHjArcP",
      "metadata": {
        "id": "e7t_MnHjArcP"
      },
      "source": [
        "# 3. Structure of the model\n",
        "## 3.1 Word embeddings"
      ]
    },
    {
      "cell_type": "code",
      "execution_count": 6,
      "id": "Ye8f6q1eAozO",
      "metadata": {
        "colab": {
          "base_uri": "https://localhost:8080/"
        },
        "id": "Ye8f6q1eAozO",
        "outputId": "9d28c7f1-980c-4943-9f67-495d5c205ce2"
      },
      "outputs": [
        {
          "name": "stdout",
          "output_type": "stream",
          "text": [
            "Embedding(28996, 768, padding_idx=0)\n",
            "--> 28996 tokens in the vocabulary\n",
            "--> 768 dimensions per emabding verctor\n"
          ]
        }
      ],
      "source": [
        "print(model.embeddings.word_embeddings)\n",
        "print(f'--> {model.embeddings.word_embeddings.weight.shape[0]} tokens in the vocabulary')\n",
        "print(f'--> {model.embeddings.word_embeddings.weight.shape[1]} dimensions per emabding verctor')"
      ]
    },
    {
      "cell_type": "markdown",
      "id": "-4U-HeFICDtq",
      "metadata": {
        "id": "-4U-HeFICDtq"
      },
      "source": [
        "## 3.2 Position embeddings"
      ]
    },
    {
      "cell_type": "code",
      "execution_count": 7,
      "id": "gJbvvG5eA62q",
      "metadata": {
        "colab": {
          "base_uri": "https://localhost:8080/"
        },
        "id": "gJbvvG5eA62q",
        "outputId": "a891a34a-b5da-4515-999c-eb7f005a3659"
      },
      "outputs": [
        {
          "name": "stdout",
          "output_type": "stream",
          "text": [
            "Embedding(512, 768)\n",
            "--> 512 maximum chunk length\n",
            "--> 768 dimensions per emabding verctor\n"
          ]
        }
      ],
      "source": [
        "print(model.embeddings.position_embeddings)\n",
        "print(f'--> {model.embeddings.position_embeddings.weight.shape[0]} maximum chunk length')\n",
        "print(f'--> {model.embeddings.position_embeddings.weight.shape[1]} dimensions per emabding verctor')"
      ]
    },
    {
      "cell_type": "markdown",
      "id": "W6TF3prjC3j9",
      "metadata": {
        "id": "W6TF3prjC3j9"
      },
      "source": [
        "## 3.3 Transformer Layers"
      ]
    },
    {
      "cell_type": "code",
      "execution_count": 8,
      "id": "bHXBLDIuA7C3",
      "metadata": {
        "colab": {
          "base_uri": "https://localhost:8080/"
        },
        "id": "bHXBLDIuA7C3",
        "outputId": "e3a76d29-7e2a-4402-87a0-7bbd91fd0da3"
      },
      "outputs": [
        {
          "name": "stdout",
          "output_type": "stream",
          "text": [
            "12\n",
            "--> Number of transformer layers\n"
          ]
        }
      ],
      "source": [
        "print(len(model.encoder.layer))\n",
        "print('--> Number of transformer layers')"
      ]
    },
    {
      "cell_type": "markdown",
      "id": "ULZEdI-CDAfx",
      "metadata": {
        "id": "ULZEdI-CDAfx"
      },
      "source": [
        "## 3.4 Structure of the first layer\n",
        "TO BE DONE\n"
      ]
    },
    {
      "cell_type": "code",
      "execution_count": 9,
      "id": "V4Kt2GbmA7Mz",
      "metadata": {
        "colab": {
          "base_uri": "https://localhost:8080/"
        },
        "id": "V4Kt2GbmA7Mz",
        "outputId": "553ba2de-93b9-4d31-dbc7-6bf6b5788583"
      },
      "outputs": [
        {
          "name": "stdout",
          "output_type": "stream",
          "text": [
            "BertLayer(\n",
            "  (attention): BertAttention(\n",
            "    (self): BertSelfAttention(\n",
            "      (query): Linear(in_features=768, out_features=768, bias=True)\n",
            "      (key): Linear(in_features=768, out_features=768, bias=True)\n",
            "      (value): Linear(in_features=768, out_features=768, bias=True)\n",
            "      (dropout): Dropout(p=0.1, inplace=False)\n",
            "    )\n",
            "    (output): BertSelfOutput(\n",
            "      (dense): Linear(in_features=768, out_features=768, bias=True)\n",
            "      (LayerNorm): LayerNorm((768,), eps=1e-12, elementwise_affine=True)\n",
            "      (dropout): Dropout(p=0.1, inplace=False)\n",
            "    )\n",
            "  )\n",
            "  (intermediate): BertIntermediate(\n",
            "    (dense): Linear(in_features=768, out_features=3072, bias=True)\n",
            "    (intermediate_act_fn): GELUActivation()\n",
            "  )\n",
            "  (output): BertOutput(\n",
            "    (dense): Linear(in_features=3072, out_features=768, bias=True)\n",
            "    (LayerNorm): LayerNorm((768,), eps=1e-12, elementwise_affine=True)\n",
            "    (dropout): Dropout(p=0.1, inplace=False)\n",
            "  )\n",
            ")\n"
          ]
        }
      ],
      "source": [
        "print(model.encoder.layer[0])"
      ]
    },
    {
      "cell_type": "markdown",
      "id": "dEC1jwrUFRZf",
      "metadata": {
        "id": "dEC1jwrUFRZf"
      },
      "source": [
        "## 3.5 Pooler\n",
        "TO BE DONE"
      ]
    },
    {
      "cell_type": "code",
      "execution_count": 10,
      "id": "eMJnxwHXBCZV",
      "metadata": {
        "colab": {
          "base_uri": "https://localhost:8080/"
        },
        "id": "eMJnxwHXBCZV",
        "outputId": "79840f9c-11bc-4d10-dc7f-a7cfb908a4d8"
      },
      "outputs": [
        {
          "name": "stdout",
          "output_type": "stream",
          "text": [
            "BertPooler(\n",
            "  (dense): Linear(in_features=768, out_features=768, bias=True)\n",
            "  (activation): Tanh()\n",
            ")\n"
          ]
        }
      ],
      "source": [
        "print(model.pooler)"
      ]
    },
    {
      "cell_type": "markdown",
      "id": "81zvZ0l7HXvt",
      "metadata": {
        "id": "81zvZ0l7HXvt"
      },
      "source": [
        "# 4. First run of BERT\n"
      ]
    },
    {
      "cell_type": "code",
      "execution_count": 11,
      "id": "iI5Wn5amHxFw",
      "metadata": {
        "colab": {
          "base_uri": "https://localhost:8080/",
          "height": 369
        },
        "id": "iI5Wn5amHxFw",
        "outputId": "13176a90-ba69-491b-c9a8-6508d6eb3f90"
      },
      "outputs": [
        {
          "name": "stdout",
          "output_type": "stream",
          "text": [
            "(1, 10, 768)\n",
            "--> 1st input has 1 sentence and 10 tokens with 768-dimanisonal embeddings\n",
            "(768,)\n",
            "--> the CLS-Token (for the sentence) has a 768-dimensional embedding\n"
          ]
        }
      ],
      "source": [
        "with torch.no_grad():\n",
        " outputs = model(inputs_paragraph_title[0] , output_attentions=True)\n",
        " embeddings_all = outputs.last_hidden_state.numpy()\n",
        " embeddings = outputs.last_hidden_state[0] [0].numpy()\n",
        "\n",
        "print(embeddings_all.shape)\n",
        "print(f\"--> 1st input has {embeddings_all.shape[0]} sentence and {embeddings_all.shape[1]} tokens with {embeddings_all.shape[2]}-dimanisonal embeddings\")\n",
        "print(embeddings.shape)\n",
        "print(f\"--> the CLS-Token (for the sentence) has a {embeddings.shape[0]}-dimensional embedding\")\n"
      ]
    },
    {
      "cell_type": "markdown",
      "id": "fPyW_f5yL4Hb",
      "metadata": {
        "id": "fPyW_f5yL4Hb"
      },
      "source": [
        "# 4.1 Attentionsheads of BERT\n",
        "\n"
      ]
    },
    {
      "cell_type": "code",
      "execution_count": 12,
      "id": "7sTCa5kkL3BR",
      "metadata": {
        "colab": {
          "base_uri": "https://localhost:8080/",
          "height": 294
        },
        "id": "7sTCa5kkL3BR",
        "outputId": "f77392e7-4705-4a2d-f0cb-12c5b9f06eee"
      },
      "outputs": [],
      "source": [
        "attention_weights = outputs.attentions\n",
        "#head_view(attention_weights,\n",
        "#tokens=bert_cased.convert_ids_to_tokens(inputs_paragraph_title[0][0]))"
      ]
    },
    {
      "cell_type": "markdown",
      "id": "638RUlziTkxM",
      "metadata": {
        "id": "638RUlziTkxM"
      },
      "source": [
        "## 4.2 Calculation of the CLS ebadings in BERT"
      ]
    },
    {
      "cell_type": "code",
      "execution_count": 13,
      "id": "hcR8UgZOQyw0",
      "metadata": {
        "id": "hcR8UgZOQyw0"
      },
      "outputs": [
        {
          "name": "stdout",
          "output_type": "stream",
          "text": [
            "First 10 dimensions of the BERT-embedding of the first sentence:\n",
            "[ 0.37478444  0.08961619 -0.12682843 -0.26694623 -0.05042052  0.10338262\n",
            "  0.34543043 -0.09266957 -0.0877476 ]\n"
          ]
        }
      ],
      "source": [
        "def prepare_apply_model(tokenizer, text, model):\n",
        "  input=torch.tensor([tokenizer.encode(text)])\n",
        "  with torch.no_grad():\n",
        "   outputs = model(input)\n",
        "  embeddings = outputs.last_hidden_state[0][0].numpy()\n",
        "  return embeddings\n",
        "\n",
        "bert_1st_emb = prepare_apply_model(bert_cased, df[\"paragraph_title\"].loc[0], model)\n",
        "print(\"First 10 dimensions of the BERT-embedding of the first sentence:\")\n",
        "print(bert_1st_emb[0:9])"
      ]
    },
    {
      "cell_type": "markdown",
      "id": "v03MHfKockrV",
      "metadata": {
        "id": "v03MHfKockrV"
      },
      "source": [
        "# 4. First run of SBERT"
      ]
    },
    {
      "cell_type": "code",
      "execution_count": 14,
      "id": "x-muQvVGR4d6",
      "metadata": {
        "id": "x-muQvVGR4d6"
      },
      "outputs": [
        {
          "name": "stderr",
          "output_type": "stream",
          "text": [
            "Some weights of the model checkpoint at bert-base-uncased were not used when initializing BertModel: ['cls.predictions.transform.LayerNorm.weight', 'cls.seq_relationship.weight', 'cls.predictions.transform.dense.weight', 'cls.predictions.transform.LayerNorm.bias', 'cls.predictions.transform.dense.bias', 'cls.seq_relationship.bias', 'cls.predictions.bias']\n",
            "- This IS expected if you are initializing BertModel from the checkpoint of a model trained on another task or with another architecture (e.g. initializing a BertForSequenceClassification model from a BertForPreTraining model).\n",
            "- This IS NOT expected if you are initializing BertModel from the checkpoint of a model that you expect to be exactly identical (initializing a BertForSequenceClassification model from a BertForSequenceClassification model).\n"
          ]
        }
      ],
      "source": [
        "from sentence_transformers import SentenceTransformer, models\n",
        "\n",
        "# 1. Transformer-Basis (BERT)\n",
        "word_embedding_model = models.Transformer(\"bert-base-uncased\", max_seq_length=512)\n",
        "\n",
        "# 2. CLS-Pooling-Schicht\n",
        "pooling_model = models.Pooling(\n",
        "    word_embedding_model.get_word_embedding_dimension(),\n",
        "    pooling_mode_cls_token=True,           # ✅ CLS\n",
        "    pooling_mode_mean_tokens=False,\n",
        "    pooling_mode_max_tokens=False,\n",
        ")\n",
        "\n",
        "# 3. Zusammenführen\n",
        "model_sbert_bert = SentenceTransformer(modules=[word_embedding_model, pooling_model])\n",
        "\n"
      ]
    },
    {
      "cell_type": "code",
      "execution_count": 15,
      "id": "rNFIxzstZr-B",
      "metadata": {
        "colab": {
          "base_uri": "https://localhost:8080/"
        },
        "id": "rNFIxzstZr-B",
        "outputId": "ed39898d-cfc3-4e84-e3ba-3ea36bd3cab5"
      },
      "outputs": [
        {
          "name": "stdout",
          "output_type": "stream",
          "text": [
            "torch.Size([768])\n",
            "--> The sentence vector has 768 dimensionen.\n"
          ]
        }
      ],
      "source": [
        "\n",
        "embedding = model_sbert_bert.encode(df[\"paragraph_title\"][0], convert_to_tensor=True)\n",
        "\n",
        "print(embedding.shape)\n",
        "print(f\"--> The sentence vector has {embedding.shape[0]} dimensionen.\")"
      ]
    },
    {
      "cell_type": "code",
      "execution_count": 16,
      "id": "zztL8lyrcvSN",
      "metadata": {
        "colab": {
          "base_uri": "https://localhost:8080/"
        },
        "id": "zztL8lyrcvSN",
        "outputId": "5c271b10-9acb-49f2-d32b-cf1241e8d2e9"
      },
      "outputs": [
        {
          "name": "stdout",
          "output_type": "stream",
          "text": [
            "First 10 dimensions of the BERT-embedding of the paragraph title:\n",
            "[ 0.37478444  0.08961619 -0.12682843 -0.26694623 -0.05042052  0.10338262\n",
            "  0.34543043 -0.09266957 -0.0877476 ]\n",
            "\n",
            "     VS.     \n",
            "\n",
            "First 10 dimensions of the SBERT-embedding of the first paragraph title:\n",
            "[-0.82493776  0.37236705 -0.21789166 -0.40293398 -0.21098825  0.22682333\n",
            "  0.41178384  0.4108907  -0.5003056 ]\n",
            "\n",
            "\n",
            "-->The embeddings for BERT's sentence vector and SBERT's vector are not equal!\n"
          ]
        }
      ],
      "source": [
        "def prepare_apply_model_SBERT(model, text):\n",
        "  with torch.no_grad():\n",
        "    embeddings = model.encode(text, convert_to_tensor=True)\n",
        "  return embeddings\n",
        "s_bert_1st_emb = prepare_apply_model_SBERT(model_sbert_bert, df[\"paragraph_title\"].loc[0]).numpy()\n",
        "print(\"First 10 dimensions of the BERT-embedding of the paragraph title:\")\n",
        "print(bert_1st_emb[0:9])\n",
        "print(\"\\n     VS.     \\n\\nFirst 10 dimensions of the SBERT-embedding of the first paragraph title:\")\n",
        "print(s_bert_1st_emb[0:9])\n",
        "are_equal = np.array_equal(s_bert_1st_emb, bert_1st_emb)\n",
        "\n",
        "print(f\"\\n\\n-->The embeddings for BERT's sentence vector and SBERT's vector are {'equal' if are_equal else 'not equal'}!\")"
      ]
    },
    {
      "cell_type": "markdown",
      "id": "MHh_ydf0ml5i",
      "metadata": {
        "id": "MHh_ydf0ml5i"
      },
      "source": [
        "Since SBERT is Finetuned for recognizing semantic similarity for Sentences and paragraphs we want to use SBERT as a model. How ever we need to adjust the underlaying model so that it can fit better to german contract langauge."
      ]
    },
    {
      "cell_type": "markdown",
      "id": "Z5Wm8gdssE7p",
      "metadata": {
        "id": "Z5Wm8gdssE7p"
      },
      "source": [
        "# 5 Loading the GERMAN model and tokenizer"
      ]
    },
    {
      "cell_type": "code",
      "execution_count": 17,
      "id": "5wYD1_8msE7p",
      "metadata": {
        "id": "5wYD1_8msE7p"
      },
      "outputs": [
        {
          "name": "stderr",
          "output_type": "stream",
          "text": [
            "Some weights of the model checkpoint at deepset/gbert-base were not used when initializing BertModel: ['cls.predictions.transform.LayerNorm.weight', 'cls.seq_relationship.weight', 'cls.predictions.transform.dense.weight', 'cls.predictions.transform.LayerNorm.bias', 'cls.predictions.transform.dense.bias', 'cls.seq_relationship.bias', 'cls.predictions.bias']\n",
            "- This IS expected if you are initializing BertModel from the checkpoint of a model trained on another task or with another architecture (e.g. initializing a BertForSequenceClassification model from a BertForPreTraining model).\n",
            "- This IS NOT expected if you are initializing BertModel from the checkpoint of a model that you expect to be exactly identical (initializing a BertForSequenceClassification model from a BertForSequenceClassification model).\n"
          ]
        }
      ],
      "source": [
        "g_bert_cased = BertTokenizer.from_pretrained('deepset/gbert-base')\n",
        "model_g_bert = BertModel.from_pretrained('deepset/gbert-base')\n"
      ]
    },
    {
      "cell_type": "markdown",
      "id": "dTSvNP_tsE7q",
      "metadata": {
        "id": "dTSvNP_tsE7q"
      },
      "source": [
        "# 7. Comparison GERMAN-BERT & generic BERT\n",
        "This will give us a list of token-IDs for every toeken in every entity in each coumn as a list\n"
      ]
    },
    {
      "cell_type": "markdown",
      "id": "_54ipDJusE7q",
      "metadata": {
        "id": "_54ipDJusE7q"
      },
      "source": []
    },
    {
      "cell_type": "code",
      "execution_count": 18,
      "id": "BPz9K9kHsE7q",
      "metadata": {
        "colab": {
          "base_uri": "https://localhost:8080/",
          "height": 1000
        },
        "id": "BPz9K9kHsE7q",
        "outputId": "b35b123c-a1a7-4977-b03d-18c267638eec"
      },
      "outputs": [
        {
          "name": "stderr",
          "output_type": "stream",
          "text": [
            "Token indices sequence length is longer than the specified maximum sequence length for this model (550 > 512). Running this sequence through the model will result in indexing errors\n"
          ]
        },
        {
          "name": "stdout",
          "output_type": "stream",
          "text": [
            "Clean content:\n"
          ]
        },
        {
          "data": {
            "text/plain": [
              "0                                   Vertragsgegenstand\n",
              "1                                   Vertragsgegenstand\n",
              "2                                   Vertragsgegenstand\n",
              "3                                   Vertragsgegenstand\n",
              "4                                   Vertragsgegenstand\n",
              "5                                   Vertragsgegenstand\n",
              "6    Registrierung, Zustandekommen des Nutzungsvert...\n",
              "7    Registrierung, Zustandekommen des Nutzungsvert...\n",
              "8                          Art und Umfang der Leistung\n",
              "9                          Art und Umfang der Leistung\n",
              "Name: paragraph_title, dtype: object"
            ]
          },
          "metadata": {},
          "output_type": "display_data"
        },
        {
          "name": "stdout",
          "output_type": "stream",
          "text": [
            "\n",
            "\n",
            "--> transformed to tokens (left out since we are using IDs):\n"
          ]
        },
        {
          "data": {
            "text/html": [
              "<div>\n",
              "<style scoped>\n",
              "    .dataframe tbody tr th:only-of-type {\n",
              "        vertical-align: middle;\n",
              "    }\n",
              "\n",
              "    .dataframe tbody tr th {\n",
              "        vertical-align: top;\n",
              "    }\n",
              "\n",
              "    .dataframe thead th {\n",
              "        text-align: right;\n",
              "    }\n",
              "</style>\n",
              "<table border=\"1\" class=\"dataframe\">\n",
              "  <thead>\n",
              "    <tr style=\"text-align: right;\">\n",
              "      <th></th>\n",
              "      <th>tokens_paragraph_title_gbert</th>\n",
              "      <th>tokens_paragraph_title</th>\n",
              "    </tr>\n",
              "  </thead>\n",
              "  <tbody>\n",
              "    <tr>\n",
              "      <th>0</th>\n",
              "      <td>[Vertrags, ##gegen, ##stand]</td>\n",
              "      <td>[V, ##ert, ##rag, ##s, ##ge, ##gens, ##tan, ##d]</td>\n",
              "    </tr>\n",
              "    <tr>\n",
              "      <th>1</th>\n",
              "      <td>[Vertrags, ##gegen, ##stand]</td>\n",
              "      <td>[V, ##ert, ##rag, ##s, ##ge, ##gens, ##tan, ##d]</td>\n",
              "    </tr>\n",
              "    <tr>\n",
              "      <th>2</th>\n",
              "      <td>[Vertrags, ##gegen, ##stand]</td>\n",
              "      <td>[V, ##ert, ##rag, ##s, ##ge, ##gens, ##tan, ##d]</td>\n",
              "    </tr>\n",
              "    <tr>\n",
              "      <th>3</th>\n",
              "      <td>[Vertrags, ##gegen, ##stand]</td>\n",
              "      <td>[V, ##ert, ##rag, ##s, ##ge, ##gens, ##tan, ##d]</td>\n",
              "    </tr>\n",
              "    <tr>\n",
              "      <th>4</th>\n",
              "      <td>[Vertrags, ##gegen, ##stand]</td>\n",
              "      <td>[V, ##ert, ##rag, ##s, ##ge, ##gens, ##tan, ##d]</td>\n",
              "    </tr>\n",
              "    <tr>\n",
              "      <th>5</th>\n",
              "      <td>[Vertrags, ##gegen, ##stand]</td>\n",
              "      <td>[V, ##ert, ##rag, ##s, ##ge, ##gens, ##tan, ##d]</td>\n",
              "    </tr>\n",
              "    <tr>\n",
              "      <th>6</th>\n",
              "      <td>[Registrierung, ,, Zustand, ##ek, ##ommen, des, Nutzungs, ##vertrags]</td>\n",
              "      <td>[Regis, ##tri, ##er, ##ung, ,, Z, ##ust, ##and, ##ek, ##om, ##men, des, N, ##utz, ##ung, ##s, ##vert, ##rag, ##s]</td>\n",
              "    </tr>\n",
              "    <tr>\n",
              "      <th>7</th>\n",
              "      <td>[Registrierung, ,, Zustand, ##ek, ##ommen, des, Nutzungs, ##vertrags]</td>\n",
              "      <td>[Regis, ##tri, ##er, ##ung, ,, Z, ##ust, ##and, ##ek, ##om, ##men, des, N, ##utz, ##ung, ##s, ##vert, ##rag, ##s]</td>\n",
              "    </tr>\n",
              "    <tr>\n",
              "      <th>8</th>\n",
              "      <td>[Art, und, Umfang, der, Leistung]</td>\n",
              "      <td>[Art, und, Um, ##fan, ##g, der, Le, ##ist, ##ung]</td>\n",
              "    </tr>\n",
              "    <tr>\n",
              "      <th>9</th>\n",
              "      <td>[Art, und, Umfang, der, Leistung]</td>\n",
              "      <td>[Art, und, Um, ##fan, ##g, der, Le, ##ist, ##ung]</td>\n",
              "    </tr>\n",
              "  </tbody>\n",
              "</table>\n",
              "</div>"
            ],
            "text/plain": [
              "                                            tokens_paragraph_title_gbert  \\\n",
              "0                                           [Vertrags, ##gegen, ##stand]   \n",
              "1                                           [Vertrags, ##gegen, ##stand]   \n",
              "2                                           [Vertrags, ##gegen, ##stand]   \n",
              "3                                           [Vertrags, ##gegen, ##stand]   \n",
              "4                                           [Vertrags, ##gegen, ##stand]   \n",
              "5                                           [Vertrags, ##gegen, ##stand]   \n",
              "6  [Registrierung, ,, Zustand, ##ek, ##ommen, des, Nutzungs, ##vertrags]   \n",
              "7  [Registrierung, ,, Zustand, ##ek, ##ommen, des, Nutzungs, ##vertrags]   \n",
              "8                                      [Art, und, Umfang, der, Leistung]   \n",
              "9                                      [Art, und, Umfang, der, Leistung]   \n",
              "\n",
              "                                                                                              tokens_paragraph_title  \n",
              "0                                                                   [V, ##ert, ##rag, ##s, ##ge, ##gens, ##tan, ##d]  \n",
              "1                                                                   [V, ##ert, ##rag, ##s, ##ge, ##gens, ##tan, ##d]  \n",
              "2                                                                   [V, ##ert, ##rag, ##s, ##ge, ##gens, ##tan, ##d]  \n",
              "3                                                                   [V, ##ert, ##rag, ##s, ##ge, ##gens, ##tan, ##d]  \n",
              "4                                                                   [V, ##ert, ##rag, ##s, ##ge, ##gens, ##tan, ##d]  \n",
              "5                                                                   [V, ##ert, ##rag, ##s, ##ge, ##gens, ##tan, ##d]  \n",
              "6  [Regis, ##tri, ##er, ##ung, ,, Z, ##ust, ##and, ##ek, ##om, ##men, des, N, ##utz, ##ung, ##s, ##vert, ##rag, ##s]  \n",
              "7  [Regis, ##tri, ##er, ##ung, ,, Z, ##ust, ##and, ##ek, ##om, ##men, des, N, ##utz, ##ung, ##s, ##vert, ##rag, ##s]  \n",
              "8                                                                  [Art, und, Um, ##fan, ##g, der, Le, ##ist, ##ung]  \n",
              "9                                                                  [Art, und, Um, ##fan, ##g, der, Le, ##ist, ##ung]  "
            ]
          },
          "metadata": {},
          "output_type": "display_data"
        },
        {
          "name": "stdout",
          "output_type": "stream",
          "text": [
            "\n",
            "\n",
            "--> transformed to Ids:\n"
          ]
        },
        {
          "data": {
            "text/html": [
              "<div>\n",
              "<style scoped>\n",
              "    .dataframe tbody tr th:only-of-type {\n",
              "        vertical-align: middle;\n",
              "    }\n",
              "\n",
              "    .dataframe tbody tr th {\n",
              "        vertical-align: top;\n",
              "    }\n",
              "\n",
              "    .dataframe thead th {\n",
              "        text-align: right;\n",
              "    }\n",
              "</style>\n",
              "<table border=\"1\" class=\"dataframe\">\n",
              "  <thead>\n",
              "    <tr style=\"text-align: right;\">\n",
              "      <th></th>\n",
              "      <th>gbert_quick_paragraph_titel</th>\n",
              "      <th>bert_quick_paragraph_titel</th>\n",
              "    </tr>\n",
              "  </thead>\n",
              "  <tbody>\n",
              "    <tr>\n",
              "      <th>0</th>\n",
              "      <td>[[102, 7545, 1789, 858, 103]]</td>\n",
              "      <td>[[101, 159, 7340, 20484, 1116, 2176, 21144, 5108, 1181, 102]]</td>\n",
              "    </tr>\n",
              "    <tr>\n",
              "      <th>1</th>\n",
              "      <td>[[102, 7545, 1789, 858, 103]]</td>\n",
              "      <td>[[101, 159, 7340, 20484, 1116, 2176, 21144, 5108, 1181, 102]]</td>\n",
              "    </tr>\n",
              "    <tr>\n",
              "      <th>2</th>\n",
              "      <td>[[102, 7545, 1789, 858, 103]]</td>\n",
              "      <td>[[101, 159, 7340, 20484, 1116, 2176, 21144, 5108, 1181, 102]]</td>\n",
              "    </tr>\n",
              "    <tr>\n",
              "      <th>3</th>\n",
              "      <td>[[102, 7545, 1789, 858, 103]]</td>\n",
              "      <td>[[101, 159, 7340, 20484, 1116, 2176, 21144, 5108, 1181, 102]]</td>\n",
              "    </tr>\n",
              "    <tr>\n",
              "      <th>4</th>\n",
              "      <td>[[102, 7545, 1789, 858, 103]]</td>\n",
              "      <td>[[101, 159, 7340, 20484, 1116, 2176, 21144, 5108, 1181, 102]]</td>\n",
              "    </tr>\n",
              "    <tr>\n",
              "      <th>5</th>\n",
              "      <td>[[102, 7545, 1789, 858, 103]]</td>\n",
              "      <td>[[101, 159, 7340, 20484, 1116, 2176, 21144, 5108, 1181, 102]]</td>\n",
              "    </tr>\n",
              "    <tr>\n",
              "      <th>6</th>\n",
              "      <td>[[102, 18304, 818, 6432, 1201, 444, 222, 18542, 26381, 103]]</td>\n",
              "      <td>[[101, 25510, 19091, 1200, 4380, 117, 163, 8954, 5709, 4820, 4165, 2354, 3532, 151, 27578, 4380, 1116, 12986, 20484, 1116, 102]]</td>\n",
              "    </tr>\n",
              "    <tr>\n",
              "      <th>7</th>\n",
              "      <td>[[102, 18304, 818, 6432, 1201, 444, 222, 18542, 26381, 103]]</td>\n",
              "      <td>[[101, 25510, 19091, 1200, 4380, 117, 163, 8954, 5709, 4820, 4165, 2354, 3532, 151, 27578, 4380, 1116, 12986, 20484, 1116, 102]]</td>\n",
              "    </tr>\n",
              "    <tr>\n",
              "      <th>8</th>\n",
              "      <td>[[102, 1622, 136, 7661, 125, 4970, 103]]</td>\n",
              "      <td>[[101, 2051, 5576, 12189, 16740, 1403, 4167, 3180, 1776, 4380, 102]]</td>\n",
              "    </tr>\n",
              "    <tr>\n",
              "      <th>9</th>\n",
              "      <td>[[102, 1622, 136, 7661, 125, 4970, 103]]</td>\n",
              "      <td>[[101, 2051, 5576, 12189, 16740, 1403, 4167, 3180, 1776, 4380, 102]]</td>\n",
              "    </tr>\n",
              "  </tbody>\n",
              "</table>\n",
              "</div>"
            ],
            "text/plain": [
              "                                    gbert_quick_paragraph_titel  \\\n",
              "0                                 [[102, 7545, 1789, 858, 103]]   \n",
              "1                                 [[102, 7545, 1789, 858, 103]]   \n",
              "2                                 [[102, 7545, 1789, 858, 103]]   \n",
              "3                                 [[102, 7545, 1789, 858, 103]]   \n",
              "4                                 [[102, 7545, 1789, 858, 103]]   \n",
              "5                                 [[102, 7545, 1789, 858, 103]]   \n",
              "6  [[102, 18304, 818, 6432, 1201, 444, 222, 18542, 26381, 103]]   \n",
              "7  [[102, 18304, 818, 6432, 1201, 444, 222, 18542, 26381, 103]]   \n",
              "8                      [[102, 1622, 136, 7661, 125, 4970, 103]]   \n",
              "9                      [[102, 1622, 136, 7661, 125, 4970, 103]]   \n",
              "\n",
              "                                                                                                         bert_quick_paragraph_titel  \n",
              "0                                                                     [[101, 159, 7340, 20484, 1116, 2176, 21144, 5108, 1181, 102]]  \n",
              "1                                                                     [[101, 159, 7340, 20484, 1116, 2176, 21144, 5108, 1181, 102]]  \n",
              "2                                                                     [[101, 159, 7340, 20484, 1116, 2176, 21144, 5108, 1181, 102]]  \n",
              "3                                                                     [[101, 159, 7340, 20484, 1116, 2176, 21144, 5108, 1181, 102]]  \n",
              "4                                                                     [[101, 159, 7340, 20484, 1116, 2176, 21144, 5108, 1181, 102]]  \n",
              "5                                                                     [[101, 159, 7340, 20484, 1116, 2176, 21144, 5108, 1181, 102]]  \n",
              "6  [[101, 25510, 19091, 1200, 4380, 117, 163, 8954, 5709, 4820, 4165, 2354, 3532, 151, 27578, 4380, 1116, 12986, 20484, 1116, 102]]  \n",
              "7  [[101, 25510, 19091, 1200, 4380, 117, 163, 8954, 5709, 4820, 4165, 2354, 3532, 151, 27578, 4380, 1116, 12986, 20484, 1116, 102]]  \n",
              "8                                                              [[101, 2051, 5576, 12189, 16740, 1403, 4167, 3180, 1776, 4380, 102]]  \n",
              "9                                                              [[101, 2051, 5576, 12189, 16740, 1403, 4167, 3180, 1776, 4380, 102]]  "
            ]
          },
          "metadata": {},
          "output_type": "display_data"
        }
      ],
      "source": [
        "df['tokens_paragraph_title_gbert'] = df['paragraph_title'].apply(lambda x: g_bert_cased.tokenize(str(x)))\n",
        "df['gbert_quick_paragraph_titel']=df['paragraph_title'].apply(lambda x: [g_bert_cased.encode(x)])\n",
        "df['gbert_quick_paragraph_content']=df['clean_paragraph_content'].apply(lambda x: [g_bert_cased.encode(x)])\n",
        "df['gbert_quick_section_content']=df['clean_section_content'].apply(lambda x: [g_bert_cased.encode(x)])\n",
        "print(\"Clean content:\")\n",
        "display(df[\"paragraph_title\"][0:10])\n",
        "print(\"\\n\\n--> transformed to tokens (left out since we are using IDs):\")\n",
        "pd.set_option('display.max_colwidth', None)\n",
        "display(df[[ 'tokens_paragraph_title_gbert','tokens_paragraph_title']].head(10))\n",
        "print(\"\\n\\n--> transformed to Ids:\")\n",
        "display(df[[ \"gbert_quick_paragraph_titel\",\"bert_quick_paragraph_titel\"]].head(10))"
      ]
    },
    {
      "cell_type": "markdown",
      "id": "pe-zuAwysE7r",
      "metadata": {
        "id": "pe-zuAwysE7r"
      },
      "source": [
        "Since Bert needs torch-tensors we simmply transform the lsit to torch tensors:\n"
      ]
    },
    {
      "cell_type": "code",
      "execution_count": 19,
      "id": "67m55kRgsE7r",
      "metadata": {
        "colab": {
          "base_uri": "https://localhost:8080/"
        },
        "id": "67m55kRgsE7r",
        "outputId": "e16d8694-fbcc-443e-942a-e24f003b6738"
      },
      "outputs": [
        {
          "name": "stdout",
          "output_type": "stream",
          "text": [
            "Leagal torch tensor for \"Vertragsgegenstand\":\n",
            "tensor([[ 102, 7545, 1789,  858,  103]])\n"
          ]
        }
      ],
      "source": [
        "inputs_paragraph_title_gbert = df['gbert_quick_paragraph_titel'].apply(lambda x: torch.tensor(x))\n",
        "inputs_paragraph_content_gbert = df['gbert_quick_paragraph_content'].apply(lambda x: torch.tensor(x))\n",
        "inputs_section_content_gbert = df['gbert_quick_section_content'].apply(lambda x: torch.tensor(x))\n",
        "print(f'Leagal torch tensor for \"{df[\"paragraph_title\"][1]}\":')\n",
        "print(inputs_paragraph_title_gbert[1])"
      ]
    },
    {
      "cell_type": "markdown",
      "id": "yG1tsPMDsE7r",
      "metadata": {
        "id": "yG1tsPMDsE7r"
      },
      "source": [
        "# 8. Structure of the german model\n",
        "## 8.1 Word embeddings"
      ]
    },
    {
      "cell_type": "code",
      "execution_count": 20,
      "id": "TVgbM0TIsE7s",
      "metadata": {
        "colab": {
          "base_uri": "https://localhost:8080/"
        },
        "id": "TVgbM0TIsE7s",
        "outputId": "281225af-e7c6-49b2-fb03-5375e5ebf6ef"
      },
      "outputs": [
        {
          "name": "stdout",
          "output_type": "stream",
          "text": [
            "Embedding(31102, 768, padding_idx=0)\n",
            "--> 31102 tokens in the vocabulary\n",
            "--> 768 dimensions per emabding verctor\n"
          ]
        }
      ],
      "source": [
        "print(model_g_bert.embeddings.word_embeddings)\n",
        "print(f'--> {model_g_bert.embeddings.word_embeddings.weight.shape[0]} tokens in the vocabulary')\n",
        "print(f'--> {model_g_bert.embeddings.word_embeddings.weight.shape[1]} dimensions per emabding verctor')"
      ]
    },
    {
      "cell_type": "markdown",
      "id": "KuPptVILsE7s",
      "metadata": {
        "id": "KuPptVILsE7s"
      },
      "source": [
        "## 8.2 Position embeddings"
      ]
    },
    {
      "cell_type": "code",
      "execution_count": 21,
      "id": "E5qL7HPksE7s",
      "metadata": {
        "colab": {
          "base_uri": "https://localhost:8080/"
        },
        "id": "E5qL7HPksE7s",
        "outputId": "70f92769-e82e-47f1-f11a-2b56fe4cb969"
      },
      "outputs": [
        {
          "name": "stdout",
          "output_type": "stream",
          "text": [
            "Embedding(512, 768)\n",
            "--> 512 maximum chunk length\n",
            "--> 768 dimensions per emabding verctor\n"
          ]
        }
      ],
      "source": [
        "print(model_g_bert.embeddings.position_embeddings)\n",
        "print(f'--> {model.embeddings.position_embeddings.weight.shape[0]} maximum chunk length')\n",
        "print(f'--> {model.embeddings.position_embeddings.weight.shape[1]} dimensions per emabding verctor')"
      ]
    },
    {
      "cell_type": "markdown",
      "id": "aP6QPOC0sE7s",
      "metadata": {
        "id": "aP6QPOC0sE7s"
      },
      "source": [
        "## 8.3 Transformer Layers"
      ]
    },
    {
      "cell_type": "code",
      "execution_count": 22,
      "id": "xwmUIT9xsE7s",
      "metadata": {
        "colab": {
          "base_uri": "https://localhost:8080/"
        },
        "id": "xwmUIT9xsE7s",
        "outputId": "4308a8b6-06ee-438d-c0ce-76b4d6fc38c1"
      },
      "outputs": [
        {
          "name": "stdout",
          "output_type": "stream",
          "text": [
            "12\n",
            "--> Number of transformer layers\n"
          ]
        }
      ],
      "source": [
        "print(len(model_g_bert.encoder.layer))\n",
        "print('--> Number of transformer layers')"
      ]
    },
    {
      "cell_type": "markdown",
      "id": "6hbNX6ulsE7t",
      "metadata": {
        "id": "6hbNX6ulsE7t"
      },
      "source": [
        "## 8.4 Structure of the first layer\n",
        "TO BE DONE\n"
      ]
    },
    {
      "cell_type": "code",
      "execution_count": 23,
      "id": "P77u-uGWsE7t",
      "metadata": {
        "colab": {
          "base_uri": "https://localhost:8080/"
        },
        "id": "P77u-uGWsE7t",
        "outputId": "f74e32eb-3226-4b43-c0c3-9f99bede951f"
      },
      "outputs": [
        {
          "name": "stdout",
          "output_type": "stream",
          "text": [
            "BertLayer(\n",
            "  (attention): BertAttention(\n",
            "    (self): BertSelfAttention(\n",
            "      (query): Linear(in_features=768, out_features=768, bias=True)\n",
            "      (key): Linear(in_features=768, out_features=768, bias=True)\n",
            "      (value): Linear(in_features=768, out_features=768, bias=True)\n",
            "      (dropout): Dropout(p=0.1, inplace=False)\n",
            "    )\n",
            "    (output): BertSelfOutput(\n",
            "      (dense): Linear(in_features=768, out_features=768, bias=True)\n",
            "      (LayerNorm): LayerNorm((768,), eps=1e-12, elementwise_affine=True)\n",
            "      (dropout): Dropout(p=0.1, inplace=False)\n",
            "    )\n",
            "  )\n",
            "  (intermediate): BertIntermediate(\n",
            "    (dense): Linear(in_features=768, out_features=3072, bias=True)\n",
            "    (intermediate_act_fn): GELUActivation()\n",
            "  )\n",
            "  (output): BertOutput(\n",
            "    (dense): Linear(in_features=3072, out_features=768, bias=True)\n",
            "    (LayerNorm): LayerNorm((768,), eps=1e-12, elementwise_affine=True)\n",
            "    (dropout): Dropout(p=0.1, inplace=False)\n",
            "  )\n",
            ")\n"
          ]
        }
      ],
      "source": [
        "print(model_g_bert.encoder.layer[0])"
      ]
    },
    {
      "cell_type": "markdown",
      "id": "x0aNvIczsE7t",
      "metadata": {
        "id": "x0aNvIczsE7t"
      },
      "source": [
        "## 8.5 Pooler\n",
        "TO BE DONE"
      ]
    },
    {
      "cell_type": "code",
      "execution_count": 24,
      "id": "L5C-ZVuGsE7u",
      "metadata": {
        "colab": {
          "base_uri": "https://localhost:8080/"
        },
        "id": "L5C-ZVuGsE7u",
        "outputId": "d8af5a6d-8086-4f69-fd50-882c0c6532f9"
      },
      "outputs": [
        {
          "name": "stdout",
          "output_type": "stream",
          "text": [
            "BertPooler(\n",
            "  (dense): Linear(in_features=768, out_features=768, bias=True)\n",
            "  (activation): Tanh()\n",
            ")\n"
          ]
        }
      ],
      "source": [
        "print(model_g_bert.pooler)"
      ]
    },
    {
      "cell_type": "markdown",
      "id": "2lME5TlDsE7u",
      "metadata": {
        "id": "2lME5TlDsE7u"
      },
      "source": [
        "# 9. First run of BERT\n"
      ]
    },
    {
      "cell_type": "code",
      "execution_count": 25,
      "id": "SJr9BjUpsE7u",
      "metadata": {
        "colab": {
          "base_uri": "https://localhost:8080/"
        },
        "id": "SJr9BjUpsE7u",
        "outputId": "f2bbdd70-4180-4e2f-8670-faeea6df8c53"
      },
      "outputs": [
        {
          "name": "stdout",
          "output_type": "stream",
          "text": [
            "(1, 5, 768)\n",
            "--> 1st input has 1 sentence and 5 tokens with 768-dimanisonal embeddings\n",
            "(768,)\n",
            "--> the CLS-Token (for the sentence) has a 768-dimensional embedding\n"
          ]
        }
      ],
      "source": [
        "with torch.no_grad():\n",
        " outputs_gbert = model_g_bert(inputs_paragraph_title_gbert[0] , output_attentions=True)\n",
        " embeddings_all_gbert = outputs_gbert.last_hidden_state.numpy()\n",
        " embeddings_gbert = outputs_gbert.last_hidden_state[0] [0].numpy()\n",
        "\n",
        "print(embeddings_all_gbert.shape)\n",
        "print(f\"--> 1st input has {embeddings_all_gbert.shape[0]} sentence and {embeddings_all_gbert.shape[1]} tokens with {embeddings_all_gbert.shape[2]}-dimanisonal embeddings\")\n",
        "print(embeddings_gbert.shape)\n",
        "print(f\"--> the CLS-Token (for the sentence) has a {embeddings_gbert.shape[0]}-dimensional embedding\")\n"
      ]
    },
    {
      "cell_type": "markdown",
      "id": "ukoOCw9msE7u",
      "metadata": {
        "id": "ukoOCw9msE7u"
      },
      "source": [
        "# 9.1 Attentionsheads of  G BERT\n",
        "\n"
      ]
    },
    {
      "cell_type": "code",
      "execution_count": 26,
      "id": "IzsaPpn3sE7v",
      "metadata": {
        "colab": {
          "base_uri": "https://localhost:8080/",
          "height": 181
        },
        "id": "IzsaPpn3sE7v",
        "outputId": "efdf2d8c-a8ef-4fe3-89ad-d681d27e2b09"
      },
      "outputs": [],
      "source": [
        "#attention_weights = outputs_gbert.attentions\n",
        "#head_view(attention_weights,\n",
        "#tokens=g_bert_cased.convert_ids_to_tokens(inputs_paragraph_title_gbert[0][0]))"
      ]
    },
    {
      "cell_type": "markdown",
      "id": "FXvEk9lNsE7v",
      "metadata": {
        "id": "FXvEk9lNsE7v"
      },
      "source": [
        "## 9.2 Calculation of the CLS ebadings in G BERT"
      ]
    },
    {
      "cell_type": "code",
      "execution_count": 27,
      "id": "2bb1-8UNsE7v",
      "metadata": {
        "colab": {
          "base_uri": "https://localhost:8080/"
        },
        "id": "2bb1-8UNsE7v",
        "outputId": "8b6a486f-cd75-4176-8d0e-445e279d6a34"
      },
      "outputs": [
        {
          "name": "stdout",
          "output_type": "stream",
          "text": [
            "First 10 dimensions of the LGAL G BERT`s Sentence embedding of the first paragraph title:\n",
            "[-0.52924436 -0.16948372 -0.06846854 -0.4766233  -0.7222662   0.06980206\n",
            "  1.0041118   0.28140113 -0.01368873]\n",
            "\n",
            "     VS.     \n",
            "\n",
            "First 10 dimensions of the genereic BERT`s Sentence embeddingof the first paragraph title:\n",
            "[ 0.37478444  0.08961619 -0.12682843 -0.26694623 -0.05042052  0.10338262\n",
            "  0.34543043 -0.09266957 -0.0877476 ]\n"
          ]
        }
      ],
      "source": [
        "g_bert_1st_emb = prepare_apply_model(g_bert_cased, df[\"paragraph_title\"].loc[0], model_g_bert )\n",
        "print(\"First 10 dimensions of the LGAL G BERT`s Sentence embedding of the first paragraph title:\")\n",
        "print(g_bert_1st_emb[0:9])\n",
        "print(\"\\n     VS.     \\n\\nFirst 10 dimensions of the genereic BERT`s Sentence embeddingof the first paragraph title:\")\n",
        "print(bert_1st_emb[0:9])"
      ]
    },
    {
      "cell_type": "markdown",
      "id": "c73d0f94",
      "metadata": {},
      "source": [
        "# Jinaai"
      ]
    },
    {
      "cell_type": "code",
      "execution_count": 28,
      "id": "b31c1f93",
      "metadata": {},
      "outputs": [
        {
          "data": {
            "text/plain": [
              "0                                    Vertragsgegenstand\n",
              "1                                    Vertragsgegenstand\n",
              "2                                    Vertragsgegenstand\n",
              "3                                    Vertragsgegenstand\n",
              "4                                    Vertragsgegenstand\n",
              "5                                    Vertragsgegenstand\n",
              "6    Registrierung, Zustandekommen des Nutzungsvertrags\n",
              "7    Registrierung, Zustandekommen des Nutzungsvertrags\n",
              "8                           Art und Umfang der Leistung\n",
              "9                           Art und Umfang der Leistung\n",
              "Name: paragraph_title, dtype: object"
            ]
          },
          "metadata": {},
          "output_type": "display_data"
        },
        {
          "name": "stdout",
          "output_type": "stream",
          "text": [
            "\n",
            "\n",
            "--> transformed to tokens (left out since we are using IDs):\n"
          ]
        },
        {
          "data": {
            "text/html": [
              "<div>\n",
              "<style scoped>\n",
              "    .dataframe tbody tr th:only-of-type {\n",
              "        vertical-align: middle;\n",
              "    }\n",
              "\n",
              "    .dataframe tbody tr th {\n",
              "        vertical-align: top;\n",
              "    }\n",
              "\n",
              "    .dataframe thead th {\n",
              "        text-align: right;\n",
              "    }\n",
              "</style>\n",
              "<table border=\"1\" class=\"dataframe\">\n",
              "  <thead>\n",
              "    <tr style=\"text-align: right;\">\n",
              "      <th></th>\n",
              "      <th>tokens_paragraph_title_jiaai</th>\n",
              "      <th>tokens_paragraph_title_gbert</th>\n",
              "      <th>tokens_paragraph_title</th>\n",
              "    </tr>\n",
              "  </thead>\n",
              "  <tbody>\n",
              "    <tr>\n",
              "      <th>0</th>\n",
              "      <td>[ve, ##rt, ##rag, ##sg, ##ege, ##nst, ##and]</td>\n",
              "      <td>[Vertrags, ##gegen, ##stand]</td>\n",
              "      <td>[V, ##ert, ##rag, ##s, ##ge, ##gens, ##tan, ##d]</td>\n",
              "    </tr>\n",
              "    <tr>\n",
              "      <th>1</th>\n",
              "      <td>[ve, ##rt, ##rag, ##sg, ##ege, ##nst, ##and]</td>\n",
              "      <td>[Vertrags, ##gegen, ##stand]</td>\n",
              "      <td>[V, ##ert, ##rag, ##s, ##ge, ##gens, ##tan, ##d]</td>\n",
              "    </tr>\n",
              "    <tr>\n",
              "      <th>2</th>\n",
              "      <td>[ve, ##rt, ##rag, ##sg, ##ege, ##nst, ##and]</td>\n",
              "      <td>[Vertrags, ##gegen, ##stand]</td>\n",
              "      <td>[V, ##ert, ##rag, ##s, ##ge, ##gens, ##tan, ##d]</td>\n",
              "    </tr>\n",
              "    <tr>\n",
              "      <th>3</th>\n",
              "      <td>[ve, ##rt, ##rag, ##sg, ##ege, ##nst, ##and]</td>\n",
              "      <td>[Vertrags, ##gegen, ##stand]</td>\n",
              "      <td>[V, ##ert, ##rag, ##s, ##ge, ##gens, ##tan, ##d]</td>\n",
              "    </tr>\n",
              "    <tr>\n",
              "      <th>4</th>\n",
              "      <td>[ve, ##rt, ##rag, ##sg, ##ege, ##nst, ##and]</td>\n",
              "      <td>[Vertrags, ##gegen, ##stand]</td>\n",
              "      <td>[V, ##ert, ##rag, ##s, ##ge, ##gens, ##tan, ##d]</td>\n",
              "    </tr>\n",
              "    <tr>\n",
              "      <th>5</th>\n",
              "      <td>[ve, ##rt, ##rag, ##sg, ##ege, ##nst, ##and]</td>\n",
              "      <td>[Vertrags, ##gegen, ##stand]</td>\n",
              "      <td>[V, ##ert, ##rag, ##s, ##ge, ##gens, ##tan, ##d]</td>\n",
              "    </tr>\n",
              "    <tr>\n",
              "      <th>6</th>\n",
              "      <td>[regis, ##tri, ##er, ##ung, ,, zu, ##stand, ##ek, ##om, ##men, des, nut, ##zu, ##ng, ##s, ##vert, ##rag, ##s]</td>\n",
              "      <td>[Registrierung, ,, Zustand, ##ek, ##ommen, des, Nutzungs, ##vertrags]</td>\n",
              "      <td>[Regis, ##tri, ##er, ##ung, ,, Z, ##ust, ##and, ##ek, ##om, ##men, des, N, ##utz, ##ung, ##s, ##vert, ##rag, ##s]</td>\n",
              "    </tr>\n",
              "    <tr>\n",
              "      <th>7</th>\n",
              "      <td>[regis, ##tri, ##er, ##ung, ,, zu, ##stand, ##ek, ##om, ##men, des, nut, ##zu, ##ng, ##s, ##vert, ##rag, ##s]</td>\n",
              "      <td>[Registrierung, ,, Zustand, ##ek, ##ommen, des, Nutzungs, ##vertrags]</td>\n",
              "      <td>[Regis, ##tri, ##er, ##ung, ,, Z, ##ust, ##and, ##ek, ##om, ##men, des, N, ##utz, ##ung, ##s, ##vert, ##rag, ##s]</td>\n",
              "    </tr>\n",
              "    <tr>\n",
              "      <th>8</th>\n",
              "      <td>[art, und, um, ##fan, ##g, der, lei, ##st, ##ung]</td>\n",
              "      <td>[Art, und, Umfang, der, Leistung]</td>\n",
              "      <td>[Art, und, Um, ##fan, ##g, der, Le, ##ist, ##ung]</td>\n",
              "    </tr>\n",
              "    <tr>\n",
              "      <th>9</th>\n",
              "      <td>[art, und, um, ##fan, ##g, der, lei, ##st, ##ung]</td>\n",
              "      <td>[Art, und, Umfang, der, Leistung]</td>\n",
              "      <td>[Art, und, Um, ##fan, ##g, der, Le, ##ist, ##ung]</td>\n",
              "    </tr>\n",
              "  </tbody>\n",
              "</table>\n",
              "</div>"
            ],
            "text/plain": [
              "                                                                                    tokens_paragraph_title_jiaai  \\\n",
              "0                                                                   [ve, ##rt, ##rag, ##sg, ##ege, ##nst, ##and]   \n",
              "1                                                                   [ve, ##rt, ##rag, ##sg, ##ege, ##nst, ##and]   \n",
              "2                                                                   [ve, ##rt, ##rag, ##sg, ##ege, ##nst, ##and]   \n",
              "3                                                                   [ve, ##rt, ##rag, ##sg, ##ege, ##nst, ##and]   \n",
              "4                                                                   [ve, ##rt, ##rag, ##sg, ##ege, ##nst, ##and]   \n",
              "5                                                                   [ve, ##rt, ##rag, ##sg, ##ege, ##nst, ##and]   \n",
              "6  [regis, ##tri, ##er, ##ung, ,, zu, ##stand, ##ek, ##om, ##men, des, nut, ##zu, ##ng, ##s, ##vert, ##rag, ##s]   \n",
              "7  [regis, ##tri, ##er, ##ung, ,, zu, ##stand, ##ek, ##om, ##men, des, nut, ##zu, ##ng, ##s, ##vert, ##rag, ##s]   \n",
              "8                                                              [art, und, um, ##fan, ##g, der, lei, ##st, ##ung]   \n",
              "9                                                              [art, und, um, ##fan, ##g, der, lei, ##st, ##ung]   \n",
              "\n",
              "                                            tokens_paragraph_title_gbert  \\\n",
              "0                                           [Vertrags, ##gegen, ##stand]   \n",
              "1                                           [Vertrags, ##gegen, ##stand]   \n",
              "2                                           [Vertrags, ##gegen, ##stand]   \n",
              "3                                           [Vertrags, ##gegen, ##stand]   \n",
              "4                                           [Vertrags, ##gegen, ##stand]   \n",
              "5                                           [Vertrags, ##gegen, ##stand]   \n",
              "6  [Registrierung, ,, Zustand, ##ek, ##ommen, des, Nutzungs, ##vertrags]   \n",
              "7  [Registrierung, ,, Zustand, ##ek, ##ommen, des, Nutzungs, ##vertrags]   \n",
              "8                                      [Art, und, Umfang, der, Leistung]   \n",
              "9                                      [Art, und, Umfang, der, Leistung]   \n",
              "\n",
              "                                                                                              tokens_paragraph_title  \n",
              "0                                                                   [V, ##ert, ##rag, ##s, ##ge, ##gens, ##tan, ##d]  \n",
              "1                                                                   [V, ##ert, ##rag, ##s, ##ge, ##gens, ##tan, ##d]  \n",
              "2                                                                   [V, ##ert, ##rag, ##s, ##ge, ##gens, ##tan, ##d]  \n",
              "3                                                                   [V, ##ert, ##rag, ##s, ##ge, ##gens, ##tan, ##d]  \n",
              "4                                                                   [V, ##ert, ##rag, ##s, ##ge, ##gens, ##tan, ##d]  \n",
              "5                                                                   [V, ##ert, ##rag, ##s, ##ge, ##gens, ##tan, ##d]  \n",
              "6  [Regis, ##tri, ##er, ##ung, ,, Z, ##ust, ##and, ##ek, ##om, ##men, des, N, ##utz, ##ung, ##s, ##vert, ##rag, ##s]  \n",
              "7  [Regis, ##tri, ##er, ##ung, ,, Z, ##ust, ##and, ##ek, ##om, ##men, des, N, ##utz, ##ung, ##s, ##vert, ##rag, ##s]  \n",
              "8                                                                  [Art, und, Um, ##fan, ##g, der, Le, ##ist, ##ung]  \n",
              "9                                                                  [Art, und, Um, ##fan, ##g, der, Le, ##ist, ##ung]  "
            ]
          },
          "metadata": {},
          "output_type": "display_data"
        },
        {
          "name": "stdout",
          "output_type": "stream",
          "text": [
            "\n",
            "\n",
            "--> transformed to Ids:\n"
          ]
        },
        {
          "data": {
            "text/html": [
              "<div>\n",
              "<style scoped>\n",
              "    .dataframe tbody tr th:only-of-type {\n",
              "        vertical-align: middle;\n",
              "    }\n",
              "\n",
              "    .dataframe tbody tr th {\n",
              "        vertical-align: top;\n",
              "    }\n",
              "\n",
              "    .dataframe thead th {\n",
              "        text-align: right;\n",
              "    }\n",
              "</style>\n",
              "<table border=\"1\" class=\"dataframe\">\n",
              "  <thead>\n",
              "    <tr style=\"text-align: right;\">\n",
              "      <th></th>\n",
              "      <th>jiaai_quick_section_content</th>\n",
              "      <th>gbert_quick_paragraph_titel</th>\n",
              "      <th>bert_quick_paragraph_titel</th>\n",
              "    </tr>\n",
              "  </thead>\n",
              "  <tbody>\n",
              "    <tr>\n",
              "      <th>0</th>\n",
              "      <td>[[101, 4315, 2019, 11283, 3334, 26261, 3363, 2102, 17183, 28919, 4181, 3280, 4007, 2171, 4315, 4007, 17924, 2310, 12881, 15916, 5575, 3280, 19169, 27665, 6112, 2378, 27843, 3367, 6820, 25509, 3126, 16950, 24930, 18337, 21541, 102]]</td>\n",
              "      <td>[[102, 7545, 1789, 858, 103]]</td>\n",
              "      <td>[[101, 159, 7340, 20484, 1116, 2176, 21144, 5108, 1181, 102]]</td>\n",
              "    </tr>\n",
              "    <tr>\n",
              "      <th>1</th>\n",
              "      <td>[[101, 3280, 17490, 9759, 3070, 8529, 7011, 4757, 2102, 3280, 2022, 2890, 12762, 23567, 5575, 3854, 11962, 3508, 2368, 11867, 7416, 7474, 24759, 20501, 6151, 7939, 16950, 16523, 13355, 19169, 27665, 2078, 10923, 10524, 8043, 27215, 27665, 4372, 3215, 28139, 8661, 3207, 10439, 25421, 3508, 102]]</td>\n",
              "      <td>[[102, 7545, 1789, 858, 103]]</td>\n",
              "      <td>[[101, 159, 7340, 20484, 1116, 2176, 21144, 5108, 1181, 102]]</td>\n",
              "    </tr>\n",
              "    <tr>\n",
              "      <th>2</th>\n",
              "      <td>[[101, 4315, 28919, 3207, 9413, 8865, 2102, 17151, 11624, 8751, 19310, 18337, 8695, 2310, 5339, 29181, 18337, 2310, 2890, 2378, 8237, 2618, 17490, 9759, 3070, 21338, 15937, 2102, 27969, 11039, 8695, 1041, 29206, 11667, 2019, 4315, 4007, 27215, 4315, 16950, 16523, 8630, 2063, 17766, 25915, 1999, 27843, 3367, 6820, 25509, 3126, 1073, 1016, 17490, 9759, 3070, 21338, 15937, 2618, 16417, 2527, 2819, 5575, 3854, 17490, 9759, 3070, 21338, 15937, 6528, 4315, 2019, 11283, 3334, 10958, 2819, 2102, 17183, 28919, 4181, 16417, 16417, 7011, 8376, 27969, 11039, 19169, 6494, 18259, 17933, 6151, 27969, 11039, 4895, 3334, 3669, 10431, 21548, 8237, 2229, ...]]</td>\n",
              "      <td>[[102, 7545, 1789, 858, 103]]</td>\n",
              "      <td>[[101, 159, 7340, 20484, 1116, 2176, 21144, 5108, 1181, 102]]</td>\n",
              "    </tr>\n",
              "    <tr>\n",
              "      <th>3</th>\n",
              "      <td>[[101, 1015, 8289, 2121, 4007, 16782, 8043, 7903, 22507, 6494, 2290, 21541, 21200, 2006, 2240, 12681, 23567, 23239, 2019, 12449, 18939, 2906, 102]]</td>\n",
              "      <td>[[102, 7545, 1789, 858, 103]]</td>\n",
              "      <td>[[101, 159, 7340, 20484, 1116, 2176, 21144, 5108, 1181, 102]]</td>\n",
              "    </tr>\n",
              "    <tr>\n",
              "      <th>4</th>\n",
              "      <td>[[101, 1016, 3280, 4007, 15536, 4103, 29536, 2213, 2019, 11283, 3334, 25520, 10923, 21369, 8743, 2063, 7842, 3022, 1038, 2480, 2860, 6112, 10483, 5575, 6655, 7373, 10609, 17183, 28919, 4181, 15536, 4103, 9413, 5302, 25394, 10143, 3280, 21200, 7939, 8241, 2078, 4078, 2019, 11283, 7747, 1038, 2480, 2860, 27665, 2015, 29536, 2213, 2019, 11283, 3334, 17935, 6199, 29181, 6528, 3280, 23808, 23057, 15608, 16216, 13102, 7416, 7474, 2618, 6151, 11113, 17298, 18940, 3207, 4007, 19169, 27665, 6970, 5658, 6299, 8428, 27584, 2290, 22894, 7389, 2094, 4315, 21360, 2546, 4371, 4183, 8289, 2229, 2310, 5339, 29181, 2015, 6519, 1041, 29206, 2063, ...]]</td>\n",
              "      <td>[[102, 7545, 1789, 858, 103]]</td>\n",
              "      <td>[[101, 159, 7340, 20484, 1116, 2176, 21144, 5108, 1181, 102]]</td>\n",
              "    </tr>\n",
              "    <tr>\n",
              "      <th>5</th>\n",
              "      <td>[[101, 1017, 8289, 2063, 2310, 5339, 29181, 19022, 17819, 23239, 21500, 6528, 17151, 11624, 8751, 19310, 18337, 2310, 5339, 29181, 19022, 17819, 23239, 4078, 28919, 4181, 2424, 2368, 26679, 2638, 2019, 19181, 27584, 2290, 16216, 6914, 12681, 29336, 8004, 23239, 4078, 28919, 4181, 4895, 3334, 7632, 2078, 11417, 2015, 21200, 16470, 1041, 29206, 2368, 16216, 26527, 19022, 17819, 23239, 15536, 4103, 17151, 13626, 12722, 18337, 7289, 13102, 3217, 8661, 102]]</td>\n",
              "      <td>[[102, 7545, 1789, 858, 103]]</td>\n",
              "      <td>[[101, 159, 7340, 20484, 1116, 2176, 21144, 5108, 1181, 102]]</td>\n",
              "    </tr>\n",
              "    <tr>\n",
              "      <th>6</th>\n",
              "      <td>[[101, 1015, 27427, 6633, 14387, 2232, 4315, 28919, 3207, 21200, 4315, 4773, 20240, 2618, 7479, 2509, 7898, 2080, 11320, 9285, 27215, 7479, 18886, 3775, 2080, 10210, 16470, 2213, 2171, 2078, 16470, 2099, 1041, 5653, 6151, 16470, 2213, 4895, 16451, 11106, 3549, 20588, 18886, 8743, 21025, 19279, 9413, 16417, 17076, 15878, 4140, 21200, 14689, 2818, 7393, 2015, 8289, 2229, 17490, 9759, 3070, 2015, 16874, 29181, 2015, 11113, 102]]</td>\n",
              "      <td>[[102, 18304, 818, 6432, 1201, 444, 222, 18542, 26381, 103]]</td>\n",
              "      <td>[[101, 25510, 19091, 1200, 4380, 117, 163, 8954, 5709, 4820, 4165, 2354, 3532, 151, 27578, 4380, 1116, 12986, 20484, 1116, 102]]</td>\n",
              "    </tr>\n",
              "    <tr>\n",
              "      <th>7</th>\n",
              "      <td>[[101, 1016, 4315, 2019, 11283, 3334, 10975, 16093, 2102, 3280, 4372, 3215, 28139, 8661, 3207, 2019, 10199, 27584, 2290, 14904, 10695, 16216, 11039, 17183, 17490, 6290, 27665, 2190, 10450, 12734, 5620, 14545, 4014, 10210, 16470, 2078, 16950, 24930, 16150, 3686, 2078, 16950, 10210, 16950, 24930, 4315, 2190, 10450, 3282, 5620, 14545, 4014, 13097, 2102, 4315, 2310, 5339, 29181, 25520, 16216, 11624, 10483, 5054, 102]]</td>\n",
              "      <td>[[102, 18304, 818, 6432, 1201, 444, 222, 18542, 26381, 103]]</td>\n",
              "      <td>[[101, 25510, 19091, 1200, 4380, 117, 163, 8954, 5709, 4820, 4165, 2354, 3532, 151, 27578, 4380, 1116, 12986, 20484, 1116, 102]]</td>\n",
              "    </tr>\n",
              "    <tr>\n",
              "      <th>8</th>\n",
              "      <td>[[101, 1015, 4315, 2019, 11283, 3334, 26261, 3363, 2102, 17183, 28919, 4181, 3280, 4007, 1999, 1045, 17875, 16522, 24359, 2015, 17712, 8525, 5349, 16173, 2544, 2572, 2799, 25965, 24930, 4078, 2128, 8802, 10431, 24456, 2015, 1999, 17183, 4315, 8241, 10210, 4315, 4007, 26261, 11039, 19169, 3654, 4783, 14289, 8950, 2102, 17924, 17490, 9759, 3070, 2022, 2890, 4183, 3280, 3730, 16283, 3280, 6519, 3280, 17490, 9759, 3070, 9413, 3877, 2121, 27412, 28667, 10222, 23057, 3367, 5575, 6151, 4315, 9413, 3877, 2121, 27412, 11867, 7416, 7474, 6151, 3058, 2078, 26061, 15185, 7416, 27079, 13102, 20051, 2480, 2057, 18246, 29536, 2213, 2019, 11283, ...]]</td>\n",
              "      <td>[[102, 1622, 136, 7661, 125, 4970, 103]]</td>\n",
              "      <td>[[101, 2051, 5576, 12189, 16740, 1403, 4167, 3180, 1776, 4380, 102]]</td>\n",
              "    </tr>\n",
              "    <tr>\n",
              "      <th>9</th>\n",
              "      <td>[[101, 1016, 2061, 19845, 2102, 3280, 4007, 17151, 11624, 8751, 19310, 18337, 21200, 7939, 8241, 2078, 4078, 2019, 11283, 7747, 27215, 27665, 2015, 29536, 2213, 2019, 11283, 3334, 17935, 6199, 29181, 6528, 3280, 23808, 23057, 15608, 11113, 17298, 6199, 2793, 2906, 2546, 4315, 28919, 3207, 26679, 3678, 24471, 5369, 2022, 14343, 10143, 27412, 2078, 17490, 9759, 3070, 21338, 15937, 2618, 2019, 4315, 4007, 6151, 4315, 2019, 11283, 3334, 10958, 2819, 2102, 8740, 2818, 26679, 2638, 14017, 5403, 28667, 11039, 2063, 16417, 4315, 2019, 11283, 3334, 10958, 2819, 2102, 17183, 28919, 4181, 14863, 2099, 6519, 3280, 21360, 2546, 4371, 4183, 4078, ...]]</td>\n",
              "      <td>[[102, 1622, 136, 7661, 125, 4970, 103]]</td>\n",
              "      <td>[[101, 2051, 5576, 12189, 16740, 1403, 4167, 3180, 1776, 4380, 102]]</td>\n",
              "    </tr>\n",
              "  </tbody>\n",
              "</table>\n",
              "</div>"
            ],
            "text/plain": [
              "                                                                                                                                                                                                                                                                                                                                                                                                                                                                                                                                                                                                                                                 jiaai_quick_section_content  \\\n",
              "0                                                                                                                                                                                                                                                                                                                                                                                                                                    [[101, 4315, 2019, 11283, 3334, 26261, 3363, 2102, 17183, 28919, 4181, 3280, 4007, 2171, 4315, 4007, 17924, 2310, 12881, 15916, 5575, 3280, 19169, 27665, 6112, 2378, 27843, 3367, 6820, 25509, 3126, 16950, 24930, 18337, 21541, 102]]   \n",
              "1                                                                                                                                                                                                                                                                                                                                                                    [[101, 3280, 17490, 9759, 3070, 8529, 7011, 4757, 2102, 3280, 2022, 2890, 12762, 23567, 5575, 3854, 11962, 3508, 2368, 11867, 7416, 7474, 24759, 20501, 6151, 7939, 16950, 16523, 13355, 19169, 27665, 2078, 10923, 10524, 8043, 27215, 27665, 4372, 3215, 28139, 8661, 3207, 10439, 25421, 3508, 102]]   \n",
              "2  [[101, 4315, 28919, 3207, 9413, 8865, 2102, 17151, 11624, 8751, 19310, 18337, 8695, 2310, 5339, 29181, 18337, 2310, 2890, 2378, 8237, 2618, 17490, 9759, 3070, 21338, 15937, 2102, 27969, 11039, 8695, 1041, 29206, 11667, 2019, 4315, 4007, 27215, 4315, 16950, 16523, 8630, 2063, 17766, 25915, 1999, 27843, 3367, 6820, 25509, 3126, 1073, 1016, 17490, 9759, 3070, 21338, 15937, 2618, 16417, 2527, 2819, 5575, 3854, 17490, 9759, 3070, 21338, 15937, 6528, 4315, 2019, 11283, 3334, 10958, 2819, 2102, 17183, 28919, 4181, 16417, 16417, 7011, 8376, 27969, 11039, 19169, 6494, 18259, 17933, 6151, 27969, 11039, 4895, 3334, 3669, 10431, 21548, 8237, 2229, ...]]   \n",
              "3                                                                                                                                                                                                                                                                                                                                                                                                                                                                                                                        [[101, 1015, 8289, 2121, 4007, 16782, 8043, 7903, 22507, 6494, 2290, 21541, 21200, 2006, 2240, 12681, 23567, 23239, 2019, 12449, 18939, 2906, 102]]   \n",
              "4          [[101, 1016, 3280, 4007, 15536, 4103, 29536, 2213, 2019, 11283, 3334, 25520, 10923, 21369, 8743, 2063, 7842, 3022, 1038, 2480, 2860, 6112, 10483, 5575, 6655, 7373, 10609, 17183, 28919, 4181, 15536, 4103, 9413, 5302, 25394, 10143, 3280, 21200, 7939, 8241, 2078, 4078, 2019, 11283, 7747, 1038, 2480, 2860, 27665, 2015, 29536, 2213, 2019, 11283, 3334, 17935, 6199, 29181, 6528, 3280, 23808, 23057, 15608, 16216, 13102, 7416, 7474, 2618, 6151, 11113, 17298, 18940, 3207, 4007, 19169, 27665, 6970, 5658, 6299, 8428, 27584, 2290, 22894, 7389, 2094, 4315, 21360, 2546, 4371, 4183, 8289, 2229, 2310, 5339, 29181, 2015, 6519, 1041, 29206, 2063, ...]]   \n",
              "5                                                                                                                                                                                                  [[101, 1017, 8289, 2063, 2310, 5339, 29181, 19022, 17819, 23239, 21500, 6528, 17151, 11624, 8751, 19310, 18337, 2310, 5339, 29181, 19022, 17819, 23239, 4078, 28919, 4181, 2424, 2368, 26679, 2638, 2019, 19181, 27584, 2290, 16216, 6914, 12681, 29336, 8004, 23239, 4078, 28919, 4181, 4895, 3334, 7632, 2078, 11417, 2015, 21200, 16470, 1041, 29206, 2368, 16216, 26527, 19022, 17819, 23239, 15536, 4103, 17151, 13626, 12722, 18337, 7289, 13102, 3217, 8661, 102]]   \n",
              "6                                                                                                                                                                                                                              [[101, 1015, 27427, 6633, 14387, 2232, 4315, 28919, 3207, 21200, 4315, 4773, 20240, 2618, 7479, 2509, 7898, 2080, 11320, 9285, 27215, 7479, 18886, 3775, 2080, 10210, 16470, 2213, 2171, 2078, 16470, 2099, 1041, 5653, 6151, 16470, 2213, 4895, 16451, 11106, 3549, 20588, 18886, 8743, 21025, 19279, 9413, 16417, 17076, 15878, 4140, 21200, 14689, 2818, 7393, 2015, 8289, 2229, 17490, 9759, 3070, 2015, 16874, 29181, 2015, 11113, 102]]   \n",
              "7                                                                                                                                                                                                                                          [[101, 1016, 4315, 2019, 11283, 3334, 10975, 16093, 2102, 3280, 4372, 3215, 28139, 8661, 3207, 2019, 10199, 27584, 2290, 14904, 10695, 16216, 11039, 17183, 17490, 6290, 27665, 2190, 10450, 12734, 5620, 14545, 4014, 10210, 16470, 2078, 16950, 24930, 16150, 3686, 2078, 16950, 10210, 16950, 24930, 4315, 2190, 10450, 3282, 5620, 14545, 4014, 13097, 2102, 4315, 2310, 5339, 29181, 25520, 16216, 11624, 10483, 5054, 102]]   \n",
              "8        [[101, 1015, 4315, 2019, 11283, 3334, 26261, 3363, 2102, 17183, 28919, 4181, 3280, 4007, 1999, 1045, 17875, 16522, 24359, 2015, 17712, 8525, 5349, 16173, 2544, 2572, 2799, 25965, 24930, 4078, 2128, 8802, 10431, 24456, 2015, 1999, 17183, 4315, 8241, 10210, 4315, 4007, 26261, 11039, 19169, 3654, 4783, 14289, 8950, 2102, 17924, 17490, 9759, 3070, 2022, 2890, 4183, 3280, 3730, 16283, 3280, 6519, 3280, 17490, 9759, 3070, 9413, 3877, 2121, 27412, 28667, 10222, 23057, 3367, 5575, 6151, 4315, 9413, 3877, 2121, 27412, 11867, 7416, 7474, 6151, 3058, 2078, 26061, 15185, 7416, 27079, 13102, 20051, 2480, 2057, 18246, 29536, 2213, 2019, 11283, ...]]   \n",
              "9     [[101, 1016, 2061, 19845, 2102, 3280, 4007, 17151, 11624, 8751, 19310, 18337, 21200, 7939, 8241, 2078, 4078, 2019, 11283, 7747, 27215, 27665, 2015, 29536, 2213, 2019, 11283, 3334, 17935, 6199, 29181, 6528, 3280, 23808, 23057, 15608, 11113, 17298, 6199, 2793, 2906, 2546, 4315, 28919, 3207, 26679, 3678, 24471, 5369, 2022, 14343, 10143, 27412, 2078, 17490, 9759, 3070, 21338, 15937, 2618, 2019, 4315, 4007, 6151, 4315, 2019, 11283, 3334, 10958, 2819, 2102, 8740, 2818, 26679, 2638, 14017, 5403, 28667, 11039, 2063, 16417, 4315, 2019, 11283, 3334, 10958, 2819, 2102, 17183, 28919, 4181, 14863, 2099, 6519, 3280, 21360, 2546, 4371, 4183, 4078, ...]]   \n",
              "\n",
              "                                    gbert_quick_paragraph_titel  \\\n",
              "0                                 [[102, 7545, 1789, 858, 103]]   \n",
              "1                                 [[102, 7545, 1789, 858, 103]]   \n",
              "2                                 [[102, 7545, 1789, 858, 103]]   \n",
              "3                                 [[102, 7545, 1789, 858, 103]]   \n",
              "4                                 [[102, 7545, 1789, 858, 103]]   \n",
              "5                                 [[102, 7545, 1789, 858, 103]]   \n",
              "6  [[102, 18304, 818, 6432, 1201, 444, 222, 18542, 26381, 103]]   \n",
              "7  [[102, 18304, 818, 6432, 1201, 444, 222, 18542, 26381, 103]]   \n",
              "8                      [[102, 1622, 136, 7661, 125, 4970, 103]]   \n",
              "9                      [[102, 1622, 136, 7661, 125, 4970, 103]]   \n",
              "\n",
              "                                                                                                         bert_quick_paragraph_titel  \n",
              "0                                                                     [[101, 159, 7340, 20484, 1116, 2176, 21144, 5108, 1181, 102]]  \n",
              "1                                                                     [[101, 159, 7340, 20484, 1116, 2176, 21144, 5108, 1181, 102]]  \n",
              "2                                                                     [[101, 159, 7340, 20484, 1116, 2176, 21144, 5108, 1181, 102]]  \n",
              "3                                                                     [[101, 159, 7340, 20484, 1116, 2176, 21144, 5108, 1181, 102]]  \n",
              "4                                                                     [[101, 159, 7340, 20484, 1116, 2176, 21144, 5108, 1181, 102]]  \n",
              "5                                                                     [[101, 159, 7340, 20484, 1116, 2176, 21144, 5108, 1181, 102]]  \n",
              "6  [[101, 25510, 19091, 1200, 4380, 117, 163, 8954, 5709, 4820, 4165, 2354, 3532, 151, 27578, 4380, 1116, 12986, 20484, 1116, 102]]  \n",
              "7  [[101, 25510, 19091, 1200, 4380, 117, 163, 8954, 5709, 4820, 4165, 2354, 3532, 151, 27578, 4380, 1116, 12986, 20484, 1116, 102]]  \n",
              "8                                                              [[101, 2051, 5576, 12189, 16740, 1403, 4167, 3180, 1776, 4380, 102]]  \n",
              "9                                                              [[101, 2051, 5576, 12189, 16740, 1403, 4167, 3180, 1776, 4380, 102]]  "
            ]
          },
          "metadata": {},
          "output_type": "display_data"
        }
      ],
      "source": [
        "from transformers import AutoTokenizer\n",
        "from sentence_transformers import SentenceTransformer\n",
        "# 1. Lade Tokenizer und Modell separat\n",
        "tokenizer_jinaai = AutoTokenizer.from_pretrained(\"jinaai/jina-embeddings-v2-base-en\")\n",
        "#model_jinaai = SentenceTransformer(\"jinaai/jina-embeddings-v3\")\n",
        "\n",
        "df['tokens_paragraph_title_jiaai'] = df['paragraph_title'].apply(lambda x: tokenizer_jinaai.tokenize(str(x)))\n",
        "df['jiaai_bert_quick_paragraph_titel']=df['paragraph_title'].apply(lambda x: [tokenizer_jinaai.encode(x)])\n",
        "df['jiaai_quick_paragraph_content']=df['clean_paragraph_content'].apply(lambda x: [tokenizer_jinaai.encode(x)])\n",
        "df['jiaai_quick_section_content']=df['clean_section_content'].apply(lambda x: [tokenizer_jinaai.encode(x)])\n",
        "display(df[\"paragraph_title\"][0:10])\n",
        "print(\"\\n\\n--> transformed to tokens (left out since we are using IDs):\")\n",
        "pd.set_option('display.max_colwidth', None)\n",
        "display(df[[ 'tokens_paragraph_title_jiaai','tokens_paragraph_title_gbert','tokens_paragraph_title']].head(10))\n",
        "print(\"\\n\\n--> transformed to Ids:\")\n",
        "display(df[[ 'jiaai_quick_section_content',\"gbert_quick_paragraph_titel\",\"bert_quick_paragraph_titel\"]].head(10))\n"
      ]
    },
    {
      "cell_type": "code",
      "execution_count": null,
      "id": "75e5cace",
      "metadata": {},
      "outputs": [],
      "source": []
    },
    {
      "cell_type": "code",
      "execution_count": 29,
      "id": "898baab7",
      "metadata": {},
      "outputs": [],
      "source": [
        "from transformers import AutoModel \n"
      ]
    },
    {
      "cell_type": "code",
      "execution_count": 30,
      "id": "32bb8e83",
      "metadata": {},
      "outputs": [
        {
          "name": "stdout",
          "output_type": "stream",
          "text": [
            "vocabulary size: 30528\n"
          ]
        }
      ],
      "source": [
        "print(f'vocabulary size: {tokenizer_jinaai.vocab_size}')\n",
        "model_jinai= SentenceTransformer(\"jinaai/jina-embeddings-v2-base-en\")\n"
      ]
    },
    {
      "cell_type": "code",
      "execution_count": 34,
      "id": "907e1643",
      "metadata": {},
      "outputs": [
        {
          "name": "stdout",
          "output_type": "stream",
          "text": [
            "SentenceTransformer(\n",
            "  (0): Transformer({'max_seq_length': 8192, 'do_lower_case': False}) with Transformer model: JinaBertModel \n",
            "  (1): Pooling({'word_embedding_dimension': 768, 'pooling_mode_cls_token': False, 'pooling_mode_mean_tokens': True, 'pooling_mode_max_tokens': False, 'pooling_mode_mean_sqrt_len_tokens': False})\n",
            "  (2): Normalize()\n",
            ")\n",
            "Transformer({'max_seq_length': 8192, 'do_lower_case': False}) with Transformer model: JinaBertModel \n"
          ]
        }
      ],
      "source": [
        "print(model_jinai)\n",
        "print(model_jinai._first_module())\n",
        "\n",
        "\n"
      ]
    },
    {
      "cell_type": "markdown",
      "id": "78e6b623",
      "metadata": {},
      "source": [
        "# First run Jinaai"
      ]
    },
    {
      "cell_type": "code",
      "execution_count": 35,
      "id": "12e24a59",
      "metadata": {},
      "outputs": [
        {
          "name": "stdout",
          "output_type": "stream",
          "text": [
            "First 10 dimensions of the jina embedding of the first sentence:\n",
            "[ 0.00374553 -0.03817663  0.04986747  0.05704338 -0.01889193  0.02538015\n",
            " -0.00464961 -0.02859778  0.05522608  0.04366016]\n",
            "\n",
            "     VS.     \n",
            "\n",
            "First 10 dimensions of the SBERT-embedding of the first paragraph title:\n",
            "[-0.82493776  0.37236705 -0.21789166 -0.40293398 -0.21098825  0.22682333\n",
            "  0.41178384  0.4108907  -0.5003056 ]\n",
            "\n",
            "\n",
            "-->The embeddings for BERT's sentence vector and SBERT's vector are not equal!\n"
          ]
        }
      ],
      "source": [
        "def prepare_apply_model_jina(model, text):\n",
        "    with torch.no_grad():\n",
        "        embedding = model.encode(text, convert_to_tensor=True)\n",
        "    return embedding.numpy()\n",
        "\n",
        "\n",
        "text = df[\"paragraph_title\"].loc[0]\n",
        "jina_1st_emb = prepare_apply_model_jina(model_jinai, text)\n",
        "\n",
        "print(\"First 10 dimensions of the jina embedding of the first sentence:\")\n",
        "print(jina_1st_emb[:10])\n",
        "print(\"\\n     VS.     \\n\\nFirst 10 dimensions of the SBERT-embedding of the first paragraph title:\")\n",
        "print(s_bert_1st_emb[0:9])\n",
        "are_equal = np.array_equal(s_bert_1st_emb, jina_1st_emb)\n",
        "print(f\"\\n\\n-->The embeddings for BERT's sentence vector and SBERT's vector are {'equal' if are_equal else 'not equal'}!\")\n"
      ]
    },
    {
      "cell_type": "code",
      "execution_count": 38,
      "id": "890edfb8",
      "metadata": {},
      "outputs": [
        {
          "name": "stderr",
          "output_type": "stream",
          "text": [
            "Token indices sequence length is longer than the specified maximum sequence length for this model (943 > 512). Running this sequence through the model will result in indexing errors\n",
            "Token indices sequence length is longer than the specified maximum sequence length for this model (548 > 512). Running this sequence through the model will result in indexing errors\n"
          ]
        },
        {
          "data": {
            "image/png": "[encoded data removed]",
            "text/plain": [
              "<Figure size 900x500 with 1 Axes>"
            ]
          },
          "metadata": {},
          "output_type": "display_data"
        },
        {
          "data": {
            "image/png": "[encoded data removed]",
            "text/plain": [
              "<Figure size 900x500 with 1 Axes>"
            ]
          },
          "metadata": {},
          "output_type": "display_data"
        },
        {
          "data": {
            "image/png": "[encoded data removed]",
            "text/plain": [
              "<Figure size 900x500 with 1 Axes>"
            ]
          },
          "metadata": {},
          "output_type": "display_data"
        }
      ],
      "source": [
        "import matplotlib.pyplot as plt\n",
        "\n",
        "# Tokenizer laden\n",
        "tokenizer_jina = AutoTokenizer.from_pretrained(\"jinaai/jina-embeddings-v2-base-en\", trust_remote_code=True)\n",
        "tokenizer_bert = AutoTokenizer.from_pretrained(\"bert-base-cased\")\n",
        "tokenizer_gbert = AutoTokenizer.from_pretrained(\"deepset/gbert-base\")\n",
        "\n",
        "# Spalten zum Analysieren\n",
        "columns = [\"paragraph_title\", \"clean_paragraph_content\", \"clean_section_content\"]\n",
        "\n",
        "# Tokenlängen zählen\n",
        "token_counts = {\"jinaai\": {}, \"bert\": {}, \"gbert\": {}}\n",
        "for col in columns:\n",
        "    token_counts[\"jinaai\"][col] = df[col].fillna(\"\").apply(lambda x: len(tokenizer_jina.tokenize(x)))\n",
        "    token_counts[\"bert\"][col] = df[col].fillna(\"\").apply(lambda x: len(tokenizer_bert.tokenize(x)))\n",
        "    token_counts[\"gbert\"][col] = df[col].fillna(\"\").apply(lambda x: len(tokenizer_gbert.tokenize(x)))\n",
        "\n",
        "# Plotten (nur bis zum 99%-Quantil der X-Achse)\n",
        "for col in columns:\n",
        "    plt.figure(figsize=(9, 5))\n",
        "    max_x = max(\n",
        "        token_counts[\"jinaai\"][col].quantile(0.99),\n",
        "        token_counts[\"bert\"][col].quantile(0.99),\n",
        "        token_counts[\"gbert\"][col].quantile(0.99),\n",
        "    )\n",
        "    bins = np.linspace(0, max_x, 40)\n",
        "\n",
        "    for model_name, style in zip([\"jinaai\", \"bert\", \"gbert\"], ['-', '--', '-.']):\n",
        "        data = token_counts[model_name][col]\n",
        "        hist, bin_edges = np.histogram(data, bins=bins, density=True)\n",
        "        bin_centers = (bin_edges[:-1] + bin_edges[1:]) / 2\n",
        "        plt.plot(bin_centers, hist, label=model_name.upper(), linestyle=style)\n",
        "\n",
        "    plt.title(f\"Tokenanzahl-Verteilung für Spalte: {col}\")\n",
        "    plt.xlabel(\"Anzahl Tokens\")\n",
        "    plt.ylabel(\"Relative Häufigkeit (Dichte)\")\n",
        "    plt.legend()\n",
        "    plt.grid(True)\n",
        "    plt.tight_layout()\n",
        "    plt.show()\n"
      ]
    },
    {
      "cell_type": "code",
      "execution_count": null,
      "id": "30992c38",
      "metadata": {},
      "outputs": [
        {
          "name": "stdout",
          "output_type": "stream",
          "text": [
            "  Tokenizer                   Spalte     90%     95%     99%     99%\n",
            "0      bert  clean_paragraph_content  1671.0  1960.0  8061.5  8061.5\n",
            "3     gbert  clean_paragraph_content   800.0  1000.0  4009.0  4009.0\n",
            "6    jinaai  clean_paragraph_content   895.0  1141.0  4472.0  4472.0\n",
            "1      bert    clean_section_content   312.0   474.0  5354.5  5354.5\n",
            "4     gbert    clean_section_content   149.0   214.0  2550.5  2550.5\n",
            "7    jinaai    clean_section_content   169.0   246.0  2898.5  2898.5\n",
            "2      bert          paragraph_title    24.0    36.0   473.5   473.5\n",
            "5     gbert          paragraph_title    15.0    21.0   261.0   261.0\n",
            "8    jinaai          paragraph_title    17.0    24.0   298.0   298.0\n"
          ]
        }
      ],
      "source": [
        "# Tokenizer-Definition (vorausgesetzt sie wurden vorher geladen)\n",
        "tokenizers = {\n",
        "    \"jinaai\": tokenizer_jina,\n",
        "    \"bert\": tokenizer_bert,\n",
        "    \"gbert\": tokenizer_gbert\n",
        "}\n",
        "\n",
        "\n",
        "# Diese drei Spalten analysieren\n",
        "columns = [\"paragraph_title\", \"clean_paragraph_content\", \"clean_section_content\"]\n",
        "\n",
        "# Die Tokenanzahl für jede Spalte und Tokenizer (vorausgesetzt vorher berechnet)\n",
        "# Beispielstruktur:\n",
        "# token_counts = {\n",
        "#     \"JinaAI\": {\"paragraph_title\": [...], ...},\n",
        "#     \"BERT\": {\"paragraph_title\": [...], ...},\n",
        "#     \"GBERT\": {\"paragraph_title\": [...], ...}\n",
        "# }\n",
        "\n",
        "quantile_levels = [0.90, 0.95, 0.99, 0.999]\n",
        "quantile_report = {}\n",
        "\n",
        "for name in tokenizers:\n",
        "    quantile_report[name] = {}\n",
        "    for col in columns:\n",
        "        series = token_counts[name][col]\n",
        "        quantiles = series.quantile(quantile_levels)\n",
        "        quantile_report[name][col] = quantiles\n",
        "\n",
        "# DataFrame zusammenstellen\n",
        "import pandas as pd\n",
        "records = []\n",
        "for model_name, col_dict in quantile_report.items():\n",
        "    for col, quantiles in col_dict.items():\n",
        "        for q, value in quantiles.items():\n",
        "            records.append({\n",
        "                \"Tokenizer\": model_name,\n",
        "                \"Spalte\": col,\n",
        "                \"Quantil\": f\"{int(q * 100)}%\",\n",
        "                \"Tokenanzahl\": int(value)\n",
        "            })\n",
        "\n",
        "quantile_df = pd.DataFrame(records)\n",
        "quantile_df = quantile_df.sort_values(by=[\"Spalte\", \"Tokenizer\", \"Quantil\"])\n",
        "# Umstrukturieren des DataFrames: Quantile als Spalten statt Zeilen\n",
        "quantile_pivot = quantile_df.pivot_table(\n",
        "    index=[\"Tokenizer\", \"Spalte\"],\n",
        "    columns=\"Quantil\",\n",
        "    values=\"Tokenanzahl\"\n",
        ").reset_index()\n",
        "\n",
        "# Spalten sortieren für bessere Lesbarkeit\n",
        "quantile_pivot.columns.name = None\n",
        "quantile_pivot = quantile_pivot[[\"Tokenizer\", \"Spalte\", \"90%\", \"95%\", \"99%\", \"99%\"] if \"99%\" in quantile_pivot.columns else quantile_pivot.columns]\n",
        "\n",
        "print(quantile_pivot.sort_values(by = [\"Spalte\",\"Tokenizer\"]))\n",
        "\n"
      ]
    },
    {
      "cell_type": "code",
      "execution_count": null,
      "id": "322f55f8",
      "metadata": {},
      "outputs": [],
      "source": []
    },
    {
      "cell_type": "code",
      "execution_count": null,
      "id": "d0ca3747",
      "metadata": {},
      "outputs": [
        {
          "ename": "",
          "evalue": "",
          "output_type": "error",
          "traceback": [
            "\u001b[1;31mThe Kernel crashed while executing code in the current cell or a previous cell. \n",
            "\u001b[1;31mPlease review the code in the cell(s) to identify a possible cause of the failure. \n",
            "\u001b[1;31mClick <a href='https://aka.ms/vscodeJupyterKernelCrash'>here</a> for more info. \n",
            "\u001b[1;31mView Jupyter <a href='command:jupyter.viewOutput'>log</a> for further details."
          ]
        }
      ],
      "source": [
        "model_jinai.save(\"../models/raw_STM/base_jinai_sentence_mean_embs\")"
      ]
    },
    {
      "cell_type": "code",
      "execution_count": null,
      "id": "dc8b9296",
      "metadata": {},
      "outputs": [
        {
          "name": "stderr",
          "output_type": "stream",
          "text": [
            "Some weights of the model checkpoint at deepset/gbert-base were not used when initializing BertModel: ['cls.seq_relationship.weight', 'cls.predictions.transform.LayerNorm.weight', 'cls.seq_relationship.bias', 'cls.predictions.bias', 'cls.predictions.transform.LayerNorm.bias', 'cls.predictions.transform.dense.bias', 'cls.predictions.transform.dense.weight']\n",
            "- This IS expected if you are initializing BertModel from the checkpoint of a model trained on another task or with another architecture (e.g. initializing a BertForSequenceClassification model from a BertForPreTraining model).\n",
            "- This IS NOT expected if you are initializing BertModel from the checkpoint of a model that you expect to be exactly identical (initializing a BertForSequenceClassification model from a BertForSequenceClassification model).\n"
          ]
        }
      ],
      "source": [
        "\n",
        "models_in = [\"deepset/gbert-base\",\"sentence-transformers/paraphrase-multilingual-MiniLM-L12-v2\"]\n",
        "models_out = [\"base_gbert_sentence\", \"multilingual_paraphrase_sentence\"]\n",
        "pool_strats = [\"cls\",\"mean\"]\n",
        "\n",
        "from sentence_transformers import SentenceTransformer, models\n",
        "\n",
        "for model_in, model_out in zip(models_in, models_out):\n",
        "    # 1. Transformer-Basis (BERT)\n",
        "    word_embedding_model = models.Transformer(model_in, max_seq_length=512)\n",
        "\n",
        "    for pool_strat in pool_strats:\n",
        "        print(f'strat: {pool_strat}')\n",
        "\n",
        "        if pool_strat == \"cls\":\n",
        "            cls = True\n",
        "            mean = False\n",
        "        if pool_strat == \"mean\":\n",
        "            cls = False\n",
        "            mean = True\n",
        "\n",
        "        print(cls)\n",
        "        print(mean)\n",
        "        # 2. CLS-Pooling-Schicht\n",
        "        pooling_model = models.Pooling(\n",
        "            word_embedding_model.get_word_embedding_dimension(),\n",
        "            pooling_mode_cls_token=cls,           # ✅ CLS\n",
        "            pooling_mode_mean_tokens=mean,         # ✅ Mean laut chat gpt besser für semantische übereinstimmung\n",
        "            pooling_mode_max_tokens=False,\n",
        "        )\n",
        "\n",
        "        # 3. Zusammenführen\n",
        "        model = SentenceTransformer(modules=[word_embedding_model, pooling_model])\n",
        "        model.save(f\"../models/raw_STM/{model_out}_{pool_strat}_emb\")\n"
      ]
    }
  ],
  "metadata": {
    "colab": {
      "provenance": []
    },
    "kernelspec": {
      "display_name": ".venv",
      "language": "python",
      "name": "python3"
    },
    "language_info": {
      "codemirror_mode": {
        "name": "ipython",
        "version": 3
      },
      "file_extension": ".py",
      "mimetype": "text/x-python",
      "name": "python",
      "nbconvert_exporter": "python",
      "pygments_lexer": "ipython3",
      "version": "3.11.2"
    }
  },
  "nbformat": 4,
  "nbformat_minor": 5
}
