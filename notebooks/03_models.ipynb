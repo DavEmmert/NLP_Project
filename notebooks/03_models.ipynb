{
  "cells": [
    {
      "cell_type": "code",
      "execution_count": 9,
      "id": "a5de8cce",
      "metadata": {
        "id": "a5de8cce"
      },
      "outputs": [],
      "source": [
        "import pandas as pd\n",
        "import numpy as np\n",
        "from sentence_transformers import SentenceTransformer\n",
        "from transformers import BertTokenizer, BertModel\n",
        "import torch\n",
        "\n",
        "\n"
      ]
    },
    {
      "cell_type": "code",
      "execution_count": 10,
      "id": "dca61b91",
      "metadata": {
        "colab": {
          "base_uri": "https://localhost:8080/",
          "height": 347
        },
        "id": "dca61b91",
        "outputId": "599369a1-fa0f-44c8-b5ec-3169e9347d1f"
      },
      "outputs": [
        {
          "data": {
            "text/html": [
              "<div>\n",
              "<style scoped>\n",
              "    .dataframe tbody tr th:only-of-type {\n",
              "        vertical-align: middle;\n",
              "    }\n",
              "\n",
              "    .dataframe tbody tr th {\n",
              "        vertical-align: top;\n",
              "    }\n",
              "\n",
              "    .dataframe thead th {\n",
              "        text-align: right;\n",
              "    }\n",
              "</style>\n",
              "<table border=\"1\" class=\"dataframe\">\n",
              "  <thead>\n",
              "    <tr style=\"text-align: right;\">\n",
              "      <th></th>\n",
              "      <th>contract</th>\n",
              "      <th>paragraph</th>\n",
              "      <th>paragraph_title</th>\n",
              "      <th>paragraph_content</th>\n",
              "      <th>section</th>\n",
              "      <th>section_content</th>\n",
              "      <th>clean_paragraph_content</th>\n",
              "      <th>clean_section_content</th>\n",
              "      <th>paragraph_content_stemm</th>\n",
              "      <th>paragraph_content_lemma</th>\n",
              "      <th>paragraph_content_token</th>\n",
              "      <th>section_content_stemm</th>\n",
              "      <th>paragraph_section_lemma</th>\n",
              "      <th>paragraph_section_token</th>\n",
              "    </tr>\n",
              "  </thead>\n",
              "  <tbody>\n",
              "    <tr>\n",
              "      <th>0</th>\n",
              "      <td>1</td>\n",
              "      <td>1.</td>\n",
              "      <td>Vertragsgegenstand</td>\n",
              "      <td>1. Vertragsgegenstand 1.1 Diese Vertragsbeding...</td>\n",
              "      <td>1.1</td>\n",
              "      <td>1.1 Diese Vertragsbedingungen gelten für die N...</td>\n",
              "      <td>Diese Vertragsbedingungen gelten für die Nutzu...</td>\n",
              "      <td>Diese Vertragsbedingungen gelten für die Nutzu...</td>\n",
              "      <td>dies vertragsbedingungen gelten für die nutzun...</td>\n",
              "      <td>Diese Vertragsbedingungen gelten für die Nutzu...</td>\n",
              "      <td>[dies, ##e, ve, ##rt, ##rag, ##sb, ##eding, ##...</td>\n",
              "      <td>dies vertragsbedingungen gelten für die nutzun...</td>\n",
              "      <td>Diese Vertragsbedingungen gelten für die Nutzu...</td>\n",
              "      <td>[dies, ##e, ve, ##rt, ##rag, ##sb, ##eding, ##...</td>\n",
              "    </tr>\n",
              "    <tr>\n",
              "      <th>1</th>\n",
              "      <td>1</td>\n",
              "      <td>1.</td>\n",
              "      <td>Vertragsgegenstand</td>\n",
              "      <td>1. Vertragsgegenstand 1.1 Diese Vertragsbeding...</td>\n",
              "      <td>1.2</td>\n",
              "      <td>1.2 Die Software wird vom Anbieter als SaaS- b...</td>\n",
              "      <td>Diese Vertragsbedingungen gelten für die Nutzu...</td>\n",
              "      <td>Die Software wird vom Anbieter als SaaS bzw Cl...</td>\n",
              "      <td>dies vertragsbedingungen gelten für die nutzun...</td>\n",
              "      <td>Diese Vertragsbedingungen gelten für die Nutzu...</td>\n",
              "      <td>[dies, ##e, ve, ##rt, ##rag, ##sb, ##eding, ##...</td>\n",
              "      <td>die softwar wird vom anbiet al saa bzw cloudlö...</td>\n",
              "      <td>die Software wird vom Anbieter al SaaS bzw Clo...</td>\n",
              "      <td>[die, software, wi, ##rd, vo, ##m, an, ##bie, ...</td>\n",
              "    </tr>\n",
              "    <tr>\n",
              "      <th>2</th>\n",
              "      <td>1</td>\n",
              "      <td>1.</td>\n",
              "      <td>Vertragsgegenstand</td>\n",
              "      <td>1. Vertragsgegenstand 1.1 Diese Vertragsbeding...</td>\n",
              "      <td>1.3</td>\n",
              "      <td>1.3 Diese Vertragsbedingungen gelten ausschlie...</td>\n",
              "      <td>Diese Vertragsbedingungen gelten für die Nutzu...</td>\n",
              "      <td>Diese Vertragsbedingungen gelten ausschließlic...</td>\n",
              "      <td>dies vertragsbedingungen gelten für die nutzun...</td>\n",
              "      <td>Diese Vertragsbedingungen gelten für die Nutzu...</td>\n",
              "      <td>[dies, ##e, ve, ##rt, ##rag, ##sb, ##eding, ##...</td>\n",
              "      <td>dies vertragsbedingungen gelten ausschließlich...</td>\n",
              "      <td>Diese Vertragsbedingungen gelten ausschließlic...</td>\n",
              "      <td>[dies, ##e, ve, ##rt, ##rag, ##sb, ##eding, ##...</td>\n",
              "    </tr>\n",
              "    <tr>\n",
              "      <th>3</th>\n",
              "      <td>1</td>\n",
              "      <td>2.</td>\n",
              "      <td>Art und Umfang der Leistung</td>\n",
              "      <td>2. Art und Umfang der Leistung Der Anbieter st...</td>\n",
              "      <td>no sections use paragraph</td>\n",
              "      <td>2. Art und Umfang der Leistung Der Anbieter st...</td>\n",
              "      <td>Der Anbieter stellt dem Kunden die Software in...</td>\n",
              "      <td>Der Anbieter stellt dem Kunden die Software in...</td>\n",
              "      <td>der anbiet stellt dem kunden die softwar in de...</td>\n",
              "      <td>Der Anbieter stellt dem Kunden die Software in...</td>\n",
              "      <td>[der, an, ##bie, ##ter, ste, ##ll, ##t, dem, k...</td>\n",
              "      <td>der anbiet stellt dem kunden die softwar in de...</td>\n",
              "      <td>Der Anbieter stellt dem Kunden die Software in...</td>\n",
              "      <td>[der, an, ##bie, ##ter, ste, ##ll, ##t, dem, k...</td>\n",
              "    </tr>\n",
              "    <tr>\n",
              "      <th>4</th>\n",
              "      <td>1</td>\n",
              "      <td>3.</td>\n",
              "      <td>Verfügbarkeit der Software</td>\n",
              "      <td>3. Verfügbarkeit der Software 3.1 Der Anbieter...</td>\n",
              "      <td>3.1</td>\n",
              "      <td>3.1 Der Anbieter weist den Kunden darauf hin, ...</td>\n",
              "      <td>Der Anbieter weist den Kunden darauf hin dass ...</td>\n",
              "      <td>Der Anbieter weist den Kunden darauf hin dass ...</td>\n",
              "      <td>der anbiet weist den kunden darauf hin dass ei...</td>\n",
              "      <td>Der Anbieter weist den Kunden darauf hin dass ...</td>\n",
              "      <td>[der, an, ##bie, ##ter, wei, ##st, den, kun, #...</td>\n",
              "      <td>der anbiet weist den kunden darauf hin dass ei...</td>\n",
              "      <td>Der Anbieter weist den Kunden darauf hin dass ...</td>\n",
              "      <td>[der, an, ##bie, ##ter, wei, ##st, den, kun, #...</td>\n",
              "    </tr>\n",
              "  </tbody>\n",
              "</table>\n",
              "</div>"
            ],
            "text/plain": [
              "   contract paragraph              paragraph_title  \\\n",
              "0         1        1.           Vertragsgegenstand   \n",
              "1         1        1.           Vertragsgegenstand   \n",
              "2         1        1.           Vertragsgegenstand   \n",
              "3         1        2.  Art und Umfang der Leistung   \n",
              "4         1        3.   Verfügbarkeit der Software   \n",
              "\n",
              "                                   paragraph_content  \\\n",
              "0  1. Vertragsgegenstand 1.1 Diese Vertragsbeding...   \n",
              "1  1. Vertragsgegenstand 1.1 Diese Vertragsbeding...   \n",
              "2  1. Vertragsgegenstand 1.1 Diese Vertragsbeding...   \n",
              "3  2. Art und Umfang der Leistung Der Anbieter st...   \n",
              "4  3. Verfügbarkeit der Software 3.1 Der Anbieter...   \n",
              "\n",
              "                     section  \\\n",
              "0                        1.1   \n",
              "1                        1.2   \n",
              "2                        1.3   \n",
              "3  no sections use paragraph   \n",
              "4                        3.1   \n",
              "\n",
              "                                     section_content  \\\n",
              "0  1.1 Diese Vertragsbedingungen gelten für die N...   \n",
              "1  1.2 Die Software wird vom Anbieter als SaaS- b...   \n",
              "2  1.3 Diese Vertragsbedingungen gelten ausschlie...   \n",
              "3  2. Art und Umfang der Leistung Der Anbieter st...   \n",
              "4  3.1 Der Anbieter weist den Kunden darauf hin, ...   \n",
              "\n",
              "                             clean_paragraph_content  \\\n",
              "0  Diese Vertragsbedingungen gelten für die Nutzu...   \n",
              "1  Diese Vertragsbedingungen gelten für die Nutzu...   \n",
              "2  Diese Vertragsbedingungen gelten für die Nutzu...   \n",
              "3  Der Anbieter stellt dem Kunden die Software in...   \n",
              "4  Der Anbieter weist den Kunden darauf hin dass ...   \n",
              "\n",
              "                               clean_section_content  \\\n",
              "0  Diese Vertragsbedingungen gelten für die Nutzu...   \n",
              "1  Die Software wird vom Anbieter als SaaS bzw Cl...   \n",
              "2  Diese Vertragsbedingungen gelten ausschließlic...   \n",
              "3  Der Anbieter stellt dem Kunden die Software in...   \n",
              "4  Der Anbieter weist den Kunden darauf hin dass ...   \n",
              "\n",
              "                             paragraph_content_stemm  \\\n",
              "0  dies vertragsbedingungen gelten für die nutzun...   \n",
              "1  dies vertragsbedingungen gelten für die nutzun...   \n",
              "2  dies vertragsbedingungen gelten für die nutzun...   \n",
              "3  der anbiet stellt dem kunden die softwar in de...   \n",
              "4  der anbiet weist den kunden darauf hin dass ei...   \n",
              "\n",
              "                             paragraph_content_lemma  \\\n",
              "0  Diese Vertragsbedingungen gelten für die Nutzu...   \n",
              "1  Diese Vertragsbedingungen gelten für die Nutzu...   \n",
              "2  Diese Vertragsbedingungen gelten für die Nutzu...   \n",
              "3  Der Anbieter stellt dem Kunden die Software in...   \n",
              "4  Der Anbieter weist den Kunden darauf hin dass ...   \n",
              "\n",
              "                             paragraph_content_token  \\\n",
              "0  [dies, ##e, ve, ##rt, ##rag, ##sb, ##eding, ##...   \n",
              "1  [dies, ##e, ve, ##rt, ##rag, ##sb, ##eding, ##...   \n",
              "2  [dies, ##e, ve, ##rt, ##rag, ##sb, ##eding, ##...   \n",
              "3  [der, an, ##bie, ##ter, ste, ##ll, ##t, dem, k...   \n",
              "4  [der, an, ##bie, ##ter, wei, ##st, den, kun, #...   \n",
              "\n",
              "                               section_content_stemm  \\\n",
              "0  dies vertragsbedingungen gelten für die nutzun...   \n",
              "1  die softwar wird vom anbiet al saa bzw cloudlö...   \n",
              "2  dies vertragsbedingungen gelten ausschließlich...   \n",
              "3  der anbiet stellt dem kunden die softwar in de...   \n",
              "4  der anbiet weist den kunden darauf hin dass ei...   \n",
              "\n",
              "                             paragraph_section_lemma  \\\n",
              "0  Diese Vertragsbedingungen gelten für die Nutzu...   \n",
              "1  die Software wird vom Anbieter al SaaS bzw Clo...   \n",
              "2  Diese Vertragsbedingungen gelten ausschließlic...   \n",
              "3  Der Anbieter stellt dem Kunden die Software in...   \n",
              "4  Der Anbieter weist den Kunden darauf hin dass ...   \n",
              "\n",
              "                             paragraph_section_token  \n",
              "0  [dies, ##e, ve, ##rt, ##rag, ##sb, ##eding, ##...  \n",
              "1  [die, software, wi, ##rd, vo, ##m, an, ##bie, ...  \n",
              "2  [dies, ##e, ve, ##rt, ##rag, ##sb, ##eding, ##...  \n",
              "3  [der, an, ##bie, ##ter, ste, ##ll, ##t, dem, k...  \n",
              "4  [der, an, ##bie, ##ter, wei, ##st, den, kun, #...  "
            ]
          },
          "execution_count": 10,
          "metadata": {},
          "output_type": "execute_result"
        }
      ],
      "source": [
        "path = '../data/data_clean.pkl'\n",
        "df = pd.read_pickle(path)\n",
        "df.head()\n"
      ]
    },
    {
      "cell_type": "markdown",
      "id": "8Jiy1JnY6VTp",
      "metadata": {
        "id": "8Jiy1JnY6VTp"
      },
      "source": [
        "# 1 Loading the model and tokenizer"
      ]
    },
    {
      "cell_type": "code",
      "execution_count": 11,
      "id": "wjGzGtXG5YVf",
      "metadata": {
        "id": "wjGzGtXG5YVf"
      },
      "outputs": [],
      "source": [
        "bert_cased = BertTokenizer.from_pretrained('bert-base-cased')\n",
        "model = BertModel.from_pretrained('bert-base-cased')\n"
      ]
    },
    {
      "cell_type": "markdown",
      "id": "Woma71ea6dNz",
      "metadata": {
        "id": "Woma71ea6dNz"
      },
      "source": [
        "# 2. Appling the tokenizer on each of the cleand columns\n",
        "This will give us a list of token-IDs for every toeken in every entity in each coumn as a list\n"
      ]
    },
    {
      "cell_type": "markdown",
      "id": "OueLGd7P6S-a",
      "metadata": {
        "id": "OueLGd7P6S-a"
      },
      "source": []
    },
    {
      "cell_type": "code",
      "execution_count": 12,
      "id": "cT9XtK4z5rZp",
      "metadata": {
        "colab": {
          "base_uri": "https://localhost:8080/"
        },
        "id": "cT9XtK4z5rZp",
        "outputId": "86ff0bd4-f7d5-4020-a1af-473ce2b6308a"
      },
      "outputs": [
        {
          "name": "stderr",
          "output_type": "stream",
          "text": [
            "Token indices sequence length is longer than the specified maximum sequence length for this model (590 > 512). Running this sequence through the model will result in indexing errors\n"
          ]
        },
        {
          "name": "stdout",
          "output_type": "stream",
          "text": [
            "Clean content:\n",
            "0                              Vertragsgegenstand\n",
            "1                              Vertragsgegenstand\n",
            "2                              Vertragsgegenstand\n",
            "3                     Art und Umfang der Leistung\n",
            "4                      Verfügbarkeit der Software\n",
            "5                      Verfügbarkeit der Software\n",
            "6    Rechte zur Datenverarbeitung, Datensicherung\n",
            "7    Rechte zur Datenverarbeitung, Datensicherung\n",
            "8    Rechte zur Datenverarbeitung, Datensicherung\n",
            "9    Rechte zur Datenverarbeitung, Datensicherung\n",
            "Name: paragraph_title, dtype: object\n",
            "\n",
            "\n",
            "--> transformed to tokens (left out since we are using IDs):\n",
            "0     [V, ##ert, ##rag, ##s, ##ge, ##gens, ##tan, ##d]\n",
            "1     [V, ##ert, ##rag, ##s, ##ge, ##gens, ##tan, ##d]\n",
            "2     [V, ##ert, ##rag, ##s, ##ge, ##gens, ##tan, ##d]\n",
            "3    [Art, und, Um, ##fan, ##g, der, Le, ##ist, ##ung]\n",
            "4    [V, ##er, ##f, ##ü, ##g, ##bark, ##eit, der, S...\n",
            "5    [V, ##er, ##f, ##ü, ##g, ##bark, ##eit, der, S...\n",
            "6    [Re, ##cht, ##e, zur, Date, ##n, ##ver, ##ar, ...\n",
            "7    [Re, ##cht, ##e, zur, Date, ##n, ##ver, ##ar, ...\n",
            "8    [Re, ##cht, ##e, zur, Date, ##n, ##ver, ##ar, ...\n",
            "9    [Re, ##cht, ##e, zur, Date, ##n, ##ver, ##ar, ...\n",
            "Name: tokens_paragraph_title, dtype: object\n",
            "\n",
            "\n",
            "--> transformed to Ids:\n",
            "                          bert_quick_paragraph_titel\n",
            "0  [[101, 159, 7340, 20484, 1116, 2176, 21144, 51...\n",
            "1  [[101, 159, 7340, 20484, 1116, 2176, 21144, 51...\n",
            "2  [[101, 159, 7340, 20484, 1116, 2176, 21144, 51...\n",
            "3  [[101, 2051, 5576, 12189, 16740, 1403, 4167, 3...\n",
            "4  [[101, 159, 1200, 2087, 17176, 1403, 24063, 27...\n",
            "5  [[101, 159, 1200, 2087, 17176, 1403, 24063, 27...\n",
            "6  [[101, 11336, 9817, 1162, 23199, 14265, 1179, ...\n",
            "7  [[101, 11336, 9817, 1162, 23199, 14265, 1179, ...\n",
            "8  [[101, 11336, 9817, 1162, 23199, 14265, 1179, ...\n",
            "9  [[101, 11336, 9817, 1162, 23199, 14265, 1179, ...\n"
          ]
        }
      ],
      "source": [
        "df['tokens_paragraph_title'] = df['paragraph_title'].apply(lambda x: bert_cased.tokenize(str(x)))\n",
        "df['bert_quick_paragraph_titel']=df['paragraph_title'].apply(lambda x: [bert_cased.encode(x)])\n",
        "df['bert_quick_paragraph_content']=df['clean_paragraph_content'].apply(lambda x: [bert_cased.encode(x)])\n",
        "df['bert_quick_section_content']=df['clean_section_content'].apply(lambda x: [bert_cased.encode(x)])\n",
        "print(\"Clean content:\")\n",
        "print(df[\"paragraph_title\"][0:10])\n",
        "print(\"\\n\\n--> transformed to tokens (left out since we are using IDs):\")\n",
        "print(df['tokens_paragraph_title'][0:10])\n",
        "print(\"\\n\\n--> transformed to Ids:\")\n",
        "print(df[[\"bert_quick_paragraph_titel\"]][0:10])"
      ]
    },
    {
      "cell_type": "markdown",
      "id": "_7on7l1l-7BQ",
      "metadata": {
        "id": "_7on7l1l-7BQ"
      },
      "source": [
        "Since Bert needs torch-tensors we simmply transform the lsit to torch tensors:\n"
      ]
    },
    {
      "cell_type": "code",
      "execution_count": 14,
      "id": "y_czTZI9_DqR",
      "metadata": {
        "colab": {
          "base_uri": "https://localhost:8080/"
        },
        "id": "y_czTZI9_DqR",
        "outputId": "7c1f0ec3-5978-4b19-8ccb-f3c72d38d903"
      },
      "outputs": [
        {
          "name": "stdout",
          "output_type": "stream",
          "text": [
            "torch tensor for \"Vertragsgegenstand\":\n",
            "tensor([[  101,   159,  7340, 20484,  1116,  2176, 21144,  5108,  1181,   102]])\n"
          ]
        }
      ],
      "source": [
        "inputs_paragraph_title = df['bert_quick_paragraph_titel'].apply(lambda x: torch.tensor(x))\n",
        "inputs_paragraph_content = df['bert_quick_paragraph_content'].apply(lambda x: torch.tensor(x))\n",
        "inputs_section_content = df['bert_quick_section_content'].apply(lambda x: torch.tensor(x))\n",
        "print(f'torch tensor for \"{df[\"paragraph_title\"][1]}\":')\n",
        "print(inputs_paragraph_title[1])"
      ]
    },
    {
      "cell_type": "markdown",
      "id": "e7t_MnHjArcP",
      "metadata": {
        "id": "e7t_MnHjArcP"
      },
      "source": [
        "# 3. Structure of the model\n",
        "## 3.1 Word embeddings"
      ]
    },
    {
      "cell_type": "code",
      "execution_count": null,
      "id": "Ye8f6q1eAozO",
      "metadata": {
        "colab": {
          "base_uri": "https://localhost:8080/"
        },
        "id": "Ye8f6q1eAozO",
        "outputId": "9d28c7f1-980c-4943-9f67-495d5c205ce2"
      },
      "outputs": [
        {
          "name": "stdout",
          "output_type": "stream",
          "text": [
            "Embedding(28996, 768, padding_idx=0)\n",
            "--> 28996 tokens in the vocabulary\n",
            "--> 768 dimensions per emabding verctor\n"
          ]
        }
      ],
      "source": [
        "print(model.embeddings.word_embeddings)\n",
        "print(f'--> {model.embeddings.word_embeddings.weight.shape[0]} tokens in the vocabulary')\n",
        "print(f'--> {model.embeddings.word_embeddings.weight.shape[1]} dimensions per emabding verctor')"
      ]
    },
    {
      "cell_type": "markdown",
      "id": "-4U-HeFICDtq",
      "metadata": {
        "id": "-4U-HeFICDtq"
      },
      "source": [
        "## 3.2 Position embeddings"
      ]
    },
    {
      "cell_type": "code",
      "execution_count": 15,
      "id": "gJbvvG5eA62q",
      "metadata": {
        "colab": {
          "base_uri": "https://localhost:8080/"
        },
        "id": "gJbvvG5eA62q",
        "outputId": "a891a34a-b5da-4515-999c-eb7f005a3659"
      },
      "outputs": [
        {
          "name": "stdout",
          "output_type": "stream",
          "text": [
            "Embedding(512, 768)\n",
            "--> 512 maximum chunk length\n",
            "--> 768 dimensions per emabding verctor\n"
          ]
        }
      ],
      "source": [
        "print(model.embeddings.position_embeddings)\n",
        "print(f'--> {model.embeddings.position_embeddings.weight.shape[0]} maximum chunk length')\n",
        "print(f'--> {model.embeddings.position_embeddings.weight.shape[1]} dimensions per emabding verctor')"
      ]
    },
    {
      "cell_type": "markdown",
      "id": "W6TF3prjC3j9",
      "metadata": {
        "id": "W6TF3prjC3j9"
      },
      "source": [
        "## 3.3 Transformer Layers"
      ]
    },
    {
      "cell_type": "code",
      "execution_count": 16,
      "id": "bHXBLDIuA7C3",
      "metadata": {
        "colab": {
          "base_uri": "https://localhost:8080/"
        },
        "id": "bHXBLDIuA7C3",
        "outputId": "e3a76d29-7e2a-4402-87a0-7bbd91fd0da3"
      },
      "outputs": [
        {
          "name": "stdout",
          "output_type": "stream",
          "text": [
            "12\n",
            "--> Number of transformer layers\n"
          ]
        }
      ],
      "source": [
        "print(len(model.encoder.layer))\n",
        "print('--> Number of transformer layers')"
      ]
    },
    {
      "cell_type": "markdown",
      "id": "ULZEdI-CDAfx",
      "metadata": {
        "id": "ULZEdI-CDAfx"
      },
      "source": [
        "## 3.4 Structure of the first layer\n",
        "TO BE DONE\n"
      ]
    },
    {
      "cell_type": "code",
      "execution_count": 17,
      "id": "V4Kt2GbmA7Mz",
      "metadata": {
        "colab": {
          "base_uri": "https://localhost:8080/"
        },
        "id": "V4Kt2GbmA7Mz",
        "outputId": "553ba2de-93b9-4d31-dbc7-6bf6b5788583"
      },
      "outputs": [
        {
          "name": "stdout",
          "output_type": "stream",
          "text": [
            "BertLayer(\n",
            "  (attention): BertAttention(\n",
            "    (self): BertSdpaSelfAttention(\n",
            "      (query): Linear(in_features=768, out_features=768, bias=True)\n",
            "      (key): Linear(in_features=768, out_features=768, bias=True)\n",
            "      (value): Linear(in_features=768, out_features=768, bias=True)\n",
            "      (dropout): Dropout(p=0.1, inplace=False)\n",
            "    )\n",
            "    (output): BertSelfOutput(\n",
            "      (dense): Linear(in_features=768, out_features=768, bias=True)\n",
            "      (LayerNorm): LayerNorm((768,), eps=1e-12, elementwise_affine=True)\n",
            "      (dropout): Dropout(p=0.1, inplace=False)\n",
            "    )\n",
            "  )\n",
            "  (intermediate): BertIntermediate(\n",
            "    (dense): Linear(in_features=768, out_features=3072, bias=True)\n",
            "    (intermediate_act_fn): GELUActivation()\n",
            "  )\n",
            "  (output): BertOutput(\n",
            "    (dense): Linear(in_features=3072, out_features=768, bias=True)\n",
            "    (LayerNorm): LayerNorm((768,), eps=1e-12, elementwise_affine=True)\n",
            "    (dropout): Dropout(p=0.1, inplace=False)\n",
            "  )\n",
            ")\n"
          ]
        }
      ],
      "source": [
        "print(model.encoder.layer[0])"
      ]
    },
    {
      "cell_type": "markdown",
      "id": "dEC1jwrUFRZf",
      "metadata": {
        "id": "dEC1jwrUFRZf"
      },
      "source": [
        "## 3.5 Pooler\n",
        "TO BE DONE"
      ]
    },
    {
      "cell_type": "code",
      "execution_count": 18,
      "id": "eMJnxwHXBCZV",
      "metadata": {
        "colab": {
          "base_uri": "https://localhost:8080/"
        },
        "id": "eMJnxwHXBCZV",
        "outputId": "79840f9c-11bc-4d10-dc7f-a7cfb908a4d8"
      },
      "outputs": [
        {
          "name": "stdout",
          "output_type": "stream",
          "text": [
            "BertPooler(\n",
            "  (dense): Linear(in_features=768, out_features=768, bias=True)\n",
            "  (activation): Tanh()\n",
            ")\n"
          ]
        }
      ],
      "source": [
        "print(model.pooler)"
      ]
    },
    {
      "cell_type": "markdown",
      "id": "81zvZ0l7HXvt",
      "metadata": {
        "id": "81zvZ0l7HXvt"
      },
      "source": [
        "# 4. First run of BERT\n"
      ]
    },
    {
      "cell_type": "code",
      "execution_count": 19,
      "id": "iI5Wn5amHxFw",
      "metadata": {
        "colab": {
          "base_uri": "https://localhost:8080/",
          "height": 369
        },
        "id": "iI5Wn5amHxFw",
        "outputId": "13176a90-ba69-491b-c9a8-6508d6eb3f90"
      },
      "outputs": [
        {
          "name": "stderr",
          "output_type": "stream",
          "text": [
            "BertSdpaSelfAttention is used but `torch.nn.functional.scaled_dot_product_attention` does not support non-absolute `position_embedding_type` or `output_attentions=True` or `head_mask`. Falling back to the manual attention implementation, but specifying the manual implementation will be required from Transformers version v5.0.0 onwards. This warning can be removed using the argument `attn_implementation=\"eager\"` when loading the model.\n"
          ]
        },
        {
          "name": "stdout",
          "output_type": "stream",
          "text": [
            "(1, 10, 768)\n",
            "--> 1st input has 1 sentence and 10 tokens with 768-dimanisonal embeddings\n",
            "(768,)\n",
            "--> the CLS-Token (for the sentence) has a 768-dimensional embedding\n"
          ]
        }
      ],
      "source": [
        "with torch.no_grad():\n",
        " outputs = model(inputs_paragraph_title[0] , output_attentions=True)\n",
        " embeddings_all = outputs.last_hidden_state.numpy()\n",
        " embeddings = outputs.last_hidden_state[0] [0].numpy()\n",
        "\n",
        "print(embeddings_all.shape)\n",
        "print(f\"--> 1st input has {embeddings_all.shape[0]} sentence and {embeddings_all.shape[1]} tokens with {embeddings_all.shape[2]}-dimanisonal embeddings\")\n",
        "print(embeddings.shape)\n",
        "print(f\"--> the CLS-Token (for the sentence) has a {embeddings.shape[0]}-dimensional embedding\")\n"
      ]
    },
    {
      "cell_type": "markdown",
      "id": "fPyW_f5yL4Hb",
      "metadata": {
        "id": "fPyW_f5yL4Hb"
      },
      "source": [
        "# 4.1 Attentionsheads of BERT\n",
        "\n"
      ]
    },
    {
      "cell_type": "code",
      "execution_count": 22,
      "id": "7sTCa5kkL3BR",
      "metadata": {
        "colab": {
          "base_uri": "https://localhost:8080/",
          "height": 294
        },
        "id": "7sTCa5kkL3BR",
        "outputId": "f77392e7-4705-4a2d-f0cb-12c5b9f06eee"
      },
      "outputs": [],
      "source": [
        "attention_weights = outputs.attentions\n",
        "#head_view(attention_weights,\n",
        "#tokens=bert_cased.convert_ids_to_tokens(inputs_paragraph_title[0][0]))"
      ]
    },
    {
      "cell_type": "markdown",
      "id": "638RUlziTkxM",
      "metadata": {
        "id": "638RUlziTkxM"
      },
      "source": [
        "## 4.2 Calculation of the CLS ebadings in BERT"
      ]
    },
    {
      "cell_type": "code",
      "execution_count": 23,
      "id": "hcR8UgZOQyw0",
      "metadata": {
        "id": "hcR8UgZOQyw0"
      },
      "outputs": [
        {
          "name": "stdout",
          "output_type": "stream",
          "text": [
            "First 10 dimensions of the BERT-embedding of the first sentence:\n",
            "[ 0.37478474  0.08961661 -0.12682869 -0.26694614 -0.05042038  0.10338304\n",
            "  0.3454303  -0.09266943 -0.08774802]\n"
          ]
        }
      ],
      "source": [
        "def prepare_apply_model(tokenizer, text, model):\n",
        "  input=torch.tensor([tokenizer.encode(text)])\n",
        "  with torch.no_grad():\n",
        "   outputs = model(input)\n",
        "  embeddings = outputs.last_hidden_state[0][0].numpy()\n",
        "  return embeddings\n",
        "\n",
        "bert_1st_emb = prepare_apply_model(bert_cased, df[\"paragraph_title\"].loc[0], model)\n",
        "print(\"First 10 dimensions of the BERT-embedding of the first sentence:\")\n",
        "print(bert_1st_emb[0:9])"
      ]
    },
    {
      "cell_type": "markdown",
      "id": "v03MHfKockrV",
      "metadata": {
        "id": "v03MHfKockrV"
      },
      "source": [
        "# 4. First run of SBERT"
      ]
    },
    {
      "cell_type": "code",
      "execution_count": 24,
      "id": "x-muQvVGR4d6",
      "metadata": {
        "id": "x-muQvVGR4d6"
      },
      "outputs": [],
      "source": [
        "model_sbert_bert = SentenceTransformer(\"bert-base-nli-cls-token\")\n"
      ]
    },
    {
      "cell_type": "code",
      "execution_count": 25,
      "id": "rNFIxzstZr-B",
      "metadata": {
        "colab": {
          "base_uri": "https://localhost:8080/"
        },
        "id": "rNFIxzstZr-B",
        "outputId": "ed39898d-cfc3-4e84-e3ba-3ea36bd3cab5"
      },
      "outputs": [
        {
          "name": "stdout",
          "output_type": "stream",
          "text": [
            "torch.Size([768])\n",
            "--> The sentence vector has 768 dimensionen.\n"
          ]
        }
      ],
      "source": [
        "\n",
        "embedding = model_sbert_bert.encode(df[\"paragraph_title\"][0], convert_to_tensor=True)\n",
        "\n",
        "print(embedding.shape)\n",
        "print(f\"--> The sentence vector has {embedding.shape[0]} dimensionen.\")"
      ]
    },
    {
      "cell_type": "code",
      "execution_count": 27,
      "id": "zztL8lyrcvSN",
      "metadata": {
        "colab": {
          "base_uri": "https://localhost:8080/"
        },
        "id": "zztL8lyrcvSN",
        "outputId": "5c271b10-9acb-49f2-d32b-cf1241e8d2e9"
      },
      "outputs": [
        {
          "name": "stdout",
          "output_type": "stream",
          "text": [
            "First 10 dimensions of the BERT-embedding of the paragraph title:\n",
            "[ 0.37478474  0.08961661 -0.12682869 -0.26694614 -0.05042038  0.10338304\n",
            "  0.3454303  -0.09266943 -0.08774802]\n",
            "\n",
            "     VS.     \n",
            "\n",
            "First 10 dimensions of the SBERT-embedding of the first paragraph title:\n",
            "[-0.4799695   0.06948653  0.9682909  -0.17585222  0.36066523  0.17929685\n",
            "  0.37011197  0.66411394 -0.12231008]\n",
            "\n",
            "\n",
            "-->The embeddings for BERT's sentence vector and SBERT's vector are not equal!\n"
          ]
        }
      ],
      "source": [
        "def prepare_apply_model_SBERT(model, text):\n",
        "  with torch.no_grad():\n",
        "    embeddings = model.encode(text, convert_to_tensor=True)\n",
        "  return embeddings\n",
        "s_bert_1st_emb = prepare_apply_model_SBERT(model_sbert_bert, df[\"paragraph_title\"].loc[0]).numpy()\n",
        "print(\"First 10 dimensions of the BERT-embedding of the paragraph title:\")\n",
        "print(bert_1st_emb[0:9])\n",
        "print(\"\\n     VS.     \\n\\nFirst 10 dimensions of the SBERT-embedding of the first paragraph title:\")\n",
        "print(s_bert_1st_emb[0:9])\n",
        "are_equal = np.array_equal(s_bert_1st_emb, bert_1st_emb)\n",
        "\n",
        "print(f\"\\n\\n-->The embeddings for BERT's sentence vector and SBERT's vector are {'equal' if are_equal else 'not equal'}!\")"
      ]
    },
    {
      "cell_type": "markdown",
      "id": "MHh_ydf0ml5i",
      "metadata": {
        "id": "MHh_ydf0ml5i"
      },
      "source": [
        "Since SBERT is Finetuned for recognizing semantic similarity for Sentences and paragraphs we want to use SBERT as a model. How ever we need to adjust the underlaying model so that it can fit better to german contract langauge."
      ]
    },
    {
      "cell_type": "markdown",
      "id": "Z5Wm8gdssE7p",
      "metadata": {
        "id": "Z5Wm8gdssE7p"
      },
      "source": [
        "# 5 Loading the GERMAN LEGAL model and tokenizer"
      ]
    },
    {
      "cell_type": "code",
      "execution_count": 28,
      "id": "5wYD1_8msE7p",
      "metadata": {
        "id": "5wYD1_8msE7p"
      },
      "outputs": [],
      "source": [
        "legal_g_bert_cased = BertTokenizer.from_pretrained('deepset/gbert-base')\n",
        "model_legal_g_bert = BertModel.from_pretrained('deepset/gbert-base')\n"
      ]
    },
    {
      "cell_type": "markdown",
      "id": "dTSvNP_tsE7q",
      "metadata": {
        "id": "dTSvNP_tsE7q"
      },
      "source": [
        "# 7. Comparison GERMAN-LEGAL-BERT & generic BERT\n",
        "This will give us a list of token-IDs for every toeken in every entity in each coumn as a list\n"
      ]
    },
    {
      "cell_type": "markdown",
      "id": "_54ipDJusE7q",
      "metadata": {
        "id": "_54ipDJusE7q"
      },
      "source": []
    },
    {
      "cell_type": "code",
      "execution_count": 30,
      "id": "BPz9K9kHsE7q",
      "metadata": {
        "colab": {
          "base_uri": "https://localhost:8080/",
          "height": 1000
        },
        "id": "BPz9K9kHsE7q",
        "outputId": "b35b123c-a1a7-4977-b03d-18c267638eec"
      },
      "outputs": [
        {
          "name": "stdout",
          "output_type": "stream",
          "text": [
            "Clean content:\n"
          ]
        },
        {
          "data": {
            "text/plain": [
              "0                              Vertragsgegenstand\n",
              "1                              Vertragsgegenstand\n",
              "2                              Vertragsgegenstand\n",
              "3                     Art und Umfang der Leistung\n",
              "4                      Verfügbarkeit der Software\n",
              "5                      Verfügbarkeit der Software\n",
              "6    Rechte zur Datenverarbeitung, Datensicherung\n",
              "7    Rechte zur Datenverarbeitung, Datensicherung\n",
              "8    Rechte zur Datenverarbeitung, Datensicherung\n",
              "9    Rechte zur Datenverarbeitung, Datensicherung\n",
              "Name: paragraph_title, dtype: object"
            ]
          },
          "metadata": {},
          "output_type": "display_data"
        },
        {
          "name": "stdout",
          "output_type": "stream",
          "text": [
            "\n",
            "\n",
            "--> transformed to tokens (left out since we are using IDs):\n"
          ]
        },
        {
          "data": {
            "text/html": [
              "<div>\n",
              "<style scoped>\n",
              "    .dataframe tbody tr th:only-of-type {\n",
              "        vertical-align: middle;\n",
              "    }\n",
              "\n",
              "    .dataframe tbody tr th {\n",
              "        vertical-align: top;\n",
              "    }\n",
              "\n",
              "    .dataframe thead th {\n",
              "        text-align: right;\n",
              "    }\n",
              "</style>\n",
              "<table border=\"1\" class=\"dataframe\">\n",
              "  <thead>\n",
              "    <tr style=\"text-align: right;\">\n",
              "      <th></th>\n",
              "      <th>tokens_paragraph_title_legal</th>\n",
              "      <th>tokens_paragraph_title</th>\n",
              "    </tr>\n",
              "  </thead>\n",
              "  <tbody>\n",
              "    <tr>\n",
              "      <th>0</th>\n",
              "      <td>[Vertrags, ##gegen, ##stand]</td>\n",
              "      <td>[V, ##ert, ##rag, ##s, ##ge, ##gens, ##tan, ##d]</td>\n",
              "    </tr>\n",
              "    <tr>\n",
              "      <th>1</th>\n",
              "      <td>[Vertrags, ##gegen, ##stand]</td>\n",
              "      <td>[V, ##ert, ##rag, ##s, ##ge, ##gens, ##tan, ##d]</td>\n",
              "    </tr>\n",
              "    <tr>\n",
              "      <th>2</th>\n",
              "      <td>[Vertrags, ##gegen, ##stand]</td>\n",
              "      <td>[V, ##ert, ##rag, ##s, ##ge, ##gens, ##tan, ##d]</td>\n",
              "    </tr>\n",
              "    <tr>\n",
              "      <th>3</th>\n",
              "      <td>[Art, und, Umfang, der, Leistung]</td>\n",
              "      <td>[Art, und, Um, ##fan, ##g, der, Le, ##ist, ##ung]</td>\n",
              "    </tr>\n",
              "    <tr>\n",
              "      <th>4</th>\n",
              "      <td>[Verfügbarkeit, der, Software]</td>\n",
              "      <td>[V, ##er, ##f, ##ü, ##g, ##bark, ##eit, der, Software]</td>\n",
              "    </tr>\n",
              "    <tr>\n",
              "      <th>5</th>\n",
              "      <td>[Verfügbarkeit, der, Software]</td>\n",
              "      <td>[V, ##er, ##f, ##ü, ##g, ##bark, ##eit, der, Software]</td>\n",
              "    </tr>\n",
              "    <tr>\n",
              "      <th>6</th>\n",
              "      <td>[Rechte, zur, Daten, ##verarbeitung, ,, Daten, ##sicherung]</td>\n",
              "      <td>[Re, ##cht, ##e, zur, Date, ##n, ##ver, ##ar, ##bei, ##tun, ##g, ,, Date, ##ns, ##iche, ##rung]</td>\n",
              "    </tr>\n",
              "    <tr>\n",
              "      <th>7</th>\n",
              "      <td>[Rechte, zur, Daten, ##verarbeitung, ,, Daten, ##sicherung]</td>\n",
              "      <td>[Re, ##cht, ##e, zur, Date, ##n, ##ver, ##ar, ##bei, ##tun, ##g, ,, Date, ##ns, ##iche, ##rung]</td>\n",
              "    </tr>\n",
              "    <tr>\n",
              "      <th>8</th>\n",
              "      <td>[Rechte, zur, Daten, ##verarbeitung, ,, Daten, ##sicherung]</td>\n",
              "      <td>[Re, ##cht, ##e, zur, Date, ##n, ##ver, ##ar, ##bei, ##tun, ##g, ,, Date, ##ns, ##iche, ##rung]</td>\n",
              "    </tr>\n",
              "    <tr>\n",
              "      <th>9</th>\n",
              "      <td>[Rechte, zur, Daten, ##verarbeitung, ,, Daten, ##sicherung]</td>\n",
              "      <td>[Re, ##cht, ##e, zur, Date, ##n, ##ver, ##ar, ##bei, ##tun, ##g, ,, Date, ##ns, ##iche, ##rung]</td>\n",
              "    </tr>\n",
              "  </tbody>\n",
              "</table>\n",
              "</div>"
            ],
            "text/plain": [
              "                                  tokens_paragraph_title_legal  \\\n",
              "0                                 [Vertrags, ##gegen, ##stand]   \n",
              "1                                 [Vertrags, ##gegen, ##stand]   \n",
              "2                                 [Vertrags, ##gegen, ##stand]   \n",
              "3                            [Art, und, Umfang, der, Leistung]   \n",
              "4                               [Verfügbarkeit, der, Software]   \n",
              "5                               [Verfügbarkeit, der, Software]   \n",
              "6  [Rechte, zur, Daten, ##verarbeitung, ,, Daten, ##sicherung]   \n",
              "7  [Rechte, zur, Daten, ##verarbeitung, ,, Daten, ##sicherung]   \n",
              "8  [Rechte, zur, Daten, ##verarbeitung, ,, Daten, ##sicherung]   \n",
              "9  [Rechte, zur, Daten, ##verarbeitung, ,, Daten, ##sicherung]   \n",
              "\n",
              "                                                                            tokens_paragraph_title  \n",
              "0                                                 [V, ##ert, ##rag, ##s, ##ge, ##gens, ##tan, ##d]  \n",
              "1                                                 [V, ##ert, ##rag, ##s, ##ge, ##gens, ##tan, ##d]  \n",
              "2                                                 [V, ##ert, ##rag, ##s, ##ge, ##gens, ##tan, ##d]  \n",
              "3                                                [Art, und, Um, ##fan, ##g, der, Le, ##ist, ##ung]  \n",
              "4                                           [V, ##er, ##f, ##ü, ##g, ##bark, ##eit, der, Software]  \n",
              "5                                           [V, ##er, ##f, ##ü, ##g, ##bark, ##eit, der, Software]  \n",
              "6  [Re, ##cht, ##e, zur, Date, ##n, ##ver, ##ar, ##bei, ##tun, ##g, ,, Date, ##ns, ##iche, ##rung]  \n",
              "7  [Re, ##cht, ##e, zur, Date, ##n, ##ver, ##ar, ##bei, ##tun, ##g, ,, Date, ##ns, ##iche, ##rung]  \n",
              "8  [Re, ##cht, ##e, zur, Date, ##n, ##ver, ##ar, ##bei, ##tun, ##g, ,, Date, ##ns, ##iche, ##rung]  \n",
              "9  [Re, ##cht, ##e, zur, Date, ##n, ##ver, ##ar, ##bei, ##tun, ##g, ,, Date, ##ns, ##iche, ##rung]  "
            ]
          },
          "metadata": {},
          "output_type": "display_data"
        },
        {
          "name": "stdout",
          "output_type": "stream",
          "text": [
            "\n",
            "\n",
            "--> transformed to Ids:\n"
          ]
        },
        {
          "data": {
            "text/html": [
              "<div>\n",
              "<style scoped>\n",
              "    .dataframe tbody tr th:only-of-type {\n",
              "        vertical-align: middle;\n",
              "    }\n",
              "\n",
              "    .dataframe tbody tr th {\n",
              "        vertical-align: top;\n",
              "    }\n",
              "\n",
              "    .dataframe thead th {\n",
              "        text-align: right;\n",
              "    }\n",
              "</style>\n",
              "<table border=\"1\" class=\"dataframe\">\n",
              "  <thead>\n",
              "    <tr style=\"text-align: right;\">\n",
              "      <th></th>\n",
              "      <th>legal_bert_quick_paragraph_titel</th>\n",
              "      <th>bert_quick_paragraph_titel</th>\n",
              "    </tr>\n",
              "  </thead>\n",
              "  <tbody>\n",
              "    <tr>\n",
              "      <th>0</th>\n",
              "      <td>[[102, 7545, 1789, 858, 103]]</td>\n",
              "      <td>[[101, 159, 7340, 20484, 1116, 2176, 21144, 5108, 1181, 102]]</td>\n",
              "    </tr>\n",
              "    <tr>\n",
              "      <th>1</th>\n",
              "      <td>[[102, 7545, 1789, 858, 103]]</td>\n",
              "      <td>[[101, 159, 7340, 20484, 1116, 2176, 21144, 5108, 1181, 102]]</td>\n",
              "    </tr>\n",
              "    <tr>\n",
              "      <th>2</th>\n",
              "      <td>[[102, 7545, 1789, 858, 103]]</td>\n",
              "      <td>[[101, 159, 7340, 20484, 1116, 2176, 21144, 5108, 1181, 102]]</td>\n",
              "    </tr>\n",
              "    <tr>\n",
              "      <th>3</th>\n",
              "      <td>[[102, 1622, 136, 7661, 125, 4970, 103]]</td>\n",
              "      <td>[[101, 2051, 5576, 12189, 16740, 1403, 4167, 3180, 1776, 4380, 102]]</td>\n",
              "    </tr>\n",
              "    <tr>\n",
              "      <th>4</th>\n",
              "      <td>[[102, 14967, 125, 5177, 103]]</td>\n",
              "      <td>[[101, 159, 1200, 2087, 17176, 1403, 24063, 27863, 4167, 10331, 102]]</td>\n",
              "    </tr>\n",
              "    <tr>\n",
              "      <th>5</th>\n",
              "      <td>[[102, 14967, 125, 5177, 103]]</td>\n",
              "      <td>[[101, 159, 1200, 2087, 17176, 1403, 24063, 27863, 4167, 10331, 102]]</td>\n",
              "    </tr>\n",
              "    <tr>\n",
              "      <th>6</th>\n",
              "      <td>[[102, 5487, 356, 1718, 13613, 818, 1718, 15295, 103]]</td>\n",
              "      <td>[[101, 11336, 9817, 1162, 23199, 14265, 1179, 4121, 1813, 16791, 19972, 1403, 117, 14265, 2316, 26312, 20901, 102]]</td>\n",
              "    </tr>\n",
              "    <tr>\n",
              "      <th>7</th>\n",
              "      <td>[[102, 5487, 356, 1718, 13613, 818, 1718, 15295, 103]]</td>\n",
              "      <td>[[101, 11336, 9817, 1162, 23199, 14265, 1179, 4121, 1813, 16791, 19972, 1403, 117, 14265, 2316, 26312, 20901, 102]]</td>\n",
              "    </tr>\n",
              "    <tr>\n",
              "      <th>8</th>\n",
              "      <td>[[102, 5487, 356, 1718, 13613, 818, 1718, 15295, 103]]</td>\n",
              "      <td>[[101, 11336, 9817, 1162, 23199, 14265, 1179, 4121, 1813, 16791, 19972, 1403, 117, 14265, 2316, 26312, 20901, 102]]</td>\n",
              "    </tr>\n",
              "    <tr>\n",
              "      <th>9</th>\n",
              "      <td>[[102, 5487, 356, 1718, 13613, 818, 1718, 15295, 103]]</td>\n",
              "      <td>[[101, 11336, 9817, 1162, 23199, 14265, 1179, 4121, 1813, 16791, 19972, 1403, 117, 14265, 2316, 26312, 20901, 102]]</td>\n",
              "    </tr>\n",
              "  </tbody>\n",
              "</table>\n",
              "</div>"
            ],
            "text/plain": [
              "                         legal_bert_quick_paragraph_titel  \\\n",
              "0                           [[102, 7545, 1789, 858, 103]]   \n",
              "1                           [[102, 7545, 1789, 858, 103]]   \n",
              "2                           [[102, 7545, 1789, 858, 103]]   \n",
              "3                [[102, 1622, 136, 7661, 125, 4970, 103]]   \n",
              "4                          [[102, 14967, 125, 5177, 103]]   \n",
              "5                          [[102, 14967, 125, 5177, 103]]   \n",
              "6  [[102, 5487, 356, 1718, 13613, 818, 1718, 15295, 103]]   \n",
              "7  [[102, 5487, 356, 1718, 13613, 818, 1718, 15295, 103]]   \n",
              "8  [[102, 5487, 356, 1718, 13613, 818, 1718, 15295, 103]]   \n",
              "9  [[102, 5487, 356, 1718, 13613, 818, 1718, 15295, 103]]   \n",
              "\n",
              "                                                                                            bert_quick_paragraph_titel  \n",
              "0                                                        [[101, 159, 7340, 20484, 1116, 2176, 21144, 5108, 1181, 102]]  \n",
              "1                                                        [[101, 159, 7340, 20484, 1116, 2176, 21144, 5108, 1181, 102]]  \n",
              "2                                                        [[101, 159, 7340, 20484, 1116, 2176, 21144, 5108, 1181, 102]]  \n",
              "3                                                 [[101, 2051, 5576, 12189, 16740, 1403, 4167, 3180, 1776, 4380, 102]]  \n",
              "4                                                [[101, 159, 1200, 2087, 17176, 1403, 24063, 27863, 4167, 10331, 102]]  \n",
              "5                                                [[101, 159, 1200, 2087, 17176, 1403, 24063, 27863, 4167, 10331, 102]]  \n",
              "6  [[101, 11336, 9817, 1162, 23199, 14265, 1179, 4121, 1813, 16791, 19972, 1403, 117, 14265, 2316, 26312, 20901, 102]]  \n",
              "7  [[101, 11336, 9817, 1162, 23199, 14265, 1179, 4121, 1813, 16791, 19972, 1403, 117, 14265, 2316, 26312, 20901, 102]]  \n",
              "8  [[101, 11336, 9817, 1162, 23199, 14265, 1179, 4121, 1813, 16791, 19972, 1403, 117, 14265, 2316, 26312, 20901, 102]]  \n",
              "9  [[101, 11336, 9817, 1162, 23199, 14265, 1179, 4121, 1813, 16791, 19972, 1403, 117, 14265, 2316, 26312, 20901, 102]]  "
            ]
          },
          "metadata": {},
          "output_type": "display_data"
        }
      ],
      "source": [
        "df['tokens_paragraph_title_legal'] = df['paragraph_title'].apply(lambda x: legal_g_bert_cased.tokenize(str(x)))\n",
        "df['legal_bert_quick_paragraph_titel']=df['paragraph_title'].apply(lambda x: [legal_g_bert_cased.encode(x)])\n",
        "df['legal_bert_quick_paragraph_content']=df['clean_paragraph_content'].apply(lambda x: [legal_g_bert_cased.encode(x)])\n",
        "df['legal_bert_quick_section_content']=df['clean_section_content'].apply(lambda x: [legal_g_bert_cased.encode(x)])\n",
        "print(\"Clean content:\")\n",
        "display(df[\"paragraph_title\"][0:10])\n",
        "print(\"\\n\\n--> transformed to tokens (left out since we are using IDs):\")\n",
        "pd.set_option('display.max_colwidth', None)\n",
        "display(df[[ 'tokens_paragraph_title_legal','tokens_paragraph_title']].head(10))\n",
        "print(\"\\n\\n--> transformed to Ids:\")\n",
        "display(df[[ \"legal_bert_quick_paragraph_titel\",\"bert_quick_paragraph_titel\"]].head(10))"
      ]
    },
    {
      "cell_type": "markdown",
      "id": "pe-zuAwysE7r",
      "metadata": {
        "id": "pe-zuAwysE7r"
      },
      "source": [
        "Since Bert needs torch-tensors we simmply transform the lsit to torch tensors:\n"
      ]
    },
    {
      "cell_type": "code",
      "execution_count": 31,
      "id": "67m55kRgsE7r",
      "metadata": {
        "colab": {
          "base_uri": "https://localhost:8080/"
        },
        "id": "67m55kRgsE7r",
        "outputId": "e16d8694-fbcc-443e-942a-e24f003b6738"
      },
      "outputs": [
        {
          "name": "stdout",
          "output_type": "stream",
          "text": [
            "Leagal torch tensor for \"Vertragsgegenstand\":\n",
            "tensor([[ 102, 7545, 1789,  858,  103]])\n"
          ]
        }
      ],
      "source": [
        "inputs_paragraph_title_legal = df['legal_bert_quick_paragraph_titel'].apply(lambda x: torch.tensor(x))\n",
        "inputs_paragraph_content_legal = df['legal_bert_quick_paragraph_content'].apply(lambda x: torch.tensor(x))\n",
        "inputs_section_content_legal = df['legal_bert_quick_section_content'].apply(lambda x: torch.tensor(x))\n",
        "print(f'Leagal torch tensor for \"{df[\"paragraph_title\"][1]}\":')\n",
        "print(inputs_paragraph_title_legal[1])"
      ]
    },
    {
      "cell_type": "markdown",
      "id": "yG1tsPMDsE7r",
      "metadata": {
        "id": "yG1tsPMDsE7r"
      },
      "source": [
        "# 8. Structure of the legal german model\n",
        "## 8.1 Word embeddings"
      ]
    },
    {
      "cell_type": "code",
      "execution_count": 32,
      "id": "TVgbM0TIsE7s",
      "metadata": {
        "colab": {
          "base_uri": "https://localhost:8080/"
        },
        "id": "TVgbM0TIsE7s",
        "outputId": "281225af-e7c6-49b2-fb03-5375e5ebf6ef"
      },
      "outputs": [
        {
          "name": "stdout",
          "output_type": "stream",
          "text": [
            "Embedding(31102, 768, padding_idx=0)\n",
            "--> 31102 tokens in the vocabulary\n",
            "--> 768 dimensions per emabding verctor\n"
          ]
        }
      ],
      "source": [
        "print(model_legal_g_bert.embeddings.word_embeddings)\n",
        "print(f'--> {model_legal_g_bert.embeddings.word_embeddings.weight.shape[0]} tokens in the vocabulary')\n",
        "print(f'--> {model_legal_g_bert.embeddings.word_embeddings.weight.shape[1]} dimensions per emabding verctor')"
      ]
    },
    {
      "cell_type": "markdown",
      "id": "KuPptVILsE7s",
      "metadata": {
        "id": "KuPptVILsE7s"
      },
      "source": [
        "## 8.2 Position embeddings"
      ]
    },
    {
      "cell_type": "code",
      "execution_count": 33,
      "id": "E5qL7HPksE7s",
      "metadata": {
        "colab": {
          "base_uri": "https://localhost:8080/"
        },
        "id": "E5qL7HPksE7s",
        "outputId": "70f92769-e82e-47f1-f11a-2b56fe4cb969"
      },
      "outputs": [
        {
          "name": "stdout",
          "output_type": "stream",
          "text": [
            "Embedding(512, 768)\n",
            "--> 512 maximum chunk length\n",
            "--> 768 dimensions per emabding verctor\n"
          ]
        }
      ],
      "source": [
        "print(model_legal_g_bert.embeddings.position_embeddings)\n",
        "print(f'--> {model.embeddings.position_embeddings.weight.shape[0]} maximum chunk length')\n",
        "print(f'--> {model.embeddings.position_embeddings.weight.shape[1]} dimensions per emabding verctor')"
      ]
    },
    {
      "cell_type": "markdown",
      "id": "aP6QPOC0sE7s",
      "metadata": {
        "id": "aP6QPOC0sE7s"
      },
      "source": [
        "## 8.3 Transformer Layers"
      ]
    },
    {
      "cell_type": "code",
      "execution_count": 34,
      "id": "xwmUIT9xsE7s",
      "metadata": {
        "colab": {
          "base_uri": "https://localhost:8080/"
        },
        "id": "xwmUIT9xsE7s",
        "outputId": "4308a8b6-06ee-438d-c0ce-76b4d6fc38c1"
      },
      "outputs": [
        {
          "name": "stdout",
          "output_type": "stream",
          "text": [
            "12\n",
            "--> Number of transformer layers\n"
          ]
        }
      ],
      "source": [
        "print(len(model_legal_g_bert.encoder.layer))\n",
        "print('--> Number of transformer layers')"
      ]
    },
    {
      "cell_type": "markdown",
      "id": "6hbNX6ulsE7t",
      "metadata": {
        "id": "6hbNX6ulsE7t"
      },
      "source": [
        "## 8.4 Structure of the first layer\n",
        "TO BE DONE\n"
      ]
    },
    {
      "cell_type": "code",
      "execution_count": 35,
      "id": "P77u-uGWsE7t",
      "metadata": {
        "colab": {
          "base_uri": "https://localhost:8080/"
        },
        "id": "P77u-uGWsE7t",
        "outputId": "f74e32eb-3226-4b43-c0c3-9f99bede951f"
      },
      "outputs": [
        {
          "name": "stdout",
          "output_type": "stream",
          "text": [
            "BertLayer(\n",
            "  (attention): BertAttention(\n",
            "    (self): BertSdpaSelfAttention(\n",
            "      (query): Linear(in_features=768, out_features=768, bias=True)\n",
            "      (key): Linear(in_features=768, out_features=768, bias=True)\n",
            "      (value): Linear(in_features=768, out_features=768, bias=True)\n",
            "      (dropout): Dropout(p=0.1, inplace=False)\n",
            "    )\n",
            "    (output): BertSelfOutput(\n",
            "      (dense): Linear(in_features=768, out_features=768, bias=True)\n",
            "      (LayerNorm): LayerNorm((768,), eps=1e-12, elementwise_affine=True)\n",
            "      (dropout): Dropout(p=0.1, inplace=False)\n",
            "    )\n",
            "  )\n",
            "  (intermediate): BertIntermediate(\n",
            "    (dense): Linear(in_features=768, out_features=3072, bias=True)\n",
            "    (intermediate_act_fn): GELUActivation()\n",
            "  )\n",
            "  (output): BertOutput(\n",
            "    (dense): Linear(in_features=3072, out_features=768, bias=True)\n",
            "    (LayerNorm): LayerNorm((768,), eps=1e-12, elementwise_affine=True)\n",
            "    (dropout): Dropout(p=0.1, inplace=False)\n",
            "  )\n",
            ")\n"
          ]
        }
      ],
      "source": [
        "print(model_legal_g_bert.encoder.layer[0])"
      ]
    },
    {
      "cell_type": "markdown",
      "id": "x0aNvIczsE7t",
      "metadata": {
        "id": "x0aNvIczsE7t"
      },
      "source": [
        "## 8.5 Pooler\n",
        "TO BE DONE"
      ]
    },
    {
      "cell_type": "code",
      "execution_count": 36,
      "id": "L5C-ZVuGsE7u",
      "metadata": {
        "colab": {
          "base_uri": "https://localhost:8080/"
        },
        "id": "L5C-ZVuGsE7u",
        "outputId": "d8af5a6d-8086-4f69-fd50-882c0c6532f9"
      },
      "outputs": [
        {
          "name": "stdout",
          "output_type": "stream",
          "text": [
            "BertPooler(\n",
            "  (dense): Linear(in_features=768, out_features=768, bias=True)\n",
            "  (activation): Tanh()\n",
            ")\n"
          ]
        }
      ],
      "source": [
        "print(model_legal_g_bert.pooler)"
      ]
    },
    {
      "cell_type": "markdown",
      "id": "2lME5TlDsE7u",
      "metadata": {
        "id": "2lME5TlDsE7u"
      },
      "source": [
        "# 9. First run of BERT\n"
      ]
    },
    {
      "cell_type": "code",
      "execution_count": 37,
      "id": "SJr9BjUpsE7u",
      "metadata": {
        "colab": {
          "base_uri": "https://localhost:8080/"
        },
        "id": "SJr9BjUpsE7u",
        "outputId": "f2bbdd70-4180-4e2f-8670-faeea6df8c53"
      },
      "outputs": [
        {
          "name": "stdout",
          "output_type": "stream",
          "text": [
            "(1, 5, 768)\n",
            "--> 1st input has 1 sentence and 5 tokens with 768-dimanisonal embeddings\n",
            "(768,)\n",
            "--> the CLS-Token (for the sentence) has a 768-dimensional embedding\n"
          ]
        }
      ],
      "source": [
        "with torch.no_grad():\n",
        " outputs_legal = model_legal_g_bert(inputs_paragraph_title_legal[0] , output_attentions=True)\n",
        " embeddings_all_legal = outputs_legal.last_hidden_state.numpy()\n",
        " embeddings_legal = outputs_legal.last_hidden_state[0] [0].numpy()\n",
        "\n",
        "print(embeddings_all_legal.shape)\n",
        "print(f\"--> 1st input has {embeddings_all_legal.shape[0]} sentence and {embeddings_all_legal.shape[1]} tokens with {embeddings_all_legal.shape[2]}-dimanisonal embeddings\")\n",
        "print(embeddings_legal.shape)\n",
        "print(f\"--> the CLS-Token (for the sentence) has a {embeddings_legal.shape[0]}-dimensional embedding\")\n"
      ]
    },
    {
      "cell_type": "markdown",
      "id": "ukoOCw9msE7u",
      "metadata": {
        "id": "ukoOCw9msE7u"
      },
      "source": [
        "# 9.1 Attentionsheads of LEGAL G BERT\n",
        "\n"
      ]
    },
    {
      "cell_type": "code",
      "execution_count": null,
      "id": "IzsaPpn3sE7v",
      "metadata": {
        "colab": {
          "base_uri": "https://localhost:8080/",
          "height": 181
        },
        "id": "IzsaPpn3sE7v",
        "outputId": "efdf2d8c-a8ef-4fe3-89ad-d681d27e2b09"
      },
      "outputs": [
        {
          "data": {
            "text/html": [
              "<script src=\"https://cdnjs.cloudflare.com/ajax/libs/require.js/2.3.6/require.min.js\"></script>"
            ],
            "text/plain": [
              "<IPython.core.display.HTML object>"
            ]
          },
          "metadata": {},
          "output_type": "display_data"
        },
        {
          "data": {
            "text/html": [
              "      \n",
              "        <div id=\"bertviz-766287b89f544b2bab3e3990ee14f04d\" style=\"font-family:'Helvetica Neue', Helvetica, Arial, sans-serif;\">\n",
              "            <span style=\"user-select:none\">\n",
              "                Layer: <select id=\"layer\"></select>\n",
              "                \n",
              "            </span>\n",
              "            <div id='vis'></div>\n",
              "        </div>\n",
              "    "
            ],
            "text/plain": [
              "<IPython.core.display.HTML object>"
            ]
          },
          "metadata": {},
          "output_type": "display_data"
        },
        {
          "data": {
            "application/javascript": "/**\n * @fileoverview Transformer Visualization D3 javascript code.\n *\n *\n *  Based on: https://github.com/tensorflow/tensor2tensor/blob/master/tensor2tensor/visualization/attention.js\n *\n * Change log:\n *\n * 12/19/18  Jesse Vig   Assorted cleanup. Changed orientation of attention matrices.\n * 12/29/20  Jesse Vig   Significant refactor.\n * 12/31/20  Jesse Vig   Support multiple visualizations in single notebook.\n * 02/06/21  Jesse Vig   Move require config from separate jupyter notebook step\n * 05/03/21  Jesse Vig   Adjust height of visualization dynamically\n * 07/25/21  Jesse Vig   Support layer filtering\n * 03/23/22  Daniel SC   Update requirement URLs for d3 and jQuery (source of bug not allowing end result to be displayed on browsers)\n **/\n\nrequire.config({\n  paths: {\n      d3: 'https://cdnjs.cloudflare.com/ajax/libs/d3/5.7.0/d3.min',\n    jquery: 'https://cdnjs.cloudflare.com/ajax/libs/jquery/2.0.0/jquery.min',\n  }\n});\n\nrequirejs(['jquery', 'd3'], function ($, d3) {\n\n    const params = {\"attention\": [{\"name\": null, \"attn\": [[[[0.20033402740955353, 0.22415542602539062, 0.23659966886043549, 0.10084076970815659, 0.2380700558423996], [0.048821356147527695, 0.2851288914680481, 0.1402393877506256, 0.16294002532958984, 0.36287033557891846], [0.04237215965986252, 0.05445432662963867, 0.09696578234434128, 0.09130317717790604, 0.7149044871330261], [0.06368793547153473, 0.24429962038993835, 0.16959214210510254, 0.07104285806417465, 0.45137736201286316], [0.12687458097934723, 0.08275990933179855, 0.08441004902124405, 0.046056825667619705, 0.6598986387252808]], [[0.05660392343997955, 0.000961148296482861, 0.004205470439046621, 0.0011069407919421792, 0.9371225237846375], [0.028979051858186722, 0.07060424238443375, 0.11879508197307587, 0.07338748872280121, 0.7082341909408569], [0.03720128908753395, 0.14481642842292786, 0.01844112202525139, 0.0655825212597847, 0.7339586615562439], [0.007790260948240757, 0.49901720881462097, 0.40839990973472595, 0.032529838383197784, 0.05226273834705353], [0.35012513399124146, 0.08412749320268631, 0.08180136233568192, 0.08531766384840012, 0.398628294467926]], [[0.5285573601722717, 0.05478120222687721, 0.27394676208496094, 0.04241035878658295, 0.10030430555343628], [0.05309964343905449, 0.34108227491378784, 0.17216520011425018, 0.2334582805633545, 0.20019462704658508], [0.15498292446136475, 0.19677826762199402, 0.3948887288570404, 0.13176552951335907, 0.12158450484275818], [0.1321474313735962, 0.2653461694717407, 0.4084288775920868, 0.057049285620450974, 0.13702821731567383], [0.48836639523506165, 0.07985281199216843, 0.2296590507030487, 0.0781356617808342, 0.12398609519004822]], [[0.13260073959827423, 0.09868186712265015, 0.11859452724456787, 0.1542697250843048, 0.49585312604904175], [0.25769588351249695, 0.17897987365722656, 0.07879424095153809, 0.22076109051704407, 0.2637689709663391], [0.3389459252357483, 0.1862391084432602, 0.17716507613658905, 0.08082839101552963, 0.21682150661945343], [0.16265305876731873, 0.10138176381587982, 0.39278608560562134, 0.07145213335752487, 0.2717270255088806], [0.277469664812088, 0.15929482877254486, 0.19323383271694183, 0.1414443999528885, 0.2285573035478592]], [[0.9090253710746765, 0.014007815159857273, 0.00835472159087658, 0.03682293742895126, 0.03178924322128296], [0.001923372852616012, 0.4435660243034363, 0.15452314913272858, 0.21337294578552246, 0.18661455810070038], [0.03378724306821823, 0.20987024903297424, 0.09262578189373016, 0.1387607604265213, 0.5249559283256531], [0.013400562107563019, 0.41238707304000854, 0.3887980878353119, 0.06449427455663681, 0.12091995775699615], [0.0394182987511158, 0.3741954565048218, 0.15481548011302948, 0.22759132087230682, 0.2039794921875]], [[0.4881703555583954, 0.050287533551454544, 0.07488376647233963, 0.18045395612716675, 0.20620429515838623], [0.6302138566970825, 0.05074844881892204, 0.1940174102783203, 0.04794089123606682, 0.07707945257425308], [0.4979797899723053, 0.20715558528900146, 0.11807189881801605, 0.08399219065904617, 0.09280049800872803], [0.5266241431236267, 0.1963041126728058, 0.09864278882741928, 0.05295784771442413, 0.1254710853099823], [0.32726389169692993, 0.1680247187614441, 0.17745687067508698, 0.17817308008670807, 0.14908146858215332]], [[0.04631877318024635, 0.22913959622383118, 0.16499505937099457, 0.20051226019859314, 0.35903429985046387], [0.2039114236831665, 0.013920740224421024, 0.06397834420204163, 0.05902014300227165, 0.6591693758964539], [0.4738381505012512, 0.1519632786512375, 0.04841186851263046, 0.07280999422073364, 0.2529766857624054], [0.18683093786239624, 0.19843025505542755, 0.20267941057682037, 0.06664765626192093, 0.3454117178916931], [0.25499892234802246, 0.09610144048929214, 0.13058504462242126, 0.19039787352085114, 0.32791668176651]], [[0.3817126154899597, 0.1110314279794693, 0.2557126581668854, 0.1816101372241974, 0.0699331983923912], [0.3606102764606476, 0.11407830566167831, 0.079832062125206, 0.32042592763900757, 0.12505337595939636], [0.11090593039989471, 0.07345002889633179, 0.025792594999074936, 0.14551854133605957, 0.6443328261375427], [0.18235410749912262, 0.12901189923286438, 0.12673211097717285, 0.18198996782302856, 0.3799118101596832], [0.2744516432285309, 0.20276027917861938, 0.11320760101079941, 0.25686269998550415, 0.15271787345409393]], [[0.30552756786346436, 0.0730469822883606, 0.16088150441646576, 0.14218175411224365, 0.31836214661598206], [0.10773426294326782, 0.6085739135742188, 0.029598163440823555, 0.0560184121131897, 0.19807523488998413], [0.2634781002998352, 0.0395071879029274, 0.48771652579307556, 0.14127257466316223, 0.06802575290203094], [0.10951054841279984, 0.08752687275409698, 0.1680677980184555, 0.5940568447113037, 0.04083796218037605], [0.4178529977798462, 0.10465853661298752, 0.1151316910982132, 0.17610841989517212, 0.18624843657016754]], [[0.5608561635017395, 0.026986204087734222, 0.1856052130460739, 0.06676557660102844, 0.15978682041168213], [0.2118770182132721, 0.7357781529426575, 0.007888264954090118, 0.020199093967676163, 0.024257486686110497], [0.03333320841193199, 0.012420679442584515, 0.8369411826133728, 0.0962519720196724, 0.021053027361631393], [0.017537901178002357, 0.09183315187692642, 0.3324999511241913, 0.5125963091850281, 0.045532722026109695], [0.2343003749847412, 0.08898811042308807, 0.3695971965789795, 0.08554492145776749, 0.2215694636106491]], [[0.010870330967009068, 0.04527542367577553, 0.20278532803058624, 0.10756562650203705, 0.633503258228302], [0.0016732263611629605, 0.028092939406633377, 0.3836970627307892, 0.47546088695526123, 0.11107587814331055], [0.0005073694046586752, 0.08833322674036026, 0.013559251092374325, 0.6907838582992554, 0.2068161964416504], [0.0006218983908183873, 0.3189970552921295, 0.21240103244781494, 0.029322564601898193, 0.43865740299224854], [0.0006823889561928809, 0.07079163193702698, 0.1429443359375, 0.393989622592926, 0.39159202575683594]], [[0.01978253200650215, 0.03591267764568329, 0.009653941728174686, 0.012105650268495083, 0.9225452542304993], [0.06641683727502823, 0.192485049366951, 0.12006579339504242, 0.32712751626968384, 0.2939048409461975], [0.02864738740026951, 0.11288651823997498, 0.13625144958496094, 0.25570768117904663, 0.4665069580078125], [0.2558208107948303, 0.15038961172103882, 0.14271794259548187, 0.14902867376804352, 0.30204299092292786], [0.5399594902992249, 0.03898061439394951, 0.07238579541444778, 0.027134651318192482, 0.3215394914150238]]], [[[0.8813536167144775, 0.0074822441674768925, 0.00942705012857914, 0.0025335627142339945, 0.09920364618301392], [0.48767200112342834, 0.014471842907369137, 0.013155009597539902, 0.0046799746342003345, 0.4800211787223816], [0.8325636386871338, 0.004464810248464346, 0.005202832631766796, 0.0034478488378226757, 0.15432092547416687], [0.6384302973747253, 0.0038075032643973827, 0.01115378551185131, 0.002050835872069001, 0.34455761313438416], [0.7972720861434937, 0.005305850878357887, 0.006896386854350567, 0.0027722090017050505, 0.18775352835655212]], [[0.6174743175506592, 0.07448465377092361, 0.054805319756269455, 0.07517839223146439, 0.17805734276771545], [0.38186678290367126, 0.06761282682418823, 0.06887449324131012, 0.20731569826602936, 0.2743302881717682], [0.5000680088996887, 0.08735285699367523, 0.08539073169231415, 0.11344416439533234, 0.21374432742595673], [0.7877784371376038, 0.0693795308470726, 0.05222222954034805, 0.009302356280386448, 0.0813174620270729], [0.3221971392631531, 0.05944330617785454, 0.0927356630563736, 0.06629970669746399, 0.4593241810798645]], [[0.39563992619514465, 0.18937011063098907, 0.07437483221292496, 0.12188491225242615, 0.2187301516532898], [0.09020169079303741, 0.09716763347387314, 0.6913130283355713, 0.10187390446662903, 0.01944367028772831], [0.024163926020264626, 0.090940460562706, 0.0015497192507609725, 0.872725784778595, 0.010620104148983955], [0.12799395620822906, 0.2793178856372833, 0.41700801253318787, 0.016093017533421516, 0.15958718955516815], [0.48082712292671204, 0.090756356716156, 0.17092537879943848, 0.04668688401579857, 0.21080425381660461]], [[0.6146873831748962, 0.02435004711151123, 0.05253821238875389, 0.020309478044509888, 0.2881149351596832], [0.6208339929580688, 0.1688968986272812, 0.009590712375938892, 0.0032127085141837597, 0.1974657028913498], [0.6379490494728088, 0.0004659962432924658, 0.26674190163612366, 0.002817317144945264, 0.09202569723129272], [0.7517682909965515, 0.0004533908795565367, 0.018683278933167458, 0.12517133355140686, 0.1039237529039383], [0.6675605177879333, 0.01999758556485176, 0.0541781447827816, 0.012394248507916927, 0.24586951732635498]], [[0.2947629988193512, 0.18206287920475006, 0.11078831553459167, 0.11117983609437943, 0.3012060225009918], [0.5923812985420227, 0.019502220675349236, 0.05727824941277504, 0.07239780575037003, 0.25844040513038635], [0.8303062915802002, 0.02894476428627968, 0.005062812007963657, 0.007511464413255453, 0.12817449867725372], [0.6757870316505432, 0.046163901686668396, 0.024155357852578163, 0.017681017518043518, 0.23621270060539246], [0.5089644193649292, 0.12865124642848969, 0.08210398256778717, 0.07238414883613586, 0.20789611339569092]], [[0.8088055849075317, 0.06911992281675339, 0.04130364954471588, 0.02960001677274704, 0.05117078870534897], [0.6624017357826233, 0.11407908797264099, 0.06895706057548523, 0.07597910612821579, 0.07858308404684067], [0.16053837537765503, 0.6044005155563354, 0.07738860696554184, 0.025636618956923485, 0.13203586637973785], [0.06593229621648788, 0.24286524951457977, 0.5794079899787903, 0.050951045006513596, 0.06084342673420906], [0.5499628186225891, 0.07940299063920975, 0.04239754006266594, 0.19898653030395508, 0.12925001978874207]], [[0.594455897808075, 0.05062999576330185, 0.07687290012836456, 0.08158566802740097, 0.19645553827285767], [0.30625972151756287, 0.15378344058990479, 0.02520645409822464, 0.044881850481033325, 0.469868540763855], [0.5798007845878601, 0.013242164626717567, 0.060134269297122955, 0.05110259726643562, 0.29572010040283203], [0.5644106268882751, 0.014113878831267357, 0.1165030226111412, 0.034036312252283096, 0.27093619108200073], [0.4732184410095215, 0.0857568308711052, 0.26106497645378113, 0.08421558141708374, 0.09574424475431442]], [[0.5448144674301147, 0.08329195529222488, 0.0502743273973465, 0.041751231998205185, 0.2798680067062378], [0.43417876958847046, 0.026186702772974968, 0.10991326719522476, 0.041854821145534515, 0.38786640763282776], [0.6621044874191284, 0.013754545710980892, 0.002192241605371237, 0.005466971546411514, 0.3164817690849304], [0.7447527050971985, 0.015352257527410984, 0.005245234351605177, 0.0029208771884441376, 0.2317289113998413], [0.5232503414154053, 0.05559970811009407, 0.08576902747154236, 0.03882716968655586, 0.2965536415576935]], [[0.828091561794281, 0.011621118523180485, 0.017214279621839523, 0.011110675521194935, 0.131962388753891], [0.36678290367126465, 0.28131192922592163, 0.11608163267374039, 0.07499201595783234, 0.1608315259218216], [0.62301105260849, 0.015250992961227894, 0.01009451225399971, 0.010229576379060745, 0.3414139449596405], [0.6822749376296997, 0.022030752152204514, 0.016099516302347183, 0.005758303217589855, 0.27383652329444885], [0.806358814239502, 0.017931822687387466, 0.013153161853551865, 0.002557930536568165, 0.1599983125925064]], [[0.5465789437294006, 0.03881481662392616, 0.04705733433365822, 0.022685052827000618, 0.3448638916015625], [0.1354573518037796, 0.08546571433544159, 0.046591248363256454, 0.04468259587883949, 0.6878030300140381], [0.13774196803569794, 0.03761840984225273, 0.024475330486893654, 0.016833467409014702, 0.7833308577537537], [0.07462707906961441, 0.04564844071865082, 0.017274271696805954, 0.013966856524348259, 0.8484833836555481], [0.16974301636219025, 0.023517675697803497, 0.00617174943909049, 0.005091275554150343, 0.7954762578010559]], [[0.5228658318519592, 0.13780410587787628, 0.06697455048561096, 0.09168511629104614, 0.18067048490047455], [0.470615953207016, 0.01890822872519493, 0.013740234076976776, 0.1536068320274353, 0.3431287705898285], [0.6050665974617004, 0.132537841796875, 0.010345162823796272, 0.0872366800904274, 0.16481369733810425], [0.4994688928127289, 0.07696245610713959, 0.00629497179761529, 0.034738462418317795, 0.38253530859947205], [0.4456532597541809, 0.11856051534414291, 0.0656995177268982, 0.0921589806675911, 0.27792781591415405]], [[0.9298426508903503, 0.009026015177369118, 0.007187319453805685, 0.003217333694919944, 0.05072665587067604], [0.49461546540260315, 0.04614347591996193, 0.03130323439836502, 0.032156024128198624, 0.3957817852497101], [0.26928552985191345, 0.0790393128991127, 0.0343349352478981, 0.060551855713129044, 0.5567883849143982], [0.22048035264015198, 0.11352936178445816, 0.08541945368051529, 0.04188023507595062, 0.5386905670166016], [0.7365708351135254, 0.036557745188474655, 0.03782671317458153, 0.02213481441140175, 0.16690999269485474]]], [[[0.683700680732727, 0.10459580272436142, 0.04775672405958176, 0.10012707859277725, 0.0638197734951973], [0.6065866947174072, 0.05752459168434143, 0.07591070979833603, 0.15156909823417664, 0.10840893536806107], [0.31496548652648926, 0.5370588898658752, 0.024110224097967148, 0.04036533087491989, 0.08350009471178055], [0.21336856484413147, 0.29701849818229675, 0.28020477294921875, 0.017609352245926857, 0.19179882109165192], [0.6314188838005066, 0.037297554314136505, 0.04301632195711136, 0.07776086032390594, 0.2105063647031784]], [[0.27470141649246216, 0.07072672247886658, 0.06449948996305466, 0.0283381175249815, 0.5617343187332153], [0.07597356289625168, 0.7405269742012024, 0.003268258646130562, 0.0010089444695040584, 0.17922231554985046], [0.09844442456960678, 0.005916985683143139, 0.4255687892436981, 0.03762701898813248, 0.43244287371635437], [0.1499718874692917, 0.005083191674202681, 0.08141480386257172, 0.40147653222084045, 0.3620535731315613], [0.4661186635494232, 0.11773660778999329, 0.07844840735197067, 0.04412578046321869, 0.2935706079006195]], [[0.4741872251033783, 0.04877878725528717, 0.05380123481154442, 0.03442436829209328, 0.38880836963653564], [0.16623550653457642, 0.1549837440252304, 0.018568137660622597, 0.007324272766709328, 0.6528884172439575], [0.2639908492565155, 0.26271408796310425, 0.050300367176532745, 0.01441467460244894, 0.4085799753665924], [0.1807374656200409, 0.09442085027694702, 0.05070829391479492, 0.006499493960291147, 0.6676339507102966], [0.51253342628479, 0.0909787267446518, 0.06935454905033112, 0.11778426915407181, 0.209349125623703]], [[0.6167882084846497, 0.032179947942495346, 0.03761746734380722, 0.02459769695997238, 0.28881675004959106], [0.23635731637477875, 0.01043119840323925, 0.01333586685359478, 0.005935081280767918, 0.7339405417442322], [0.3325533866882324, 0.006218480411916971, 0.009212804958224297, 0.0025152203161269426, 0.6495000720024109], [0.2899068593978882, 0.010228382423520088, 0.014549480751156807, 0.003746490925550461, 0.6815687417984009], [0.7771396636962891, 0.021509259939193726, 0.02681906521320343, 0.01676219329237938, 0.15776975452899933]], [[0.2452712059020996, 0.08785371482372284, 0.2314656376838684, 0.1437525451183319, 0.2916569411754608], [0.0005825640982948244, 0.9988011121749878, 0.00018899257702287287, 4.5064287405693904e-05, 0.0003823519218713045], [0.00044060847721993923, 0.0002546278410591185, 0.9838137626647949, 0.01510029286146164, 0.0003908333310391754], [0.0002639241865836084, 3.584755177143961e-05, 0.024256953969597816, 0.9751590490341187, 0.0002841851382981986], [0.2983110845088959, 0.0852106362581253, 0.12620329856872559, 0.16512028872966766, 0.32515472173690796]], [[0.17420542240142822, 0.14679767191410065, 0.05328724533319473, 0.056641835719347, 0.5690677762031555], [0.5325538516044617, 0.045235563069581985, 0.007202989421784878, 0.008381928317248821, 0.4066257178783417], [0.630713939666748, 0.04287782683968544, 0.005182607099413872, 0.004494538996368647, 0.31673097610473633], [0.562288224697113, 0.07292181998491287, 0.014289983548223972, 0.010224742814898491, 0.3402751386165619], [0.1792985051870346, 0.15965057909488678, 0.08696926385164261, 0.11462558060884476, 0.45945605635643005]], [[0.6127453446388245, 0.03221882879734039, 0.017093705013394356, 0.035684630274772644, 0.3022575080394745], [0.5469517707824707, 0.03770339861512184, 0.06257282942533493, 0.1324678361415863, 0.2203042060136795], [0.4888415038585663, 0.05885858088731766, 0.0571117103099823, 0.12214593589305878, 0.2730422616004944], [0.08037951588630676, 0.04328153282403946, 0.780698299407959, 0.009961561299860477, 0.08567900955677032], [0.4427673816680908, 0.015121045522391796, 0.01943003386259079, 0.03477829694747925, 0.4879032373428345]], [[0.6067851185798645, 0.014150344766676426, 0.011004965752363205, 0.006468270905315876, 0.36159130930900574], [0.2031509131193161, 0.06712701171636581, 0.015665672719478607, 0.019664019346237183, 0.6943923234939575], [0.46140891313552856, 0.0632113590836525, 0.03181598335504532, 0.0232688058167696, 0.42029494047164917], [0.34977978467941284, 0.02046862617135048, 0.045679718255996704, 0.021468760445713997, 0.5626031160354614], [0.6929830312728882, 0.030830981209874153, 0.016927331686019897, 0.012769953347742558, 0.24648866057395935]], [[0.5420606136322021, 0.03474319726228714, 0.0379418283700943, 0.01884296163916588, 0.3664114773273468], [0.3501262068748474, 0.031081845983862877, 0.09716709703207016, 0.06877295672893524, 0.45285192131996155], [0.4493291676044464, 0.04612310975790024, 0.03562406077980995, 0.0556517019867897, 0.413271963596344], [0.63105708360672, 0.03611929714679718, 0.040475033223629, 0.005261261947453022, 0.28708726167678833], [0.45893824100494385, 0.08429450541734695, 0.02636825665831566, 0.029410235583782196, 0.40098869800567627]], [[0.39952871203422546, 0.14340625703334808, 0.048072781413793564, 0.06792044639587402, 0.3410717844963074], [0.3249068856239319, 0.016740502789616585, 0.6252867579460144, 0.01350843533873558, 0.019557511433959007], [0.15861013531684875, 0.662784218788147, 0.03429607301950455, 0.057799406349658966, 0.08651020377874374], [0.022993192076683044, 0.007403036113828421, 0.9554433226585388, 0.0034400876611471176, 0.01072036474943161], [0.30328822135925293, 0.01770254224538803, 0.0188943762332201, 0.4079916477203369, 0.2521231770515442]], [[0.6448830962181091, 0.057243235409259796, 0.046366918832063675, 0.044256825000047684, 0.20724989473819733], [0.3656686246395111, 0.1298201084136963, 0.23985826969146729, 0.14569522440433502, 0.1189577504992485], [0.6367985606193542, 0.030758287757635117, 0.03470020368695259, 0.01602751389145851, 0.28171539306640625], [0.6556373238563538, 0.05696699768304825, 0.07112916558980942, 0.018222058191895485, 0.19804447889328003], [0.6899532675743103, 0.043419793248176575, 0.027618693187832832, 0.011837189085781574, 0.22717109322547913]], [[0.23180189728736877, 0.09605338424444199, 0.07533024996519089, 0.04048970341682434, 0.5563247799873352], [0.5343493223190308, 0.05835050716996193, 0.13823246955871582, 0.11411690711975098, 0.1549508273601532], [0.5995711088180542, 0.08766065537929535, 0.03067203052341938, 0.043574489653110504, 0.23852162063121796], [0.3422839045524597, 0.16613388061523438, 0.12175001204013824, 0.06395379453897476, 0.3058783710002899], [0.42266416549682617, 0.16139952838420868, 0.06997894495725632, 0.08631805330514908, 0.25963926315307617]]], [[[0.1698027104139328, 0.30817949771881104, 0.25171661376953125, 0.14479929208755493, 0.12550179660320282], [0.23020121455192566, 0.15386462211608887, 0.2955816686153412, 0.12425041943788528, 0.1961020976305008], [0.16590280830860138, 0.33356744050979614, 0.12736129760742188, 0.1957501918077469, 0.17741823196411133], [0.2698296904563904, 0.2368708997964859, 0.21038641035556793, 0.05329205468297005, 0.22962087392807007], [0.29965999722480774, 0.13133551180362701, 0.13307201862335205, 0.11899038404226303, 0.31694215536117554]], [[0.2521023154258728, 0.3099691569805145, 0.19421903789043427, 0.09411302953958511, 0.14959649741649628], [0.23582333326339722, 0.20014719665050507, 0.05083983764052391, 0.05435776337981224, 0.45883190631866455], [0.24181795120239258, 0.3615940809249878, 0.03131633251905441, 0.04755689948797226, 0.31771475076675415], [0.28723689913749695, 0.14678074419498444, 0.052399199455976486, 0.06885416805744171, 0.44472894072532654], [0.2867228090763092, 0.27600333094596863, 0.13276290893554688, 0.07976797223091125, 0.22474290430545807]], [[0.19629158079624176, 0.24425986409187317, 0.07584387063980103, 0.14442090690135956, 0.3391837477684021], [0.09499186277389526, 0.39862459897994995, 0.08979188650846481, 0.2499421238899231, 0.16664950549602509], [0.24833160638809204, 0.17823991179466248, 0.1608940213918686, 0.17329388856887817, 0.23924057185649872], [0.1299634873867035, 0.22935526072978973, 0.1472972333431244, 0.34336161613464355, 0.15002235770225525], [0.2661969065666199, 0.05786795914173126, 0.06619451195001602, 0.052810464054346085, 0.5569301843643188]], [[0.41614630818367004, 0.15257033705711365, 0.06180994212627411, 0.05196986719965935, 0.31750357151031494], [0.3366340696811676, 0.2176579087972641, 0.037873491644859314, 0.017510198056697845, 0.3903243839740753], [0.5003055930137634, 0.054270558059215546, 0.011046293191611767, 0.0035338597372174263, 0.430843710899353], [0.2912805378437042, 0.10265040397644043, 0.029682418331503868, 0.013403849676251411, 0.5629827976226807], [0.43712490797042847, 0.07115137577056885, 0.03944617137312889, 0.02313709631562233, 0.42914053797721863]], [[0.3744659423828125, 0.1760740727186203, 0.06550426036119461, 0.03335345536470413, 0.3506022095680237], [0.5095287561416626, 0.036186251789331436, 0.023598570376634598, 0.004575150553137064, 0.42611125111579895], [0.5114867687225342, 0.017056753858923912, 0.005351238418370485, 0.0015995466383174062, 0.46450573205947876], [0.5564554333686829, 0.012239200063049793, 0.0054747662506997585, 0.0010108411079272628, 0.424819678068161], [0.47610947489738464, 0.06349357217550278, 0.01920466683804989, 0.007326100952923298, 0.4338662624359131]], [[0.4396657943725586, 0.06744778901338577, 0.0217679925262928, 0.029302140697836876, 0.4418162703514099], [0.4915587306022644, 0.2158161699771881, 0.0026563352439552546, 0.009455651976168156, 0.2805131673812866], [0.3269582986831665, 0.009117661975324154, 0.3974449336528778, 0.05364912748336792, 0.21282988786697388], [0.3084440529346466, 0.013296810910105705, 0.06031176075339317, 0.4622105360031128, 0.15573689341545105], [0.5675040483474731, 0.05502288416028023, 0.05266573280096054, 0.04167994484305382, 0.28312742710113525]], [[0.12269885092973709, 0.1811780482530594, 0.06636074930429459, 0.24789832532405853, 0.3818639814853668], [0.8439627885818481, 0.010348300449550152, 0.0049516186118125916, 0.0022239231038838625, 0.13851334154605865], [0.8386590480804443, 0.018587805330753326, 0.001132083823904395, 0.0008220806485041976, 0.1407989114522934], [0.9341326951980591, 0.002730295993387699, 0.0007445683004334569, 9.453123493585736e-05, 0.06229794770479202], [0.269456684589386, 0.09682554751634598, 0.052431173622608185, 0.13268347084522247, 0.448603093624115]], [[0.30386433005332947, 0.06800314038991928, 0.049168407917022705, 0.054787930101156235, 0.5241762399673462], [0.24546435475349426, 0.0157236997038126, 0.011297459714114666, 0.004536806605756283, 0.7229777574539185], [0.5755192041397095, 0.02074139565229416, 0.013255943544209003, 0.0049660238437354565, 0.3855173885822296], [0.34106364846229553, 0.018680116161704063, 0.008059905841946602, 0.0012996087316423655, 0.630896806716919], [0.15652602910995483, 0.15462768077850342, 0.10953076928853989, 0.1734979748725891, 0.40581750869750977]], [[0.29657232761383057, 0.19507107138633728, 0.07973449677228928, 0.055696796625852585, 0.372925341129303], [0.33397799730300903, 0.03636768460273743, 0.08590175211429596, 0.04523523524403572, 0.49851739406585693], [0.34599074721336365, 0.14779327809810638, 0.053937219083309174, 0.03626083582639694, 0.41601788997650146], [0.30103424191474915, 0.16237276792526245, 0.06936533749103546, 0.03050103224813938, 0.4367266595363617], [0.4463141858577728, 0.11017516255378723, 0.10783851146697998, 0.054391048848629, 0.28128108382225037]], [[0.5327977538108826, 0.0762462243437767, 0.04653160274028778, 0.020605649799108505, 0.3238186240196228], [0.5516278743743896, 0.012561116367578506, 0.021697062999010086, 0.006800909526646137, 0.4073130786418915], [0.6654216051101685, 0.022497089579701424, 0.00781050231307745, 0.004924439359456301, 0.29934629797935486], [0.6969268321990967, 0.0031081894412636757, 0.004025690257549286, 0.0006496480782516301, 0.2952895164489746], [0.5281269550323486, 0.0694165751338005, 0.029115986078977585, 0.01944066770374775, 0.3538997769355774]], [[0.38706281781196594, 0.11945020407438278, 0.09447941929101944, 0.04749478027224541, 0.3515127897262573], [0.5587045550346375, 0.026157381013035774, 0.013397104106843472, 0.015039236284792423, 0.3867017328739166], [0.442252516746521, 0.04114442318677902, 0.010369183495640755, 0.021223828196525574, 0.4850099980831146], [0.44664955139160156, 0.04432854801416397, 0.019718481227755547, 0.012974848039448261, 0.4763284921646118], [0.45757824182510376, 0.04915530979633331, 0.02880052663385868, 0.0195132065564394, 0.44495272636413574]], [[0.14899583160877228, 0.1534833312034607, 0.21938379108905792, 0.11091172695159912, 0.3672252893447876], [0.33604323863983154, 0.05886207893490791, 0.08134002238512039, 0.023132555186748505, 0.5006221532821655], [0.39229583740234375, 0.21607333421707153, 0.027105143293738365, 0.014203685335814953, 0.35032206773757935], [0.45969805121421814, 0.07958506047725677, 0.03273410722613335, 0.012371557764708996, 0.4156111776828766], [0.2542257606983185, 0.12533991038799286, 0.21120329201221466, 0.166168674826622, 0.24306227266788483]]], [[[0.39425763487815857, 0.10191729664802551, 0.06333263963460922, 0.06666821241378784, 0.3738241493701935], [0.2871529757976532, 0.05368262529373169, 0.07895802706480026, 0.07915735989809036, 0.5010489821434021], [0.2765357494354248, 0.107485830783844, 0.07211525738239288, 0.0811535194516182, 0.46270960569381714], [0.29921942949295044, 0.0452602319419384, 0.03708074614405632, 0.05617927759885788, 0.5622603297233582], [0.3642846345901489, 0.12500633299350739, 0.0845445841550827, 0.12201616913080215, 0.30414828658103943]], [[0.16255122423171997, 0.10656164586544037, 0.03023257851600647, 0.05754689499735832, 0.6431077122688293], [0.13507099449634552, 0.10235735028982162, 0.053625863045454025, 0.03884012997150421, 0.6701056957244873], [0.1118502989411354, 0.03302932158112526, 0.006952348630875349, 0.0073844678699970245, 0.8407834768295288], [0.1330537647008896, 0.12215938419103622, 0.01655293069779873, 0.03489936143159866, 0.6933345794677734], [0.2236781120300293, 0.09456565231084824, 0.06762687861919403, 0.053249064832925797, 0.5608802437782288]], [[0.24524368345737457, 0.07689585536718369, 0.03694893419742584, 0.03644641488790512, 0.6044651865959167], [0.1409669667482376, 0.009562498889863491, 0.004309625830501318, 0.03562005236744881, 0.809540867805481], [0.13776497542858124, 0.019530069082975388, 0.007974588312208652, 0.1008162721991539, 0.7339140772819519], [0.16886769235134125, 0.018761910498142242, 0.01140246819704771, 0.03438055142760277, 0.7665873765945435], [0.23197758197784424, 0.05383197218179703, 0.05043925344944, 0.1745470017194748, 0.4892042279243469]], [[0.09393652528524399, 0.32569313049316406, 0.15956325829029083, 0.14285853505134583, 0.27794864773750305], [0.15302670001983643, 0.3604416251182556, 0.0682770162820816, 0.09092805534601212, 0.32732659578323364], [0.21334685385227203, 0.37804120779037476, 0.032066915184259415, 0.048714373260736465, 0.32783061265945435], [0.16300751268863678, 0.28674739599227905, 0.05848340317606926, 0.07788708806037903, 0.41387462615966797], [0.16977165639400482, 0.292169988155365, 0.11741665750741959, 0.13567957282066345, 0.28496208786964417]], [[0.18719275295734406, 0.13323800265789032, 0.03224537521600723, 0.023282276466488838, 0.6240416169166565], [0.607863187789917, 0.03559039160609245, 0.007892388850450516, 0.011843344196677208, 0.3368106782436371], [0.8146827816963196, 0.01552580762654543, 0.001720132422633469, 0.002900382736697793, 0.16517075896263123], [0.6603542566299438, 0.005302432458847761, 0.0015740350354462862, 0.0013322599697858095, 0.33143702149391174], [0.34583625197410583, 0.20407122373580933, 0.034394122660160065, 0.08133123815059662, 0.3343672454357147]], [[0.4566151201725006, 0.12525957822799683, 0.020574970170855522, 0.029636666178703308, 0.3679136037826538], [0.6409757137298584, 0.03221426531672478, 0.017276916652917862, 0.02859346941113472, 0.2809396982192993], [0.626414954662323, 0.030257154256105423, 0.013665660284459591, 0.014056549407541752, 0.3156057596206665], [0.6892958879470825, 0.016625545918941498, 0.008182317018508911, 0.015555636025965214, 0.2703407406806946], [0.40112343430519104, 0.19505222141742706, 0.016733963042497635, 0.025447193533182144, 0.3616431653499603]], [[0.29210028052330017, 0.14587442576885223, 0.11871706694364548, 0.04118693247437477, 0.40212127566337585], [0.3805282413959503, 0.04469800367951393, 0.058879077434539795, 0.0441085509955883, 0.47178611159324646], [0.28945392370224, 0.27427196502685547, 0.07162696868181229, 0.059202808886766434, 0.30544430017471313], [0.3176088333129883, 0.09199126064777374, 0.0740637332201004, 0.018236882984638214, 0.4980992376804352], [0.48631608486175537, 0.14145338535308838, 0.06538530439138412, 0.03883291780948639, 0.26801228523254395]], [[0.20455071330070496, 0.2217458188533783, 0.25724396109580994, 0.07061711698770523, 0.24584238231182098], [0.2794278562068939, 0.07840200513601303, 0.2541733980178833, 0.02469213493168354, 0.3633045554161072], [0.2549651563167572, 0.21397274732589722, 0.20292291045188904, 0.026932023465633392, 0.30120718479156494], [0.43870601058006287, 0.07210548222064972, 0.11437126249074936, 0.008160218596458435, 0.366657018661499], [0.27093303203582764, 0.16844435036182404, 0.09108138829469681, 0.07733621448278427, 0.39220502972602844]], [[0.2774896025657654, 0.1683967113494873, 0.08765039592981339, 0.10498297214508057, 0.3614802658557892], [0.3174942135810852, 0.24632270634174347, 0.01356934942305088, 0.014905409887433052, 0.4077083468437195], [0.40417128801345825, 0.09526072442531586, 0.049697209149599075, 0.03954913094639778, 0.41132161021232605], [0.3031839430332184, 0.2391083836555481, 0.02553943730890751, 0.03954904153943062, 0.39261913299560547], [0.30666297674179077, 0.04307907074689865, 0.02034618891775608, 0.006634927354753017, 0.6232768297195435]], [[0.19347672164440155, 0.13532112538814545, 0.18120266497135162, 0.09547486901283264, 0.39452457427978516], [0.35114121437072754, 0.08467009663581848, 0.11383087933063507, 0.12381725013256073, 0.32654058933258057], [0.4223743975162506, 0.031089790165424347, 0.043363939970731735, 0.02881813608109951, 0.47435373067855835], [0.32907578349113464, 0.0779079794883728, 0.111698217689991, 0.14556758105754852, 0.33575043082237244], [0.40025976300239563, 0.06334412842988968, 0.025551123544573784, 0.029721258208155632, 0.4811236262321472]], [[0.1359999179840088, 0.12482938170433044, 0.0808240994811058, 0.07544919848442078, 0.5828973650932312], [0.2642630338668823, 0.14247894287109375, 0.279639333486557, 0.09070897102355957, 0.22290974855422974], [0.314373642206192, 0.1668517291545868, 0.1290951818227768, 0.0980098769068718, 0.2916695475578308], [0.15661773085594177, 0.3161608576774597, 0.3382472097873688, 0.06653591245412827, 0.12243832647800446], [0.23649993538856506, 0.19914443790912628, 0.17370851337909698, 0.1191183403134346, 0.2715287506580353]], [[0.3640117943286896, 0.10904505103826523, 0.2185058295726776, 0.06167590618133545, 0.24676141142845154], [0.30730047821998596, 0.02860141173005104, 0.11021322757005692, 0.05605369433760643, 0.4978311359882355], [0.398424357175827, 0.132571280002594, 0.13112495839595795, 0.05147874727845192, 0.286400705575943], [0.255231648683548, 0.06134242191910744, 0.06673233956098557, 0.04209192469716072, 0.5746017098426819], [0.36721980571746826, 0.15451060235500336, 0.09966057538986206, 0.11942070722579956, 0.25918829441070557]]], [[[0.1677207350730896, 0.1496780514717102, 0.046919409185647964, 0.04293881356716156, 0.5927429795265198], [0.18779505789279938, 0.4347391426563263, 0.1045406237244606, 0.0045499675907194614, 0.26837530732154846], [0.06851107627153397, 0.5998035073280334, 0.1583750694990158, 0.008510763756930828, 0.16479958593845367], [0.014471711590886116, 0.44662925601005554, 0.4563952088356018, 0.055692125111818314, 0.026811687275767326], [0.03375166654586792, 0.08628646284341812, 0.13091841340065002, 0.263155460357666, 0.48588797450065613]], [[0.253292977809906, 0.1490909904241562, 0.06635808944702148, 0.0933724120259285, 0.4378855228424072], [0.21998246014118195, 0.19594942033290863, 0.14640244841575623, 0.1997113972902298, 0.23795416951179504], [0.23787623643875122, 0.2753508388996124, 0.062239523977041245, 0.1546429544687271, 0.2698904275894165], [0.2606621980667114, 0.4051152765750885, 0.06757523864507675, 0.044606901705265045, 0.22204037010669708], [0.3212178647518158, 0.09011249989271164, 0.08029501140117645, 0.0863724946975708, 0.4220021665096283]], [[0.4429328143596649, 0.08710380643606186, 0.0519036166369915, 0.07023979723453522, 0.3478199541568756], [0.45959243178367615, 0.02265346795320511, 0.05683809891343117, 0.12128294259309769, 0.3396329879760742], [0.46268194913864136, 0.019138379022479057, 0.032075028866529465, 0.0621158592402935, 0.42398884892463684], [0.44580018520355225, 0.02438466250896454, 0.0394715815782547, 0.08265331387519836, 0.40769028663635254], [0.2613205909729004, 0.026013925671577454, 0.056490056216716766, 0.1451723277568817, 0.5110030770301819]], [[0.24731476604938507, 0.1410944163799286, 0.052540794014930725, 0.03253057599067688, 0.5265194773674011], [0.22178977727890015, 0.05048980563879013, 0.05966229364275932, 0.05432644113898277, 0.6137317419052124], [0.2179308384656906, 0.09084568172693253, 0.011555361561477184, 0.020481465384364128, 0.659186601638794], [0.20510604977607727, 0.03835948556661606, 0.01876024901866913, 0.012199748307466507, 0.7255744934082031], [0.2571297287940979, 0.05444962903857231, 0.02153755910694599, 0.02849089354276657, 0.6383922100067139]], [[0.2835599184036255, 0.02351774461567402, 0.051508110016584396, 0.025018960237503052, 0.6163952350616455], [0.32279422879219055, 0.014086464419960976, 0.05837222933769226, 0.017055943608283997, 0.587691068649292], [0.3305634558200836, 0.00639298977330327, 0.045552436262369156, 0.009000882506370544, 0.6084902882575989], [0.32168349623680115, 0.013864955864846706, 0.04835622012615204, 0.014770003035664558, 0.601325273513794], [0.2179347723722458, 0.010802729986608028, 0.03770172595977783, 0.032033778727054596, 0.7015269994735718]], [[0.26883095502853394, 0.19606679677963257, 0.1314963847398758, 0.12399441003799438, 0.2796114683151245], [0.215597465634346, 0.10672842711210251, 0.11747144162654877, 0.14406006038188934, 0.41614261269569397], [0.15483175218105316, 0.14109355211257935, 0.2177242487668991, 0.13841816782951355, 0.3479323089122772], [0.21826611459255219, 0.08890484273433685, 0.12266699969768524, 0.09946327656507492, 0.4706987142562866], [0.4504918158054352, 0.10440798103809357, 0.07244948297739029, 0.09350408613681793, 0.27914658188819885]], [[0.224530890583992, 0.15191073715686798, 0.07767730206251144, 0.07551397383213043, 0.47036710381507874], [0.09723469614982605, 0.08516848832368851, 0.2322162389755249, 0.23771202564239502, 0.3476685583591461], [0.083995521068573, 0.046529192477464676, 0.0763608068227768, 0.1589597910642624, 0.634154736995697], [0.039397191256284714, 0.01497313380241394, 0.02664562128484249, 0.06243492662906647, 0.8565491437911987], [0.16633328795433044, 0.04905097186565399, 0.044461533427238464, 0.03839799761772156, 0.7017562389373779]], [[0.25974389910697937, 0.284403532743454, 0.08128654956817627, 0.04505625739693642, 0.3295097351074219], [0.25686362385749817, 0.034783266484737396, 0.09598636627197266, 0.07606787234544754, 0.5362988710403442], [0.28525131940841675, 0.1045258417725563, 0.023892702534794807, 0.03340044617652893, 0.552929699420929], [0.2542424499988556, 0.08775434643030167, 0.03794896602630615, 0.01600010320544243, 0.6040542125701904], [0.30275478959083557, 0.17252060770988464, 0.12930618226528168, 0.06761553138494492, 0.327802836894989]], [[0.39779385924339294, 0.06775478273630142, 0.03364740312099457, 0.03272443264722824, 0.46807950735092163], [0.4089178144931793, 0.01284914929419756, 0.034562017768621445, 0.03662728890776634, 0.5070437788963318], [0.3940443992614746, 0.014850876294076443, 0.032665710896253586, 0.03678179159760475, 0.5216572284698486], [0.37458130717277527, 0.014993328601121902, 0.03521875664591789, 0.025506263598799706, 0.5497003793716431], [0.18665967881679535, 0.08275163918733597, 0.1316879540681839, 0.2007635086774826, 0.3981372117996216]], [[0.20321576297283173, 0.07040432840585709, 0.01587282121181488, 0.03227613866329193, 0.678230881690979], [0.334026038646698, 0.05260678380727768, 0.0365472286939621, 0.03839726001024246, 0.5384227633476257], [0.27827826142311096, 0.10641763359308243, 0.021668950095772743, 0.04473980888724327, 0.5488954186439514], [0.2997766137123108, 0.09316261112689972, 0.0202618595212698, 0.028572138398885727, 0.5582267642021179], [0.34018588066101074, 0.16922467947006226, 0.1098816990852356, 0.1077096238732338, 0.27299806475639343]], [[0.19024145603179932, 0.06835031509399414, 0.048154763877391815, 0.0259572584182024, 0.6672962307929993], [0.22047585248947144, 0.029078301042318344, 0.04668090119957924, 0.025675328448414803, 0.6780896186828613], [0.20454934239387512, 0.036501169204711914, 0.013657210394740105, 0.008336511440575123, 0.7369558215141296], [0.24717852473258972, 0.05970665439963341, 0.027756165713071823, 0.014552420005202293, 0.650806188583374], [0.43660932779312134, 0.031360309571027756, 0.024624725803732872, 0.00974791869521141, 0.4976577162742615]], [[0.08381601423025131, 0.1367945373058319, 0.06412273645401001, 0.06252548843622208, 0.6527412533760071], [0.587098240852356, 0.10818107426166534, 0.07254932820796967, 0.03736838698387146, 0.19480295479297638], [0.6278642416000366, 0.13645200431346893, 0.061725251376628876, 0.04697442054748535, 0.12698404490947723], [0.25395211577415466, 0.1628924310207367, 0.08997398614883423, 0.08985131233930588, 0.40333014726638794], [0.4269914925098419, 0.19867177307605743, 0.09499827772378922, 0.10231011360883713, 0.1770283728837967]]], [[[0.11129887402057648, 0.05855671688914299, 0.04437677189707756, 0.03290962055325508, 0.75285804271698], [0.04745630547404289, 0.02758651413023472, 0.08801116794347763, 0.10014363378286362, 0.7368023991584778], [0.06506028026342392, 0.02834785357117653, 0.052821043878793716, 0.06121545284986496, 0.7925554513931274], [0.04709772765636444, 0.019684288650751114, 0.023270778357982635, 0.02197614125907421, 0.8879711031913757], [0.11275694519281387, 0.039509594440460205, 0.2038656771183014, 0.09239649027585983, 0.5514712333679199]], [[0.20532287657260895, 0.11429489403963089, 0.27327609062194824, 0.09140928834676743, 0.3156968355178833], [0.2216424196958542, 0.47015878558158875, 0.1011429876089096, 0.021877039223909378, 0.1851787269115448], [0.12726113200187683, 0.5139954090118408, 0.1366531401872635, 0.04333893582224846, 0.17875131964683533], [0.05263156071305275, 0.3761446475982666, 0.3466213345527649, 0.056725479662418365, 0.16787691414356232], [0.0690818801522255, 0.21432329714298248, 0.214237779378891, 0.19194437563419342, 0.3104127049446106]], [[0.40638524293899536, 0.15298837423324585, 0.2163173407316208, 0.04171157628297806, 0.18259753286838531], [0.24388113617897034, 0.11152909696102142, 0.13310852646827698, 0.09401080757379532, 0.41747042536735535], [0.19819627702236176, 0.037918757647275925, 0.10379498451948166, 0.0681346133351326, 0.5919553637504578], [0.23874057829380035, 0.05788268521428108, 0.0979205071926117, 0.09294693171977997, 0.512509286403656], [0.3854527473449707, 0.09334061294794083, 0.11045855283737183, 0.07252772897481918, 0.3382202982902527]], [[0.1947672814130783, 0.18329742550849915, 0.07597722858190536, 0.07139892131090164, 0.4745591878890991], [0.282836377620697, 0.015407154336571693, 0.04148693382740021, 0.027558470144867897, 0.6327110528945923], [0.4068257212638855, 0.08176901191473007, 0.014541296288371086, 0.02164541184902191, 0.4752184748649597], [0.31545141339302063, 0.08331015706062317, 0.01392013393342495, 0.023219674825668335, 0.5640985369682312], [0.2967420518398285, 0.10433420538902283, 0.08475188165903091, 0.06926869601011276, 0.444903165102005]], [[0.2578105628490448, 7.489505514968187e-05, 0.0006928943330422044, 0.0016927033429965377, 0.7397289872169495], [2.397640628259978e-07, 0.000745910219848156, 0.9956749081611633, 0.0035789913963526487, 1.4056698027786751e-08], [1.165727007901296e-05, 4.855651241086889e-06, 0.007170951459556818, 0.991951584815979, 0.0008609889773651958], [4.127938609599369e-06, 1.8212376051707224e-11, 1.3528909903470776e-07, 0.00019956800679210573, 0.9997962117195129], [0.0003313629131298512, 1.3305006402175579e-11, 5.285030191259921e-09, 3.973223556386074e-06, 0.9996646642684937]], [[0.36841002106666565, 0.03206777945160866, 0.30195215344429016, 0.08545737713575363, 0.2121126800775528], [0.004453043453395367, 0.0014979433035477996, 0.03477709740400314, 0.673651397228241, 0.2856205701828003], [0.0016251573106274009, 4.971882844984066e-06, 0.00015037869161460549, 0.022395635023713112, 0.9758238196372986], [0.0012783413985744119, 1.0629934195094393e-06, 2.278135798405856e-05, 0.0018783826380968094, 0.9968193769454956], [0.06656991690397263, 0.00031276149093173444, 0.0004958462668582797, 0.0014628443168476224, 0.9311586618423462]], [[0.2195155769586563, 0.1626879721879959, 0.16747598350048065, 0.07786468416452408, 0.37245574593544006], [0.19963489472866058, 0.021012160927057266, 0.032906681299209595, 0.00416330061852932, 0.742283046245575], [0.1843942105770111, 0.009646452032029629, 0.009712106548249722, 0.006913371384143829, 0.7893338799476624], [0.2179756760597229, 0.04471723735332489, 0.02620670013129711, 0.021570555865764618, 0.6895298957824707], [0.2508496344089508, 0.03903773054480553, 0.10206488519906998, 0.03004901483654976, 0.5779987573623657]], [[0.19105809926986694, 0.1417255401611328, 0.09644030034542084, 0.09834733605384827, 0.47242873907089233], [0.19975845515727997, 0.08417274057865143, 0.12010256201028824, 0.06515888124704361, 0.5308073163032532], [0.1746230572462082, 0.13931481540203094, 0.13069148361682892, 0.07298125326633453, 0.4823893904685974], [0.15289939939975739, 0.08659284561872482, 0.12879522144794464, 0.08046761155128479, 0.5512449741363525], [0.1872190535068512, 0.0953306257724762, 0.13801702857017517, 0.04146263003349304, 0.5379707217216492]], [[0.3712292015552521, 0.08356835693120956, 0.0636504665017128, 0.05639343708753586, 0.4251585602760315], [0.3027908205986023, 0.07412303239107132, 0.06993206590414047, 0.043679479509592056, 0.5094745755195618], [0.3347534239292145, 0.0991489589214325, 0.052656129002571106, 0.05127948522567749, 0.4621620774269104], [0.258160799741745, 0.029011210426688194, 0.07186144590377808, 0.08166996389627457, 0.5592965483665466], [0.3558718264102936, 0.12600435316562653, 0.08917367458343506, 0.06233569607138634, 0.3666144609451294]], [[0.344672292470932, 0.03462905064225197, 0.021272948011755943, 0.034626737236976624, 0.5647989511489868], [0.1610376536846161, 0.46149176359176636, 0.00995167251676321, 0.018004901707172394, 0.349513977766037], [0.23034030199050903, 0.03350580111145973, 0.041618213057518005, 0.06890054047107697, 0.6256350874900818], [0.2311725616455078, 0.05812197923660278, 0.08193271607160568, 0.26091575622558594, 0.36785703897476196], [0.40220507979393005, 0.03704993426799774, 0.018874486908316612, 0.02010100521147251, 0.5217695236206055]], [[0.051031775772571564, 7.267976616276428e-05, 0.00019017246086150408, 0.00034292470081709325, 0.948362410068512], [9.90149004453933e-11, 6.241619121283293e-05, 0.999701201915741, 0.00023635037359781563, 8.025287248983326e-13], [2.8650394057194717e-08, 1.8594976225472237e-08, 0.003282018005847931, 0.9967024922370911, 1.5414536392199807e-05], [7.478828223383971e-08, 6.569753557362015e-14, 1.5716652868036363e-08, 0.00012295434135012329, 0.9998769760131836], [5.172996679903008e-06, 4.220813457046172e-15, 2.272431808697517e-12, 4.814527443386396e-09, 0.9999948740005493]], [[0.23514358699321747, 0.132633239030838, 0.17590154707431793, 0.20066964626312256, 0.25565192103385925], [0.19098453223705292, 0.18860173225402832, 0.11790133267641068, 0.1297566443681717, 0.3727557063102722], [0.17879386246204376, 0.1462913602590561, 0.08617087453603745, 0.0634138360619545, 0.5253300070762634], [0.1357443481683731, 0.1025102436542511, 0.09071822464466095, 0.07683303952217102, 0.5941941738128662], [0.20721569657325745, 0.09791553765535355, 0.11610578745603561, 0.0729558989405632, 0.5058071613311768]]], [[[0.1941811889410019, 0.05756758525967598, 0.030830299481749535, 0.05012662708759308, 0.6672943234443665], [0.01049239281564951, 0.010185391642153263, 0.15151222050189972, 0.766569972038269, 0.061239972710609436], [0.02651115320622921, 0.10113189369440079, 0.019844062626361847, 0.16103069484233856, 0.6914822459220886], [0.01518509816378355, 0.28245314955711365, 0.1383168250322342, 0.0169718898832798, 0.5470729470252991], [0.019740067422389984, 0.012498217634856701, 0.021344702690839767, 0.046477146446704865, 0.8999398946762085]], [[0.22544726729393005, 0.04483050853013992, 0.03525276109576225, 0.057409051805734634, 0.6370603442192078], [0.2588534355163574, 0.09433037787675858, 0.050811514258384705, 0.11428746581077576, 0.48171719908714294], [0.17198055982589722, 0.03701615706086159, 0.086280457675457, 0.053005144000053406, 0.6517177224159241], [0.10874957591295242, 0.05372884124517441, 0.14155875146389008, 0.13244765996932983, 0.5635151267051697], [0.234516903758049, 0.05161722004413605, 0.07221008092164993, 0.12608975172042847, 0.5155659914016724]], [[0.23527894914150238, 0.07574868947267532, 0.03516542539000511, 0.1930619478225708, 0.4607449769973755], [0.22279396653175354, 0.07244367152452469, 0.03525112196803093, 0.08486579358577728, 0.5846454501152039], [0.1042056456208229, 0.07604828476905823, 0.013973993249237537, 0.02731507644057274, 0.7784570455551147], [0.08908341825008392, 0.33147865533828735, 0.04240703582763672, 0.15377658605575562, 0.3832543194293976], [0.07187268137931824, 0.029046742245554924, 0.023956548422574997, 0.09006867557764053, 0.7850552797317505]], [[0.16179262101650238, 0.12296230345964432, 0.19359217584133148, 0.06278615444898605, 0.45886674523353577], [0.23272114992141724, 0.3054157793521881, 0.37227100133895874, 0.03867115080356598, 0.05092091113328934], [0.012181524187326431, 0.78992760181427, 0.15540236234664917, 0.010626271367073059, 0.0318622812628746], [0.015017645433545113, 0.24759264290332794, 0.5375641584396362, 0.031754087656736374, 0.16807149350643158], [0.003799234749749303, 0.0044445437379181385, 0.08753441274166107, 0.09029388427734375, 0.8139278888702393]], [[0.19803275167942047, 0.08660721033811569, 0.11682982742786407, 0.05782617628574371, 0.5407041311264038], [0.25341472029685974, 0.062931589782238, 0.20535364747047424, 0.05602819100022316, 0.42227187752723694], [0.1822909116744995, 0.049534015357494354, 0.07954845577478409, 0.04904135689139366, 0.6395852565765381], [0.0778520330786705, 0.04483874887228012, 0.09488227963447571, 0.1305779367685318, 0.6518489718437195], [0.01926717720925808, 0.033291224390268326, 0.09030595421791077, 0.026360854506492615, 0.8307747840881348]], [[0.17063763737678528, 0.1262965202331543, 0.18135333061218262, 0.1882183849811554, 0.33349406719207764], [0.25400468707084656, 0.028491098433732986, 0.06316288560628891, 0.04980006814002991, 0.6045412421226501], [0.11341749131679535, 0.03807954862713814, 0.012417794205248356, 0.04615122824907303, 0.7899338603019714], [0.082815021276474, 0.020131366327404976, 0.022143030539155006, 0.0694231241941452, 0.8054874539375305], [0.08721460402011871, 0.054729606956243515, 0.0717557966709137, 0.13882261514663696, 0.647477388381958]], [[0.12090244144201279, 0.13969191908836365, 0.046000927686691284, 0.012363932095468044, 0.6810407638549805], [0.14503087103366852, 0.0934271439909935, 0.15258540213108063, 0.08856002986431122, 0.5203965902328491], [0.12666866183280945, 0.09312190860509872, 0.1059863269329071, 0.05780717730522156, 0.6164159774780273], [0.09594245254993439, 0.061447788029909134, 0.09697200357913971, 0.07656481117010117, 0.6690729856491089], [0.04243370518088341, 0.07925410568714142, 0.06564193218946457, 0.06948857009410858, 0.7431816458702087]], [[0.15870016813278198, 0.01547467801719904, 0.03408972918987274, 0.28342026472091675, 0.5083151459693909], [0.00011489919415907934, 0.9992017149925232, 0.0006076860008761287, 7.472192373825237e-05, 9.528883992970805e-07], [5.135800465461138e-11, 0.9991452693939209, 0.0008547490579076111, 6.220326032035928e-09, 1.5285240087536955e-11], [4.4342576832612224e-10, 0.00012910188524983823, 0.9998538494110107, 1.7088457752834074e-05, 3.055367869819747e-08], [0.00019483435607980937, 3.070512320846319e-06, 0.0036204487551003695, 0.5095125436782837, 0.4866692125797272]], [[0.14018484950065613, 0.05092783272266388, 0.029113775119185448, 0.13671158254146576, 0.6430619359016418], [0.0961628183722496, 0.022420734167099, 0.045574646443128586, 0.14587213099002838, 0.6899696588516235], [0.044770531356334686, 0.0018872643122449517, 0.0012861501891165972, 0.012792729772627354, 0.9392633438110352], [0.0551689974963665, 0.002843915019184351, 0.007664735894650221, 0.06042449176311493, 0.8738977909088135], [0.09447357803583145, 0.024302931502461433, 0.1120142936706543, 0.06070635840296745, 0.7085028886795044]], [[0.20199549198150635, 0.23105143010616302, 0.09093225747346878, 0.06410493701696396, 0.4119158983230591], [0.20835396647453308, 0.5222362279891968, 0.09071840345859528, 0.05287401005625725, 0.1258174329996109], [0.2616161108016968, 0.3555506765842438, 0.10534009337425232, 0.15802110731601715, 0.11947201192378998], [0.07989238202571869, 0.4923005700111389, 0.11030451208353043, 0.1986401230096817, 0.11886238306760788], [0.02476906217634678, 0.2124270498752594, 0.175542950630188, 0.10027757287025452, 0.48698335886001587]], [[0.2797819674015045, 0.024068070575594902, 0.01119146402925253, 0.03091859072446823, 0.6540399193763733], [0.042952973395586014, 0.010093963705003262, 0.10272874683141708, 0.41272780299186707, 0.4314965605735779], [0.015001497231423855, 0.008073771372437477, 0.009411177597939968, 0.09872981905937195, 0.868783712387085], [0.009276716969907284, 0.001032308442518115, 0.0006021118024364114, 0.011211979202926159, 0.9778768420219421], [0.02250661514699459, 0.0006966455257497728, 0.0005509795155376196, 0.0038629868067801, 0.9723827838897705]], [[0.3362036347389221, 0.05656944960355759, 0.029621554538607597, 0.035119444131851196, 0.5424858927726746], [0.056163690984249115, 0.35670292377471924, 0.19532142579555511, 0.037679675966501236, 0.3541323244571686], [0.06525951623916626, 0.10244355350732803, 0.28332820534706116, 0.05112479627132416, 0.4978438913822174], [0.1513233631849289, 0.005846472457051277, 0.008303631097078323, 0.06554673612117767, 0.7689797878265381], [0.2195231318473816, 0.06852506101131439, 0.07584507018327713, 0.011579199694097042, 0.6245274543762207]]], [[[0.03769722208380699, 0.027224337682127953, 0.010682179592549801, 0.08722516894340515, 0.8371711373329163], [0.04984109476208687, 0.018159380182623863, 0.028313105925917625, 0.042302925139665604, 0.8613834977149963], [0.020064249634742737, 0.005202955100685358, 0.024485819041728973, 0.02559817023575306, 0.9246487617492676], [0.021886393427848816, 0.012510562315583229, 0.04193314164876938, 0.061010122299194336, 0.862659752368927], [0.009490628726780415, 0.004929304122924805, 0.002966115716844797, 0.006277907639741898, 0.9763360619544983]], [[0.17869390547275543, 0.02582670748233795, 0.003851252142339945, 0.001416791114024818, 0.7902113795280457], [3.1874235446593957e-06, 0.017517687752842903, 0.9821614027023315, 0.00026384505326859653, 5.395222615334205e-05], [0.00045237617450766265, 0.0010321432491764426, 0.02360895276069641, 0.9661332964897156, 0.00877317599952221], [0.0005205846391618252, 0.0008600589935667813, 1.4856751477054786e-05, 0.002273433143272996, 0.9963310360908508], [0.03456909582018852, 0.0029024812392890453, 0.004197236150503159, 0.012404462322592735, 0.9459267258644104]], [[0.05710633099079132, 0.055598337203264236, 0.04517405480146408, 0.03881826251745224, 0.8033030033111572], [0.025844572111964226, 0.0445975661277771, 0.01844118908047676, 0.023024166002869606, 0.888092577457428], [0.013502685353159904, 0.25945940613746643, 0.0795092061161995, 0.01710101030766964, 0.6304277181625366], [0.007584758102893829, 0.5789538621902466, 0.22758322954177856, 0.031046567484736443, 0.15483152866363525], [0.0074936277233064175, 0.009191788733005524, 0.006437611300498247, 0.004456271883100271, 0.9724207520484924]], [[0.05650952458381653, 0.02224767580628395, 0.023487167432904243, 0.019673673436045647, 0.8780819177627563], [0.02185935713350773, 0.010517190210521221, 0.005921987816691399, 0.028317542746663094, 0.9333839416503906], [0.013741332106292248, 0.003947877790778875, 0.0037630086299031973, 0.02162747085094452, 0.9569202661514282], [0.015508121810853481, 0.003519192337989807, 0.00578668899834156, 0.02025197260081768, 0.9549340009689331], [0.011462371796369553, 0.001366392127238214, 0.0023130998015403748, 0.003471586387604475, 0.9813866019248962]], [[0.07818570733070374, 0.0017559390980750322, 0.0007620202377438545, 0.00628795986995101, 0.9130083918571472], [0.017221996560692787, 0.08052423596382141, 0.0029063657857477665, 0.015046002343297005, 0.8843014240264893], [0.007870662026107311, 0.0008201886666938663, 0.010824126191437244, 0.011590078473091125, 0.9688949584960938], [0.05381932482123375, 0.0018957442371174693, 0.00850369967520237, 0.22623145580291748, 0.7095498442649841], [0.03258545696735382, 0.0007442379137501121, 0.0009957877919077873, 0.001232294482178986, 0.964442253112793]], [[0.0755060613155365, 0.015267313458025455, 0.024668198078870773, 0.013141435571014881, 0.8714169263839722], [0.007214365992695093, 0.016066953539848328, 0.012016578577458858, 0.01919180154800415, 0.9455102682113647], [0.00995264295488596, 0.102751225233078, 0.03816773369908333, 0.05627332627773285, 0.7928550839424133], [0.030927041545510292, 0.16400264203548431, 0.09826960414648056, 0.13515155017375946, 0.5716491341590881], [0.010851183906197548, 0.002237738808616996, 0.0029779919423162937, 0.0015559450257569551, 0.9823771715164185]], [[0.09621790796518326, 0.022019056603312492, 0.0038155321963131428, 0.03054531291127205, 0.8474022150039673], [0.11814262717962265, 0.03754136711359024, 0.0046855853870511055, 0.007225047796964645, 0.8324053287506104], [0.0513329915702343, 0.005720443557947874, 0.0027549092192202806, 0.001962431939318776, 0.9382292032241821], [0.15327772498130798, 0.013303202576935291, 0.001851609442383051, 0.028138112276792526, 0.8034293055534363], [0.021938512101769447, 0.0007490958669222891, 0.0003167506365571171, 0.0004639546386897564, 0.9765316247940063]], [[0.050437722355127335, 0.014602974988520145, 0.017616398632526398, 0.02892232872545719, 0.8884206414222717], [0.05186596140265465, 0.07778826355934143, 0.07458142936229706, 0.0945206731557846, 0.7012436985969543], [0.029190659523010254, 0.08526641130447388, 0.12618650496006012, 0.10271189361810684, 0.6566445827484131], [0.014687912538647652, 0.05213460326194763, 0.13856282830238342, 0.18230995535850525, 0.6123046278953552], [0.009508433751761913, 0.004121180158108473, 0.009668462909758091, 0.015486745163798332, 0.9612152576446533]], [[0.025056272745132446, 0.015721473842859268, 0.0233046542853117, 0.015884874388575554, 0.9200327396392822], [0.013852564617991447, 0.01297424640506506, 0.22804337739944458, 0.13053029775619507, 0.6145995259284973], [0.01681072823703289, 0.0023810244165360928, 0.009519470855593681, 0.0186572577804327, 0.9526314735412598], [0.011793751269578934, 0.00377150671556592, 0.009551758877933025, 0.008194273337721825, 0.9666887521743774], [0.010246379300951958, 0.004211689345538616, 0.012238838709890842, 0.006214582826942205, 0.967088520526886]], [[0.15266653895378113, 0.058195628225803375, 0.02974100410938263, 0.040962103754282, 0.718434751033783], [0.04472879692912102, 0.017384212464094162, 0.007596393581479788, 0.06006879732012749, 0.8702217936515808], [0.027153268456459045, 0.009155072271823883, 0.00812064204365015, 0.03957599028944969, 0.9159950017929077], [0.032080356031656265, 0.013415421359241009, 0.011938301846385002, 0.05139816552400589, 0.8911678194999695], [0.028651420027017593, 0.008095619268715382, 0.005648382008075714, 0.009763289242982864, 0.9478413462638855]], [[0.10313814878463745, 0.02981523610651493, 0.019190926104784012, 0.041262201964855194, 0.8065935373306274], [0.0023022685199975967, 0.021195966750383377, 0.4717180132865906, 0.019187521189451218, 0.4855961799621582], [0.011087113991379738, 0.015151976607739925, 0.018923550844192505, 0.06910308450460434, 0.8857342004776001], [0.029924040660262108, 0.00754631869494915, 0.013983063399791718, 0.19802889227867126, 0.7505176663398743], [0.011519846506416798, 0.001166249276138842, 0.0031320953276008368, 0.006249082740396261, 0.9779326915740967]], [[0.13457685708999634, 0.015684932470321655, 0.03234396502375603, 0.04426729679107666, 0.7731269001960754], [0.013080869801342487, 0.01394257415086031, 0.16761401295661926, 0.1792982965707779, 0.6260641813278198], [0.01779569685459137, 0.001881668926216662, 0.04427940398454666, 0.24852687120437622, 0.6875163912773132], [0.028831159695982933, 0.011696548201143742, 0.1165456548333168, 0.06758183240890503, 0.7753447890281677], [0.024254538118839264, 0.0012634703889489174, 0.002664353000000119, 0.006791670341044664, 0.9650259613990784]]], [[[0.1412665694952011, 0.04179127514362335, 0.15755164623260498, 0.07714756578207016, 0.5822429060935974], [0.04474891722202301, 0.1236027404665947, 0.006486831232905388, 0.07354224473237991, 0.751619279384613], [0.0036979643628001213, 0.8747745752334595, 0.021381404250860214, 0.002535636303946376, 0.0976104885339737], [0.005591800436377525, 0.014484922401607037, 0.8513907790184021, 0.024792306125164032, 0.10374011099338531], [0.08628346771001816, 0.05201507359743118, 0.0806756541132927, 0.057282913476228714, 0.7237428426742554]], [[0.19130519032478333, 0.12057223170995712, 0.23429006338119507, 0.09972922503948212, 0.35410329699516296], [0.14102856814861298, 0.11514931917190552, 0.09554809331893921, 0.10867813229560852, 0.5395958423614502], [0.09656061977148056, 0.05045531690120697, 0.05659446492791176, 0.10417921096086502, 0.6922103762626648], [0.10442857444286346, 0.04213534668087959, 0.054868146777153015, 0.1642078310251236, 0.6343600749969482], [0.1153944879770279, 0.047662053257226944, 0.05933358147740364, 0.04647551476955414, 0.731134295463562]], [[0.11758144944906235, 0.02563723921775818, 0.059517938643693924, 0.2424122840166092, 0.5548511147499084], [0.05159762129187584, 0.03255170211195946, 0.03180721029639244, 0.08250930160284042, 0.8015341758728027], [0.0506865456700325, 0.34108632802963257, 0.05999716743826866, 0.1293710470199585, 0.41885891556739807], [0.010023867711424828, 0.7087669372558594, 0.08956646174192429, 0.06490852683782578, 0.12673431634902954], [0.06044831871986389, 0.023821216076612473, 0.028579214587807655, 0.08657152205705643, 0.8005797266960144]], [[0.1343679279088974, 0.03227381035685539, 0.0369580052793026, 0.05733849108219147, 0.7390617728233337], [0.05602742359042168, 0.012608802877366543, 0.017868783324956894, 0.041142549365758896, 0.8723524212837219], [0.05880120396614075, 0.012954799458384514, 0.01707429438829422, 0.045704152435064316, 0.8654655814170837], [0.046882178634405136, 0.11210903525352478, 0.05874099209904671, 0.10401289165019989, 0.6782549023628235], [0.07618667185306549, 0.022442663088440895, 0.03200783580541611, 0.061402276158332825, 0.807960569858551]], [[0.09365136921405792, 0.04783792793750763, 0.05749155953526497, 0.21475845575332642, 0.5862606763839722], [0.0597015880048275, 0.02450624480843544, 0.05300553888082504, 0.07855913043022156, 0.7842274904251099], [0.04677608981728554, 0.05922653153538704, 0.07931198179721832, 0.12710276246070862, 0.6875826716423035], [0.03418562933802605, 0.07445144653320312, 0.16860255599021912, 0.2691594064235687, 0.4536009430885315], [0.021407971158623695, 0.009467187337577343, 0.010157923214137554, 0.02011488750576973, 0.9388520121574402]], [[0.18094582855701447, 0.024448590353131294, 0.03633853793144226, 0.097725510597229, 0.6605414748191833], [0.010101339779794216, 0.017152395099401474, 0.2743881940841675, 0.5127561688423157, 0.18560191988945007], [0.031215686351060867, 0.016240276396274567, 0.09141317009925842, 0.5643749237060547, 0.29675590991973877], [0.049786750227212906, 0.024751903489232063, 0.0501425564289093, 0.1751982867717743, 0.7001204490661621], [0.07959906756877899, 0.012633750215172768, 0.01969069242477417, 0.036325644701719284, 0.8517508506774902]], [[0.14632408320903778, 0.05775246396660805, 0.0619768425822258, 0.057930417358875275, 0.6760162115097046], [0.16706280410289764, 0.06270506978034973, 0.017342139035463333, 0.01253671944141388, 0.7403532266616821], [0.10285422950983047, 0.04428309202194214, 0.02500309608876705, 0.009745209477841854, 0.8181143999099731], [0.13174591958522797, 0.08173739910125732, 0.03973430395126343, 0.03881014883518219, 0.7079721689224243], [0.030340611934661865, 0.011644154787063599, 0.012457366101443768, 0.008450215682387352, 0.9371076226234436]], [[0.2421177178621292, 0.061403095722198486, 0.014953144825994968, 0.023337827995419502, 0.6581882238388062], [0.1818522810935974, 0.018081504851579666, 0.013311387971043587, 0.043900322169065475, 0.7428544163703918], [0.07886602729558945, 0.021803390234708786, 0.008042952977120876, 0.031013863161206245, 0.8602737784385681], [0.18528036773204803, 0.017768675461411476, 0.008014642633497715, 0.011449006386101246, 0.7774873375892639], [0.37201252579689026, 0.10221707075834274, 0.0725926086306572, 0.09814657270908356, 0.35503116250038147]], [[0.23256951570510864, 0.03461407870054245, 0.014263360761106014, 0.05394972488284111, 0.6646032929420471], [0.11221885681152344, 0.05703691765666008, 0.024204466491937637, 0.02305898442864418, 0.7834807634353638], [0.08214307576417923, 0.013681329786777496, 0.0278251264244318, 0.021957295015454292, 0.8543931841850281], [0.07678809762001038, 0.017475392669439316, 0.02289287932217121, 0.062340375036001205, 0.820503294467926], [0.2921399772167206, 0.0973493680357933, 0.06312180310487747, 0.41913458704948425, 0.12825432419776917]], [[0.10588976740837097, 0.015066810883581638, 0.052472539246082306, 0.024715742096304893, 0.801855206489563], [0.08426225185394287, 0.03304184600710869, 0.05338606983423233, 0.0578116700053215, 0.7714981436729431], [0.09430766850709915, 0.057967111468315125, 0.031327392905950546, 0.06778771430253983, 0.7486100792884827], [0.06093868613243103, 0.020685283467173576, 0.018153386190533638, 0.05653833970427513, 0.8436843156814575], [0.06165406480431557, 0.0077297622337937355, 0.015591544099152088, 0.015647120773792267, 0.8993774652481079]], [[0.07922954112291336, 0.007023167796432972, 0.0060073742642998695, 0.12766796350479126, 0.7800719141960144], [0.037178147584199905, 0.028263317421078682, 0.04696042463183403, 0.06350001692771912, 0.8240980505943298], [0.04297072812914848, 0.04005846008658409, 0.07239703834056854, 0.08630705624818802, 0.7582667469978333], [0.028916316106915474, 0.024889349937438965, 0.03339753672480583, 0.060258470475673676, 0.8525383472442627], [0.06171053275465965, 0.015524364076554775, 0.015980061143636703, 0.09520565718412399, 0.8115794062614441]], [[0.0780683159828186, 0.015816781669855118, 0.014514563605189323, 0.05414333939552307, 0.8374569416046143], [0.04672045633196831, 0.03451058641076088, 0.059810105711221695, 0.1666998714208603, 0.692258894443512], [0.04837958514690399, 0.018660560250282288, 0.025761397555470467, 0.12351308763027191, 0.7836854457855225], [0.03169887140393257, 0.01034820917993784, 0.011790488846600056, 0.08537285029888153, 0.8607895970344543], [0.058247972279787064, 0.015812993049621582, 0.022206908091902733, 0.03971678763628006, 0.8640154004096985]]], [[[0.03858942165970802, 0.025819452479481697, 0.0190799031406641, 0.01501066517084837, 0.9015005826950073], [0.030928920954465866, 0.04978115111589432, 0.08746447414159775, 0.07344387471675873, 0.7583816647529602], [0.020761311054229736, 0.01458396203815937, 0.05031641945242882, 0.033900175243616104, 0.8804381489753723], [0.013980689458549023, 0.012929086573421955, 0.026196863502264023, 0.034161366522312164, 0.9127320647239685], [0.028692711144685745, 0.01944332756102085, 0.013415210880339146, 0.014711408875882626, 0.9237372875213623]], [[0.020068349316716194, 0.009451353922486305, 0.014825222082436085, 0.02000403217971325, 0.9356511235237122], [0.004482836928218603, 0.008317616768181324, 0.01994176395237446, 0.03338313847780228, 0.9338746070861816], [0.003975641913712025, 0.00761309452354908, 0.02778678573668003, 0.04297839105129242, 0.9176461100578308], [0.007088739890605211, 0.019779430702328682, 0.04631740227341652, 0.06684646010398865, 0.8599679470062256], [0.007269490975886583, 0.006140492856502533, 0.005373362917453051, 0.005113148130476475, 0.9761034846305847]], [[0.033079713582992554, 0.010305708274245262, 0.02778751030564308, 0.029101520776748657, 0.8997254967689514], [0.016848957166075706, 0.02002793736755848, 0.1474369913339615, 0.1092807799577713, 0.7064052820205688], [0.009514275006949902, 0.020914284512400627, 0.05825960263609886, 0.06928472220897675, 0.8420270681381226], [0.008699987083673477, 0.032182373106479645, 0.05591642111539841, 0.03818456456065178, 0.8650166392326355], [0.11065742373466492, 0.06934740394353867, 0.05297691002488136, 0.06456709653139114, 0.7024511098861694]], [[0.003272708971053362, 0.000967101426795125, 0.0012375256046652794, 0.0004822122573386878, 0.9940404295921326], [0.002643568441271782, 0.0038393368013203144, 0.0013070773566141725, 0.0004409549874253571, 0.9917690753936768], [0.0017469513695687056, 0.0010353514226153493, 0.0029837803449481726, 0.0008617956773377955, 0.9933720827102661], [0.0033404657151550055, 0.0020217299461364746, 0.0038045949768275023, 0.008336566388607025, 0.9824966192245483], [0.004778727889060974, 0.0008237556903623044, 0.0007173870108090341, 0.000831521931104362, 0.9928486347198486]], [[0.013569031842052937, 0.014151773415505886, 0.010174483060836792, 0.007668052799999714, 0.9544366598129272], [0.0041024512611329556, 0.00957072339951992, 0.006185868289321661, 0.004827410448342562, 0.9753134846687317], [0.008378835394978523, 0.020013675093650818, 0.011378882452845573, 0.010033922269940376, 0.9501947164535522], [0.01658306084573269, 0.03689975291490555, 0.022099211812019348, 0.028830990195274353, 0.8955870270729065], [0.010666419751942158, 0.008591167628765106, 0.004154587630182505, 0.004710771143436432, 0.9718770384788513]], [[0.06202835962176323, 0.03091568872332573, 0.016945235431194305, 0.010438596829771996, 0.879672110080719], [0.07054068148136139, 0.06000280752778053, 0.028650496155023575, 0.02720007859170437, 0.8136059045791626], [0.03491387516260147, 0.024921894073486328, 0.022078225389122963, 0.02190517820417881, 0.8961808085441589], [0.03728676587343216, 0.024038264527916908, 0.017125796526670456, 0.048606328666210175, 0.8729428648948669], [0.16970089077949524, 0.06614388525485992, 0.08499805629253387, 0.314809113740921, 0.36434808373451233]], [[0.010701712220907211, 0.0025957338511943817, 0.002948409179225564, 0.004592085722833872, 0.9791620969772339], [0.022109247744083405, 0.01005857065320015, 0.020918047055602074, 0.00685069989413023, 0.9400634169578552], [0.005762901622802019, 0.002711352426558733, 0.011486377567052841, 0.002907761139795184, 0.9771315455436707], [0.00825164932757616, 0.0036633501295000315, 0.021369120106101036, 0.012800641357898712, 0.9539151787757874], [0.006355137098580599, 0.0012012678198516369, 0.002234942978248, 0.0012085916241630912, 0.989000141620636]], [[0.059840016067028046, 0.022895846515893936, 0.05445781350135803, 0.1656571924686432, 0.6971492171287537], [0.03226768597960472, 0.04743032529950142, 0.022150233387947083, 0.043548598885536194, 0.854603111743927], [0.005916951224207878, 0.41998904943466187, 0.026737850159406662, 0.001960395136848092, 0.5453956723213196], [0.004824329167604446, 0.017561420798301697, 0.6557866334915161, 0.013772153295576572, 0.30805546045303345], [0.10837545245885849, 0.07261215895414352, 0.03461461886763573, 0.08635549247264862, 0.6980422735214233]], [[0.03466711565852165, 0.02544957585632801, 0.014624171890318394, 0.019809916615486145, 0.9054491519927979], [0.030487636104226112, 0.021656515076756477, 0.01564844325184822, 0.026018816977739334, 0.9061886072158813], [0.012434964999556541, 0.015494303777813911, 0.01030082069337368, 0.014299554750323296, 0.9474703669548035], [0.011075528338551521, 0.021674875169992447, 0.012347498908638954, 0.02154531702399254, 0.9333568215370178], [0.08153118938207626, 0.03341042250394821, 0.016315633431077003, 0.02977244183421135, 0.8389703035354614]], [[0.028016412630677223, 0.013158616609871387, 0.021658534184098244, 0.013383367098867893, 0.9237830638885498], [0.007124491035938263, 0.012842882424592972, 0.061967816203832626, 0.02800094708800316, 0.8900638818740845], [0.006198831368237734, 0.008552809245884418, 0.0499408133327961, 0.04837257042527199, 0.8869349956512451], [0.015627851709723473, 0.01681746169924736, 0.07676579058170319, 0.03577196225523949, 0.8550169467926025], [0.005131908226758242, 0.0017719526076689363, 0.0035244340542703867, 0.0038707542698830366, 0.9857009649276733]], [[0.01044590026140213, 0.0015282871900126338, 0.0015163123607635498, 0.005297290161252022, 0.9812121987342834], [0.0005431487807072699, 0.004101683385670185, 0.002115285722538829, 0.00019351000082679093, 0.9930463433265686], [0.0001551744353491813, 0.0004938905476592481, 0.002052952302619815, 7.57518719183281e-05, 0.9972221851348877], [0.000574753968976438, 0.00018476088007446378, 0.0005975381354801357, 0.0037626412231475115, 0.9948803186416626], [0.0004095078620593995, 0.00018816567899193615, 0.00022398588771466166, 4.465028177946806e-05, 0.9991337656974792]], [[0.023155413568019867, 0.030041400343179703, 0.008018282242119312, 0.015967683866620064, 0.9228172302246094], [0.013628321699798107, 0.035908859223127365, 0.007841166108846664, 0.007800410035997629, 0.9348212480545044], [0.011373245157301426, 0.072001151740551, 0.013120658695697784, 0.013647588901221752, 0.8898573517799377], [0.015939118340611458, 0.07723827660083771, 0.018751930445432663, 0.04763093218207359, 0.8404397368431091], [0.023807836696505547, 0.019512195140123367, 0.005248871631920338, 0.005338555201888084, 0.9460925459861755]]], [[[0.09492474049329758, 0.04641919210553169, 0.029057065024971962, 0.048460278660058975, 0.7811387181282043], [0.02667037397623062, 0.05172780901193619, 0.03386889770627022, 0.026067571714520454, 0.8616653680801392], [0.024241385981440544, 0.021983539685606956, 0.03929465636610985, 0.029583226889371872, 0.8848972320556641], [0.016768980771303177, 0.016447432339191437, 0.015538262203335762, 0.035781655460596085, 0.9154636859893799], [0.15833468735218048, 0.20823010802268982, 0.17218054831027985, 0.10681406408548355, 0.3544405698776245]], [[0.0797848328948021, 0.047326669096946716, 0.05594649910926819, 0.1758679896593094, 0.641074001789093], [0.030315663665533066, 0.0934431329369545, 0.24650204181671143, 0.184423565864563, 0.44531551003456116], [0.03502366691827774, 0.05473265051841736, 0.20078210532665253, 0.19567625224590302, 0.5137853026390076], [0.011690041981637478, 0.04175141453742981, 0.07713890820741653, 0.22852638363838196, 0.640893280506134], [0.20046965777873993, 0.2182854413986206, 0.21250127255916595, 0.20189082622528076, 0.1668528914451599]], [[0.061102624982595444, 0.022219447419047356, 0.009776384569704533, 0.0376715324819088, 0.8692299723625183], [0.01936277002096176, 0.18746019899845123, 0.04504045844078064, 0.03900712728500366, 0.7091293931007385], [0.0045164236798882484, 0.05566369742155075, 0.11802178621292114, 0.013468649238348007, 0.8083294034004211], [0.008678125217556953, 0.02875729650259018, 0.011995021253824234, 0.0694640502333641, 0.8811054825782776], [0.09648413956165314, 0.16509613394737244, 0.18677851557731628, 0.15411119163036346, 0.39753007888793945]], [[0.03559636324644089, 0.0569152869284153, 0.04890036582946777, 0.03036661073565483, 0.8282213807106018], [0.012620441615581512, 0.07789157330989838, 0.05456894263625145, 0.023895535618066788, 0.8310235142707825], [0.017470987513661385, 0.1585628092288971, 0.1569054126739502, 0.07384958118200302, 0.5932112336158752], [0.019315414130687714, 0.13275013864040375, 0.10900279879570007, 0.08960908651351929, 0.6493226289749146], [0.18809722363948822, 0.172707200050354, 0.18736790120601654, 0.1699284315109253, 0.2818993031978607]], [[0.1237969920039177, 0.10113062709569931, 0.07324209809303284, 0.020824741572141647, 0.6810055375099182], [0.034738849848508835, 0.06366414576768875, 0.038814108818769455, 0.01670544594526291, 0.8460775017738342], [0.03276830539107323, 0.0633864477276802, 0.043589282780885696, 0.02033565379679203, 0.8399202823638916], [0.047767698764801025, 0.03695094212889671, 0.04322552680969238, 0.03011355921626091, 0.841942310333252], [0.20371665060520172, 0.19450050592422485, 0.20008745789527893, 0.1733756959438324, 0.22831974923610687]], [[0.08110985904932022, 0.11998683214187622, 0.10564736276865005, 0.0598292201757431, 0.6334267258644104], [0.015357042662799358, 0.047166261821985245, 0.8138546943664551, 0.03859638050198555, 0.08502558618783951], [0.038472674787044525, 0.017140092328190804, 0.22008661925792694, 0.651364803314209, 0.07293586432933807], [0.04353245720267296, 0.1432705670595169, 0.03827429935336113, 0.0409904345870018, 0.7339322566986084], [0.2693784832954407, 0.21273371577262878, 0.23968733847141266, 0.16748172044754028, 0.11071871966123581]], [[0.021402748301625252, 0.013162648305296898, 0.004448441322892904, 0.014284050092101097, 0.9467021226882935], [0.01062893308699131, 0.15446192026138306, 0.02588019147515297, 0.01974508725106716, 0.789283812046051], [0.0039985887706279755, 0.06469965726137161, 0.1747983992099762, 0.026504578068852425, 0.729998767375946], [0.0077119264751672745, 0.035213667899370193, 0.011836805380880833, 0.2748984396457672, 0.6703392267227173], [0.18552201986312866, 0.1659782975912094, 0.1343003809452057, 0.21893174946308136, 0.2952675521373749]], [[0.027653420343995094, 0.016713077202439308, 0.006602885667234659, 0.012659230269491673, 0.9363714456558228], [0.0037287476006895304, 0.21648824214935303, 0.02213582769036293, 0.001948228687979281, 0.7556989192962646], [0.0013535496545955539, 0.0796811580657959, 0.09130703657865524, 0.0012195168528705835, 0.8264387845993042], [0.0037010591477155685, 0.026402605697512627, 0.010181966237723827, 0.016385622322559357, 0.9433286786079407], [0.09630291908979416, 0.2661939859390259, 0.20942385494709015, 0.1536460816860199, 0.2744331955909729]], [[0.09218690544366837, 0.03769531100988388, 0.0667933002114296, 0.04359005019068718, 0.7597344517707825], [0.11080773174762726, 0.12629340589046478, 0.08779258280992508, 0.04334772750735283, 0.6317585706710815], [0.07977432012557983, 0.5111798644065857, 0.2139987349510193, 0.021796392276883125, 0.17325064539909363], [0.043059930205345154, 0.07055355608463287, 0.6217604279518127, 0.031009700149297714, 0.23361632227897644], [0.27092912793159485, 0.17741148173809052, 0.24459552764892578, 0.19213922321796417, 0.11492466181516647]], [[0.09663214534521103, 0.10699301958084106, 0.025541070848703384, 0.07439631968736649, 0.6964374780654907], [0.025441445410251617, 0.13329008221626282, 0.04026997461915016, 0.024609293788671494, 0.7763892412185669], [0.03832385689020157, 0.03411988168954849, 0.07623326033353806, 0.05733684450387955, 0.7939861416816711], [0.039280179888010025, 0.05381385609507561, 0.02605537325143814, 0.06830807775259018, 0.8125425577163696], [0.1685861051082611, 0.21103252470493317, 0.24118781089782715, 0.12422128766775131, 0.254972368478775]], [[0.11521138995885849, 0.017303315922617912, 0.006478275638073683, 0.013595815747976303, 0.8474111557006836], [0.08698244392871857, 0.1076720729470253, 0.019803117960691452, 0.022374315187335014, 0.7631680965423584], [0.03238501399755478, 0.042936258018016815, 0.16292977333068848, 0.029156431555747986, 0.7325925230979919], [0.05048435553908348, 0.024298321455717087, 0.014013629406690598, 0.051132820546627045, 0.8600708246231079], [0.2917664647102356, 0.17535917460918427, 0.17633993923664093, 0.20257627964019775, 0.15395808219909668]], [[0.07816152274608612, 0.0707668736577034, 0.04016851633787155, 0.04425554350018501, 0.7666475176811218], [0.021063227206468582, 0.030272940173745155, 0.020938308909535408, 0.011538570746779442, 0.9161869883537292], [0.03641226142644882, 0.06585924327373505, 0.07630100101232529, 0.0707215890288353, 0.7507058382034302], [0.019034534692764282, 0.06053030490875244, 0.034617651253938675, 0.035358771681785583, 0.8504587411880493], [0.19902479648590088, 0.1796201914548874, 0.22562459111213684, 0.1444154679775238, 0.2513149678707123]]]], \"left_text\": [\"[CLS]\", \"Vertrags\", \"##gegen\", \"##stand\", \"[SEP]\"], \"right_text\": [\"[CLS]\", \"Vertrags\", \"##gegen\", \"##stand\", \"[SEP]\"]}], \"default_filter\": \"0\", \"root_div_id\": \"bertviz-766287b89f544b2bab3e3990ee14f04d\", \"layer\": null, \"heads\": null, \"include_layers\": [0, 1, 2, 3, 4, 5, 6, 7, 8, 9, 10, 11]}; // HACK: {\"attention\": [{\"name\": null, \"attn\": [[[[0.20033402740955353, 0.22415542602539062, 0.23659966886043549, 0.10084076970815659, 0.2380700558423996], [0.048821356147527695, 0.2851288914680481, 0.1402393877506256, 0.16294002532958984, 0.36287033557891846], [0.04237215965986252, 0.05445432662963867, 0.09696578234434128, 0.09130317717790604, 0.7149044871330261], [0.06368793547153473, 0.24429962038993835, 0.16959214210510254, 0.07104285806417465, 0.45137736201286316], [0.12687458097934723, 0.08275990933179855, 0.08441004902124405, 0.046056825667619705, 0.6598986387252808]], [[0.05660392343997955, 0.000961148296482861, 0.004205470439046621, 0.0011069407919421792, 0.9371225237846375], [0.028979051858186722, 0.07060424238443375, 0.11879508197307587, 0.07338748872280121, 0.7082341909408569], [0.03720128908753395, 0.14481642842292786, 0.01844112202525139, 0.0655825212597847, 0.7339586615562439], [0.007790260948240757, 0.49901720881462097, 0.40839990973472595, 0.032529838383197784, 0.05226273834705353], [0.35012513399124146, 0.08412749320268631, 0.08180136233568192, 0.08531766384840012, 0.398628294467926]], [[0.5285573601722717, 0.05478120222687721, 0.27394676208496094, 0.04241035878658295, 0.10030430555343628], [0.05309964343905449, 0.34108227491378784, 0.17216520011425018, 0.2334582805633545, 0.20019462704658508], [0.15498292446136475, 0.19677826762199402, 0.3948887288570404, 0.13176552951335907, 0.12158450484275818], [0.1321474313735962, 0.2653461694717407, 0.4084288775920868, 0.057049285620450974, 0.13702821731567383], [0.48836639523506165, 0.07985281199216843, 0.2296590507030487, 0.0781356617808342, 0.12398609519004822]], [[0.13260073959827423, 0.09868186712265015, 0.11859452724456787, 0.1542697250843048, 0.49585312604904175], [0.25769588351249695, 0.17897987365722656, 0.07879424095153809, 0.22076109051704407, 0.2637689709663391], [0.3389459252357483, 0.1862391084432602, 0.17716507613658905, 0.08082839101552963, 0.21682150661945343], [0.16265305876731873, 0.10138176381587982, 0.39278608560562134, 0.07145213335752487, 0.2717270255088806], [0.277469664812088, 0.15929482877254486, 0.19323383271694183, 0.1414443999528885, 0.2285573035478592]], [[0.9090253710746765, 0.014007815159857273, 0.00835472159087658, 0.03682293742895126, 0.03178924322128296], [0.001923372852616012, 0.4435660243034363, 0.15452314913272858, 0.21337294578552246, 0.18661455810070038], [0.03378724306821823, 0.20987024903297424, 0.09262578189373016, 0.1387607604265213, 0.5249559283256531], [0.013400562107563019, 0.41238707304000854, 0.3887980878353119, 0.06449427455663681, 0.12091995775699615], [0.0394182987511158, 0.3741954565048218, 0.15481548011302948, 0.22759132087230682, 0.2039794921875]], [[0.4881703555583954, 0.050287533551454544, 0.07488376647233963, 0.18045395612716675, 0.20620429515838623], [0.6302138566970825, 0.05074844881892204, 0.1940174102783203, 0.04794089123606682, 0.07707945257425308], [0.4979797899723053, 0.20715558528900146, 0.11807189881801605, 0.08399219065904617, 0.09280049800872803], [0.5266241431236267, 0.1963041126728058, 0.09864278882741928, 0.05295784771442413, 0.1254710853099823], [0.32726389169692993, 0.1680247187614441, 0.17745687067508698, 0.17817308008670807, 0.14908146858215332]], [[0.04631877318024635, 0.22913959622383118, 0.16499505937099457, 0.20051226019859314, 0.35903429985046387], [0.2039114236831665, 0.013920740224421024, 0.06397834420204163, 0.05902014300227165, 0.6591693758964539], [0.4738381505012512, 0.1519632786512375, 0.04841186851263046, 0.07280999422073364, 0.2529766857624054], [0.18683093786239624, 0.19843025505542755, 0.20267941057682037, 0.06664765626192093, 0.3454117178916931], [0.25499892234802246, 0.09610144048929214, 0.13058504462242126, 0.19039787352085114, 0.32791668176651]], [[0.3817126154899597, 0.1110314279794693, 0.2557126581668854, 0.1816101372241974, 0.0699331983923912], [0.3606102764606476, 0.11407830566167831, 0.079832062125206, 0.32042592763900757, 0.12505337595939636], [0.11090593039989471, 0.07345002889633179, 0.025792594999074936, 0.14551854133605957, 0.6443328261375427], [0.18235410749912262, 0.12901189923286438, 0.12673211097717285, 0.18198996782302856, 0.3799118101596832], [0.2744516432285309, 0.20276027917861938, 0.11320760101079941, 0.25686269998550415, 0.15271787345409393]], [[0.30552756786346436, 0.0730469822883606, 0.16088150441646576, 0.14218175411224365, 0.31836214661598206], [0.10773426294326782, 0.6085739135742188, 0.029598163440823555, 0.0560184121131897, 0.19807523488998413], [0.2634781002998352, 0.0395071879029274, 0.48771652579307556, 0.14127257466316223, 0.06802575290203094], [0.10951054841279984, 0.08752687275409698, 0.1680677980184555, 0.5940568447113037, 0.04083796218037605], [0.4178529977798462, 0.10465853661298752, 0.1151316910982132, 0.17610841989517212, 0.18624843657016754]], [[0.5608561635017395, 0.026986204087734222, 0.1856052130460739, 0.06676557660102844, 0.15978682041168213], [0.2118770182132721, 0.7357781529426575, 0.007888264954090118, 0.020199093967676163, 0.024257486686110497], [0.03333320841193199, 0.012420679442584515, 0.8369411826133728, 0.0962519720196724, 0.021053027361631393], [0.017537901178002357, 0.09183315187692642, 0.3324999511241913, 0.5125963091850281, 0.045532722026109695], [0.2343003749847412, 0.08898811042308807, 0.3695971965789795, 0.08554492145776749, 0.2215694636106491]], [[0.010870330967009068, 0.04527542367577553, 0.20278532803058624, 0.10756562650203705, 0.633503258228302], [0.0016732263611629605, 0.028092939406633377, 0.3836970627307892, 0.47546088695526123, 0.11107587814331055], [0.0005073694046586752, 0.08833322674036026, 0.013559251092374325, 0.6907838582992554, 0.2068161964416504], [0.0006218983908183873, 0.3189970552921295, 0.21240103244781494, 0.029322564601898193, 0.43865740299224854], [0.0006823889561928809, 0.07079163193702698, 0.1429443359375, 0.393989622592926, 0.39159202575683594]], [[0.01978253200650215, 0.03591267764568329, 0.009653941728174686, 0.012105650268495083, 0.9225452542304993], [0.06641683727502823, 0.192485049366951, 0.12006579339504242, 0.32712751626968384, 0.2939048409461975], [0.02864738740026951, 0.11288651823997498, 0.13625144958496094, 0.25570768117904663, 0.4665069580078125], [0.2558208107948303, 0.15038961172103882, 0.14271794259548187, 0.14902867376804352, 0.30204299092292786], [0.5399594902992249, 0.03898061439394951, 0.07238579541444778, 0.027134651318192482, 0.3215394914150238]]], [[[0.8813536167144775, 0.0074822441674768925, 0.00942705012857914, 0.0025335627142339945, 0.09920364618301392], [0.48767200112342834, 0.014471842907369137, 0.013155009597539902, 0.0046799746342003345, 0.4800211787223816], [0.8325636386871338, 0.004464810248464346, 0.005202832631766796, 0.0034478488378226757, 0.15432092547416687], [0.6384302973747253, 0.0038075032643973827, 0.01115378551185131, 0.002050835872069001, 0.34455761313438416], [0.7972720861434937, 0.005305850878357887, 0.006896386854350567, 0.0027722090017050505, 0.18775352835655212]], [[0.6174743175506592, 0.07448465377092361, 0.054805319756269455, 0.07517839223146439, 0.17805734276771545], [0.38186678290367126, 0.06761282682418823, 0.06887449324131012, 0.20731569826602936, 0.2743302881717682], [0.5000680088996887, 0.08735285699367523, 0.08539073169231415, 0.11344416439533234, 0.21374432742595673], [0.7877784371376038, 0.0693795308470726, 0.05222222954034805, 0.009302356280386448, 0.0813174620270729], [0.3221971392631531, 0.05944330617785454, 0.0927356630563736, 0.06629970669746399, 0.4593241810798645]], [[0.39563992619514465, 0.18937011063098907, 0.07437483221292496, 0.12188491225242615, 0.2187301516532898], [0.09020169079303741, 0.09716763347387314, 0.6913130283355713, 0.10187390446662903, 0.01944367028772831], [0.024163926020264626, 0.090940460562706, 0.0015497192507609725, 0.872725784778595, 0.010620104148983955], [0.12799395620822906, 0.2793178856372833, 0.41700801253318787, 0.016093017533421516, 0.15958718955516815], [0.48082712292671204, 0.090756356716156, 0.17092537879943848, 0.04668688401579857, 0.21080425381660461]], [[0.6146873831748962, 0.02435004711151123, 0.05253821238875389, 0.020309478044509888, 0.2881149351596832], [0.6208339929580688, 0.1688968986272812, 0.009590712375938892, 0.0032127085141837597, 0.1974657028913498], [0.6379490494728088, 0.0004659962432924658, 0.26674190163612366, 0.002817317144945264, 0.09202569723129272], [0.7517682909965515, 0.0004533908795565367, 0.018683278933167458, 0.12517133355140686, 0.1039237529039383], [0.6675605177879333, 0.01999758556485176, 0.0541781447827816, 0.012394248507916927, 0.24586951732635498]], [[0.2947629988193512, 0.18206287920475006, 0.11078831553459167, 0.11117983609437943, 0.3012060225009918], [0.5923812985420227, 0.019502220675349236, 0.05727824941277504, 0.07239780575037003, 0.25844040513038635], [0.8303062915802002, 0.02894476428627968, 0.005062812007963657, 0.007511464413255453, 0.12817449867725372], [0.6757870316505432, 0.046163901686668396, 0.024155357852578163, 0.017681017518043518, 0.23621270060539246], [0.5089644193649292, 0.12865124642848969, 0.08210398256778717, 0.07238414883613586, 0.20789611339569092]], [[0.8088055849075317, 0.06911992281675339, 0.04130364954471588, 0.02960001677274704, 0.05117078870534897], [0.6624017357826233, 0.11407908797264099, 0.06895706057548523, 0.07597910612821579, 0.07858308404684067], [0.16053837537765503, 0.6044005155563354, 0.07738860696554184, 0.025636618956923485, 0.13203586637973785], [0.06593229621648788, 0.24286524951457977, 0.5794079899787903, 0.050951045006513596, 0.06084342673420906], [0.5499628186225891, 0.07940299063920975, 0.04239754006266594, 0.19898653030395508, 0.12925001978874207]], [[0.594455897808075, 0.05062999576330185, 0.07687290012836456, 0.08158566802740097, 0.19645553827285767], [0.30625972151756287, 0.15378344058990479, 0.02520645409822464, 0.044881850481033325, 0.469868540763855], [0.5798007845878601, 0.013242164626717567, 0.060134269297122955, 0.05110259726643562, 0.29572010040283203], [0.5644106268882751, 0.014113878831267357, 0.1165030226111412, 0.034036312252283096, 0.27093619108200073], [0.4732184410095215, 0.0857568308711052, 0.26106497645378113, 0.08421558141708374, 0.09574424475431442]], [[0.5448144674301147, 0.08329195529222488, 0.0502743273973465, 0.041751231998205185, 0.2798680067062378], [0.43417876958847046, 0.026186702772974968, 0.10991326719522476, 0.041854821145534515, 0.38786640763282776], [0.6621044874191284, 0.013754545710980892, 0.002192241605371237, 0.005466971546411514, 0.3164817690849304], [0.7447527050971985, 0.015352257527410984, 0.005245234351605177, 0.0029208771884441376, 0.2317289113998413], [0.5232503414154053, 0.05559970811009407, 0.08576902747154236, 0.03882716968655586, 0.2965536415576935]], [[0.828091561794281, 0.011621118523180485, 0.017214279621839523, 0.011110675521194935, 0.131962388753891], [0.36678290367126465, 0.28131192922592163, 0.11608163267374039, 0.07499201595783234, 0.1608315259218216], [0.62301105260849, 0.015250992961227894, 0.01009451225399971, 0.010229576379060745, 0.3414139449596405], [0.6822749376296997, 0.022030752152204514, 0.016099516302347183, 0.005758303217589855, 0.27383652329444885], [0.806358814239502, 0.017931822687387466, 0.013153161853551865, 0.002557930536568165, 0.1599983125925064]], [[0.5465789437294006, 0.03881481662392616, 0.04705733433365822, 0.022685052827000618, 0.3448638916015625], [0.1354573518037796, 0.08546571433544159, 0.046591248363256454, 0.04468259587883949, 0.6878030300140381], [0.13774196803569794, 0.03761840984225273, 0.024475330486893654, 0.016833467409014702, 0.7833308577537537], [0.07462707906961441, 0.04564844071865082, 0.017274271696805954, 0.013966856524348259, 0.8484833836555481], [0.16974301636219025, 0.023517675697803497, 0.00617174943909049, 0.005091275554150343, 0.7954762578010559]], [[0.5228658318519592, 0.13780410587787628, 0.06697455048561096, 0.09168511629104614, 0.18067048490047455], [0.470615953207016, 0.01890822872519493, 0.013740234076976776, 0.1536068320274353, 0.3431287705898285], [0.6050665974617004, 0.132537841796875, 0.010345162823796272, 0.0872366800904274, 0.16481369733810425], [0.4994688928127289, 0.07696245610713959, 0.00629497179761529, 0.034738462418317795, 0.38253530859947205], [0.4456532597541809, 0.11856051534414291, 0.0656995177268982, 0.0921589806675911, 0.27792781591415405]], [[0.9298426508903503, 0.009026015177369118, 0.007187319453805685, 0.003217333694919944, 0.05072665587067604], [0.49461546540260315, 0.04614347591996193, 0.03130323439836502, 0.032156024128198624, 0.3957817852497101], [0.26928552985191345, 0.0790393128991127, 0.0343349352478981, 0.060551855713129044, 0.5567883849143982], [0.22048035264015198, 0.11352936178445816, 0.08541945368051529, 0.04188023507595062, 0.5386905670166016], [0.7365708351135254, 0.036557745188474655, 0.03782671317458153, 0.02213481441140175, 0.16690999269485474]]], [[[0.683700680732727, 0.10459580272436142, 0.04775672405958176, 0.10012707859277725, 0.0638197734951973], [0.6065866947174072, 0.05752459168434143, 0.07591070979833603, 0.15156909823417664, 0.10840893536806107], [0.31496548652648926, 0.5370588898658752, 0.024110224097967148, 0.04036533087491989, 0.08350009471178055], [0.21336856484413147, 0.29701849818229675, 0.28020477294921875, 0.017609352245926857, 0.19179882109165192], [0.6314188838005066, 0.037297554314136505, 0.04301632195711136, 0.07776086032390594, 0.2105063647031784]], [[0.27470141649246216, 0.07072672247886658, 0.06449948996305466, 0.0283381175249815, 0.5617343187332153], [0.07597356289625168, 0.7405269742012024, 0.003268258646130562, 0.0010089444695040584, 0.17922231554985046], [0.09844442456960678, 0.005916985683143139, 0.4255687892436981, 0.03762701898813248, 0.43244287371635437], [0.1499718874692917, 0.005083191674202681, 0.08141480386257172, 0.40147653222084045, 0.3620535731315613], [0.4661186635494232, 0.11773660778999329, 0.07844840735197067, 0.04412578046321869, 0.2935706079006195]], [[0.4741872251033783, 0.04877878725528717, 0.05380123481154442, 0.03442436829209328, 0.38880836963653564], [0.16623550653457642, 0.1549837440252304, 0.018568137660622597, 0.007324272766709328, 0.6528884172439575], [0.2639908492565155, 0.26271408796310425, 0.050300367176532745, 0.01441467460244894, 0.4085799753665924], [0.1807374656200409, 0.09442085027694702, 0.05070829391479492, 0.006499493960291147, 0.6676339507102966], [0.51253342628479, 0.0909787267446518, 0.06935454905033112, 0.11778426915407181, 0.209349125623703]], [[0.6167882084846497, 0.032179947942495346, 0.03761746734380722, 0.02459769695997238, 0.28881675004959106], [0.23635731637477875, 0.01043119840323925, 0.01333586685359478, 0.005935081280767918, 0.7339405417442322], [0.3325533866882324, 0.006218480411916971, 0.009212804958224297, 0.0025152203161269426, 0.6495000720024109], [0.2899068593978882, 0.010228382423520088, 0.014549480751156807, 0.003746490925550461, 0.6815687417984009], [0.7771396636962891, 0.021509259939193726, 0.02681906521320343, 0.01676219329237938, 0.15776975452899933]], [[0.2452712059020996, 0.08785371482372284, 0.2314656376838684, 0.1437525451183319, 0.2916569411754608], [0.0005825640982948244, 0.9988011121749878, 0.00018899257702287287, 4.5064287405693904e-05, 0.0003823519218713045], [0.00044060847721993923, 0.0002546278410591185, 0.9838137626647949, 0.01510029286146164, 0.0003908333310391754], [0.0002639241865836084, 3.584755177143961e-05, 0.024256953969597816, 0.9751590490341187, 0.0002841851382981986], [0.2983110845088959, 0.0852106362581253, 0.12620329856872559, 0.16512028872966766, 0.32515472173690796]], [[0.17420542240142822, 0.14679767191410065, 0.05328724533319473, 0.056641835719347, 0.5690677762031555], [0.5325538516044617, 0.045235563069581985, 0.007202989421784878, 0.008381928317248821, 0.4066257178783417], [0.630713939666748, 0.04287782683968544, 0.005182607099413872, 0.004494538996368647, 0.31673097610473633], [0.562288224697113, 0.07292181998491287, 0.014289983548223972, 0.010224742814898491, 0.3402751386165619], [0.1792985051870346, 0.15965057909488678, 0.08696926385164261, 0.11462558060884476, 0.45945605635643005]], [[0.6127453446388245, 0.03221882879734039, 0.017093705013394356, 0.035684630274772644, 0.3022575080394745], [0.5469517707824707, 0.03770339861512184, 0.06257282942533493, 0.1324678361415863, 0.2203042060136795], [0.4888415038585663, 0.05885858088731766, 0.0571117103099823, 0.12214593589305878, 0.2730422616004944], [0.08037951588630676, 0.04328153282403946, 0.780698299407959, 0.009961561299860477, 0.08567900955677032], [0.4427673816680908, 0.015121045522391796, 0.01943003386259079, 0.03477829694747925, 0.4879032373428345]], [[0.6067851185798645, 0.014150344766676426, 0.011004965752363205, 0.006468270905315876, 0.36159130930900574], [0.2031509131193161, 0.06712701171636581, 0.015665672719478607, 0.019664019346237183, 0.6943923234939575], [0.46140891313552856, 0.0632113590836525, 0.03181598335504532, 0.0232688058167696, 0.42029494047164917], [0.34977978467941284, 0.02046862617135048, 0.045679718255996704, 0.021468760445713997, 0.5626031160354614], [0.6929830312728882, 0.030830981209874153, 0.016927331686019897, 0.012769953347742558, 0.24648866057395935]], [[0.5420606136322021, 0.03474319726228714, 0.0379418283700943, 0.01884296163916588, 0.3664114773273468], [0.3501262068748474, 0.031081845983862877, 0.09716709703207016, 0.06877295672893524, 0.45285192131996155], [0.4493291676044464, 0.04612310975790024, 0.03562406077980995, 0.0556517019867897, 0.413271963596344], [0.63105708360672, 0.03611929714679718, 0.040475033223629, 0.005261261947453022, 0.28708726167678833], [0.45893824100494385, 0.08429450541734695, 0.02636825665831566, 0.029410235583782196, 0.40098869800567627]], [[0.39952871203422546, 0.14340625703334808, 0.048072781413793564, 0.06792044639587402, 0.3410717844963074], [0.3249068856239319, 0.016740502789616585, 0.6252867579460144, 0.01350843533873558, 0.019557511433959007], [0.15861013531684875, 0.662784218788147, 0.03429607301950455, 0.057799406349658966, 0.08651020377874374], [0.022993192076683044, 0.007403036113828421, 0.9554433226585388, 0.0034400876611471176, 0.01072036474943161], [0.30328822135925293, 0.01770254224538803, 0.0188943762332201, 0.4079916477203369, 0.2521231770515442]], [[0.6448830962181091, 0.057243235409259796, 0.046366918832063675, 0.044256825000047684, 0.20724989473819733], [0.3656686246395111, 0.1298201084136963, 0.23985826969146729, 0.14569522440433502, 0.1189577504992485], [0.6367985606193542, 0.030758287757635117, 0.03470020368695259, 0.01602751389145851, 0.28171539306640625], [0.6556373238563538, 0.05696699768304825, 0.07112916558980942, 0.018222058191895485, 0.19804447889328003], [0.6899532675743103, 0.043419793248176575, 0.027618693187832832, 0.011837189085781574, 0.22717109322547913]], [[0.23180189728736877, 0.09605338424444199, 0.07533024996519089, 0.04048970341682434, 0.5563247799873352], [0.5343493223190308, 0.05835050716996193, 0.13823246955871582, 0.11411690711975098, 0.1549508273601532], [0.5995711088180542, 0.08766065537929535, 0.03067203052341938, 0.043574489653110504, 0.23852162063121796], [0.3422839045524597, 0.16613388061523438, 0.12175001204013824, 0.06395379453897476, 0.3058783710002899], [0.42266416549682617, 0.16139952838420868, 0.06997894495725632, 0.08631805330514908, 0.25963926315307617]]], [[[0.1698027104139328, 0.30817949771881104, 0.25171661376953125, 0.14479929208755493, 0.12550179660320282], [0.23020121455192566, 0.15386462211608887, 0.2955816686153412, 0.12425041943788528, 0.1961020976305008], [0.16590280830860138, 0.33356744050979614, 0.12736129760742188, 0.1957501918077469, 0.17741823196411133], [0.2698296904563904, 0.2368708997964859, 0.21038641035556793, 0.05329205468297005, 0.22962087392807007], [0.29965999722480774, 0.13133551180362701, 0.13307201862335205, 0.11899038404226303, 0.31694215536117554]], [[0.2521023154258728, 0.3099691569805145, 0.19421903789043427, 0.09411302953958511, 0.14959649741649628], [0.23582333326339722, 0.20014719665050507, 0.05083983764052391, 0.05435776337981224, 0.45883190631866455], [0.24181795120239258, 0.3615940809249878, 0.03131633251905441, 0.04755689948797226, 0.31771475076675415], [0.28723689913749695, 0.14678074419498444, 0.052399199455976486, 0.06885416805744171, 0.44472894072532654], [0.2867228090763092, 0.27600333094596863, 0.13276290893554688, 0.07976797223091125, 0.22474290430545807]], [[0.19629158079624176, 0.24425986409187317, 0.07584387063980103, 0.14442090690135956, 0.3391837477684021], [0.09499186277389526, 0.39862459897994995, 0.08979188650846481, 0.2499421238899231, 0.16664950549602509], [0.24833160638809204, 0.17823991179466248, 0.1608940213918686, 0.17329388856887817, 0.23924057185649872], [0.1299634873867035, 0.22935526072978973, 0.1472972333431244, 0.34336161613464355, 0.15002235770225525], [0.2661969065666199, 0.05786795914173126, 0.06619451195001602, 0.052810464054346085, 0.5569301843643188]], [[0.41614630818367004, 0.15257033705711365, 0.06180994212627411, 0.05196986719965935, 0.31750357151031494], [0.3366340696811676, 0.2176579087972641, 0.037873491644859314, 0.017510198056697845, 0.3903243839740753], [0.5003055930137634, 0.054270558059215546, 0.011046293191611767, 0.0035338597372174263, 0.430843710899353], [0.2912805378437042, 0.10265040397644043, 0.029682418331503868, 0.013403849676251411, 0.5629827976226807], [0.43712490797042847, 0.07115137577056885, 0.03944617137312889, 0.02313709631562233, 0.42914053797721863]], [[0.3744659423828125, 0.1760740727186203, 0.06550426036119461, 0.03335345536470413, 0.3506022095680237], [0.5095287561416626, 0.036186251789331436, 0.023598570376634598, 0.004575150553137064, 0.42611125111579895], [0.5114867687225342, 0.017056753858923912, 0.005351238418370485, 0.0015995466383174062, 0.46450573205947876], [0.5564554333686829, 0.012239200063049793, 0.0054747662506997585, 0.0010108411079272628, 0.424819678068161], [0.47610947489738464, 0.06349357217550278, 0.01920466683804989, 0.007326100952923298, 0.4338662624359131]], [[0.4396657943725586, 0.06744778901338577, 0.0217679925262928, 0.029302140697836876, 0.4418162703514099], [0.4915587306022644, 0.2158161699771881, 0.0026563352439552546, 0.009455651976168156, 0.2805131673812866], [0.3269582986831665, 0.009117661975324154, 0.3974449336528778, 0.05364912748336792, 0.21282988786697388], [0.3084440529346466, 0.013296810910105705, 0.06031176075339317, 0.4622105360031128, 0.15573689341545105], [0.5675040483474731, 0.05502288416028023, 0.05266573280096054, 0.04167994484305382, 0.28312742710113525]], [[0.12269885092973709, 0.1811780482530594, 0.06636074930429459, 0.24789832532405853, 0.3818639814853668], [0.8439627885818481, 0.010348300449550152, 0.0049516186118125916, 0.0022239231038838625, 0.13851334154605865], [0.8386590480804443, 0.018587805330753326, 0.001132083823904395, 0.0008220806485041976, 0.1407989114522934], [0.9341326951980591, 0.002730295993387699, 0.0007445683004334569, 9.453123493585736e-05, 0.06229794770479202], [0.269456684589386, 0.09682554751634598, 0.052431173622608185, 0.13268347084522247, 0.448603093624115]], [[0.30386433005332947, 0.06800314038991928, 0.049168407917022705, 0.054787930101156235, 0.5241762399673462], [0.24546435475349426, 0.0157236997038126, 0.011297459714114666, 0.004536806605756283, 0.7229777574539185], [0.5755192041397095, 0.02074139565229416, 0.013255943544209003, 0.0049660238437354565, 0.3855173885822296], [0.34106364846229553, 0.018680116161704063, 0.008059905841946602, 0.0012996087316423655, 0.630896806716919], [0.15652602910995483, 0.15462768077850342, 0.10953076928853989, 0.1734979748725891, 0.40581750869750977]], [[0.29657232761383057, 0.19507107138633728, 0.07973449677228928, 0.055696796625852585, 0.372925341129303], [0.33397799730300903, 0.03636768460273743, 0.08590175211429596, 0.04523523524403572, 0.49851739406585693], [0.34599074721336365, 0.14779327809810638, 0.053937219083309174, 0.03626083582639694, 0.41601788997650146], [0.30103424191474915, 0.16237276792526245, 0.06936533749103546, 0.03050103224813938, 0.4367266595363617], [0.4463141858577728, 0.11017516255378723, 0.10783851146697998, 0.054391048848629, 0.28128108382225037]], [[0.5327977538108826, 0.0762462243437767, 0.04653160274028778, 0.020605649799108505, 0.3238186240196228], [0.5516278743743896, 0.012561116367578506, 0.021697062999010086, 0.006800909526646137, 0.4073130786418915], [0.6654216051101685, 0.022497089579701424, 0.00781050231307745, 0.004924439359456301, 0.29934629797935486], [0.6969268321990967, 0.0031081894412636757, 0.004025690257549286, 0.0006496480782516301, 0.2952895164489746], [0.5281269550323486, 0.0694165751338005, 0.029115986078977585, 0.01944066770374775, 0.3538997769355774]], [[0.38706281781196594, 0.11945020407438278, 0.09447941929101944, 0.04749478027224541, 0.3515127897262573], [0.5587045550346375, 0.026157381013035774, 0.013397104106843472, 0.015039236284792423, 0.3867017328739166], [0.442252516746521, 0.04114442318677902, 0.010369183495640755, 0.021223828196525574, 0.4850099980831146], [0.44664955139160156, 0.04432854801416397, 0.019718481227755547, 0.012974848039448261, 0.4763284921646118], [0.45757824182510376, 0.04915530979633331, 0.02880052663385868, 0.0195132065564394, 0.44495272636413574]], [[0.14899583160877228, 0.1534833312034607, 0.21938379108905792, 0.11091172695159912, 0.3672252893447876], [0.33604323863983154, 0.05886207893490791, 0.08134002238512039, 0.023132555186748505, 0.5006221532821655], [0.39229583740234375, 0.21607333421707153, 0.027105143293738365, 0.014203685335814953, 0.35032206773757935], [0.45969805121421814, 0.07958506047725677, 0.03273410722613335, 0.012371557764708996, 0.4156111776828766], [0.2542257606983185, 0.12533991038799286, 0.21120329201221466, 0.166168674826622, 0.24306227266788483]]], [[[0.39425763487815857, 0.10191729664802551, 0.06333263963460922, 0.06666821241378784, 0.3738241493701935], [0.2871529757976532, 0.05368262529373169, 0.07895802706480026, 0.07915735989809036, 0.5010489821434021], [0.2765357494354248, 0.107485830783844, 0.07211525738239288, 0.0811535194516182, 0.46270960569381714], [0.29921942949295044, 0.0452602319419384, 0.03708074614405632, 0.05617927759885788, 0.5622603297233582], [0.3642846345901489, 0.12500633299350739, 0.0845445841550827, 0.12201616913080215, 0.30414828658103943]], [[0.16255122423171997, 0.10656164586544037, 0.03023257851600647, 0.05754689499735832, 0.6431077122688293], [0.13507099449634552, 0.10235735028982162, 0.053625863045454025, 0.03884012997150421, 0.6701056957244873], [0.1118502989411354, 0.03302932158112526, 0.006952348630875349, 0.0073844678699970245, 0.8407834768295288], [0.1330537647008896, 0.12215938419103622, 0.01655293069779873, 0.03489936143159866, 0.6933345794677734], [0.2236781120300293, 0.09456565231084824, 0.06762687861919403, 0.053249064832925797, 0.5608802437782288]], [[0.24524368345737457, 0.07689585536718369, 0.03694893419742584, 0.03644641488790512, 0.6044651865959167], [0.1409669667482376, 0.009562498889863491, 0.004309625830501318, 0.03562005236744881, 0.809540867805481], [0.13776497542858124, 0.019530069082975388, 0.007974588312208652, 0.1008162721991539, 0.7339140772819519], [0.16886769235134125, 0.018761910498142242, 0.01140246819704771, 0.03438055142760277, 0.7665873765945435], [0.23197758197784424, 0.05383197218179703, 0.05043925344944, 0.1745470017194748, 0.4892042279243469]], [[0.09393652528524399, 0.32569313049316406, 0.15956325829029083, 0.14285853505134583, 0.27794864773750305], [0.15302670001983643, 0.3604416251182556, 0.0682770162820816, 0.09092805534601212, 0.32732659578323364], [0.21334685385227203, 0.37804120779037476, 0.032066915184259415, 0.048714373260736465, 0.32783061265945435], [0.16300751268863678, 0.28674739599227905, 0.05848340317606926, 0.07788708806037903, 0.41387462615966797], [0.16977165639400482, 0.292169988155365, 0.11741665750741959, 0.13567957282066345, 0.28496208786964417]], [[0.18719275295734406, 0.13323800265789032, 0.03224537521600723, 0.023282276466488838, 0.6240416169166565], [0.607863187789917, 0.03559039160609245, 0.007892388850450516, 0.011843344196677208, 0.3368106782436371], [0.8146827816963196, 0.01552580762654543, 0.001720132422633469, 0.002900382736697793, 0.16517075896263123], [0.6603542566299438, 0.005302432458847761, 0.0015740350354462862, 0.0013322599697858095, 0.33143702149391174], [0.34583625197410583, 0.20407122373580933, 0.034394122660160065, 0.08133123815059662, 0.3343672454357147]], [[0.4566151201725006, 0.12525957822799683, 0.020574970170855522, 0.029636666178703308, 0.3679136037826538], [0.6409757137298584, 0.03221426531672478, 0.017276916652917862, 0.02859346941113472, 0.2809396982192993], [0.626414954662323, 0.030257154256105423, 0.013665660284459591, 0.014056549407541752, 0.3156057596206665], [0.6892958879470825, 0.016625545918941498, 0.008182317018508911, 0.015555636025965214, 0.2703407406806946], [0.40112343430519104, 0.19505222141742706, 0.016733963042497635, 0.025447193533182144, 0.3616431653499603]], [[0.29210028052330017, 0.14587442576885223, 0.11871706694364548, 0.04118693247437477, 0.40212127566337585], [0.3805282413959503, 0.04469800367951393, 0.058879077434539795, 0.0441085509955883, 0.47178611159324646], [0.28945392370224, 0.27427196502685547, 0.07162696868181229, 0.059202808886766434, 0.30544430017471313], [0.3176088333129883, 0.09199126064777374, 0.0740637332201004, 0.018236882984638214, 0.4980992376804352], [0.48631608486175537, 0.14145338535308838, 0.06538530439138412, 0.03883291780948639, 0.26801228523254395]], [[0.20455071330070496, 0.2217458188533783, 0.25724396109580994, 0.07061711698770523, 0.24584238231182098], [0.2794278562068939, 0.07840200513601303, 0.2541733980178833, 0.02469213493168354, 0.3633045554161072], [0.2549651563167572, 0.21397274732589722, 0.20292291045188904, 0.026932023465633392, 0.30120718479156494], [0.43870601058006287, 0.07210548222064972, 0.11437126249074936, 0.008160218596458435, 0.366657018661499], [0.27093303203582764, 0.16844435036182404, 0.09108138829469681, 0.07733621448278427, 0.39220502972602844]], [[0.2774896025657654, 0.1683967113494873, 0.08765039592981339, 0.10498297214508057, 0.3614802658557892], [0.3174942135810852, 0.24632270634174347, 0.01356934942305088, 0.014905409887433052, 0.4077083468437195], [0.40417128801345825, 0.09526072442531586, 0.049697209149599075, 0.03954913094639778, 0.41132161021232605], [0.3031839430332184, 0.2391083836555481, 0.02553943730890751, 0.03954904153943062, 0.39261913299560547], [0.30666297674179077, 0.04307907074689865, 0.02034618891775608, 0.006634927354753017, 0.6232768297195435]], [[0.19347672164440155, 0.13532112538814545, 0.18120266497135162, 0.09547486901283264, 0.39452457427978516], [0.35114121437072754, 0.08467009663581848, 0.11383087933063507, 0.12381725013256073, 0.32654058933258057], [0.4223743975162506, 0.031089790165424347, 0.043363939970731735, 0.02881813608109951, 0.47435373067855835], [0.32907578349113464, 0.0779079794883728, 0.111698217689991, 0.14556758105754852, 0.33575043082237244], [0.40025976300239563, 0.06334412842988968, 0.025551123544573784, 0.029721258208155632, 0.4811236262321472]], [[0.1359999179840088, 0.12482938170433044, 0.0808240994811058, 0.07544919848442078, 0.5828973650932312], [0.2642630338668823, 0.14247894287109375, 0.279639333486557, 0.09070897102355957, 0.22290974855422974], [0.314373642206192, 0.1668517291545868, 0.1290951818227768, 0.0980098769068718, 0.2916695475578308], [0.15661773085594177, 0.3161608576774597, 0.3382472097873688, 0.06653591245412827, 0.12243832647800446], [0.23649993538856506, 0.19914443790912628, 0.17370851337909698, 0.1191183403134346, 0.2715287506580353]], [[0.3640117943286896, 0.10904505103826523, 0.2185058295726776, 0.06167590618133545, 0.24676141142845154], [0.30730047821998596, 0.02860141173005104, 0.11021322757005692, 0.05605369433760643, 0.4978311359882355], [0.398424357175827, 0.132571280002594, 0.13112495839595795, 0.05147874727845192, 0.286400705575943], [0.255231648683548, 0.06134242191910744, 0.06673233956098557, 0.04209192469716072, 0.5746017098426819], [0.36721980571746826, 0.15451060235500336, 0.09966057538986206, 0.11942070722579956, 0.25918829441070557]]], [[[0.1677207350730896, 0.1496780514717102, 0.046919409185647964, 0.04293881356716156, 0.5927429795265198], [0.18779505789279938, 0.4347391426563263, 0.1045406237244606, 0.0045499675907194614, 0.26837530732154846], [0.06851107627153397, 0.5998035073280334, 0.1583750694990158, 0.008510763756930828, 0.16479958593845367], [0.014471711590886116, 0.44662925601005554, 0.4563952088356018, 0.055692125111818314, 0.026811687275767326], [0.03375166654586792, 0.08628646284341812, 0.13091841340065002, 0.263155460357666, 0.48588797450065613]], [[0.253292977809906, 0.1490909904241562, 0.06635808944702148, 0.0933724120259285, 0.4378855228424072], [0.21998246014118195, 0.19594942033290863, 0.14640244841575623, 0.1997113972902298, 0.23795416951179504], [0.23787623643875122, 0.2753508388996124, 0.062239523977041245, 0.1546429544687271, 0.2698904275894165], [0.2606621980667114, 0.4051152765750885, 0.06757523864507675, 0.044606901705265045, 0.22204037010669708], [0.3212178647518158, 0.09011249989271164, 0.08029501140117645, 0.0863724946975708, 0.4220021665096283]], [[0.4429328143596649, 0.08710380643606186, 0.0519036166369915, 0.07023979723453522, 0.3478199541568756], [0.45959243178367615, 0.02265346795320511, 0.05683809891343117, 0.12128294259309769, 0.3396329879760742], [0.46268194913864136, 0.019138379022479057, 0.032075028866529465, 0.0621158592402935, 0.42398884892463684], [0.44580018520355225, 0.02438466250896454, 0.0394715815782547, 0.08265331387519836, 0.40769028663635254], [0.2613205909729004, 0.026013925671577454, 0.056490056216716766, 0.1451723277568817, 0.5110030770301819]], [[0.24731476604938507, 0.1410944163799286, 0.052540794014930725, 0.03253057599067688, 0.5265194773674011], [0.22178977727890015, 0.05048980563879013, 0.05966229364275932, 0.05432644113898277, 0.6137317419052124], [0.2179308384656906, 0.09084568172693253, 0.011555361561477184, 0.020481465384364128, 0.659186601638794], [0.20510604977607727, 0.03835948556661606, 0.01876024901866913, 0.012199748307466507, 0.7255744934082031], [0.2571297287940979, 0.05444962903857231, 0.02153755910694599, 0.02849089354276657, 0.6383922100067139]], [[0.2835599184036255, 0.02351774461567402, 0.051508110016584396, 0.025018960237503052, 0.6163952350616455], [0.32279422879219055, 0.014086464419960976, 0.05837222933769226, 0.017055943608283997, 0.587691068649292], [0.3305634558200836, 0.00639298977330327, 0.045552436262369156, 0.009000882506370544, 0.6084902882575989], [0.32168349623680115, 0.013864955864846706, 0.04835622012615204, 0.014770003035664558, 0.601325273513794], [0.2179347723722458, 0.010802729986608028, 0.03770172595977783, 0.032033778727054596, 0.7015269994735718]], [[0.26883095502853394, 0.19606679677963257, 0.1314963847398758, 0.12399441003799438, 0.2796114683151245], [0.215597465634346, 0.10672842711210251, 0.11747144162654877, 0.14406006038188934, 0.41614261269569397], [0.15483175218105316, 0.14109355211257935, 0.2177242487668991, 0.13841816782951355, 0.3479323089122772], [0.21826611459255219, 0.08890484273433685, 0.12266699969768524, 0.09946327656507492, 0.4706987142562866], [0.4504918158054352, 0.10440798103809357, 0.07244948297739029, 0.09350408613681793, 0.27914658188819885]], [[0.224530890583992, 0.15191073715686798, 0.07767730206251144, 0.07551397383213043, 0.47036710381507874], [0.09723469614982605, 0.08516848832368851, 0.2322162389755249, 0.23771202564239502, 0.3476685583591461], [0.083995521068573, 0.046529192477464676, 0.0763608068227768, 0.1589597910642624, 0.634154736995697], [0.039397191256284714, 0.01497313380241394, 0.02664562128484249, 0.06243492662906647, 0.8565491437911987], [0.16633328795433044, 0.04905097186565399, 0.044461533427238464, 0.03839799761772156, 0.7017562389373779]], [[0.25974389910697937, 0.284403532743454, 0.08128654956817627, 0.04505625739693642, 0.3295097351074219], [0.25686362385749817, 0.034783266484737396, 0.09598636627197266, 0.07606787234544754, 0.5362988710403442], [0.28525131940841675, 0.1045258417725563, 0.023892702534794807, 0.03340044617652893, 0.552929699420929], [0.2542424499988556, 0.08775434643030167, 0.03794896602630615, 0.01600010320544243, 0.6040542125701904], [0.30275478959083557, 0.17252060770988464, 0.12930618226528168, 0.06761553138494492, 0.327802836894989]], [[0.39779385924339294, 0.06775478273630142, 0.03364740312099457, 0.03272443264722824, 0.46807950735092163], [0.4089178144931793, 0.01284914929419756, 0.034562017768621445, 0.03662728890776634, 0.5070437788963318], [0.3940443992614746, 0.014850876294076443, 0.032665710896253586, 0.03678179159760475, 0.5216572284698486], [0.37458130717277527, 0.014993328601121902, 0.03521875664591789, 0.025506263598799706, 0.5497003793716431], [0.18665967881679535, 0.08275163918733597, 0.1316879540681839, 0.2007635086774826, 0.3981372117996216]], [[0.20321576297283173, 0.07040432840585709, 0.01587282121181488, 0.03227613866329193, 0.678230881690979], [0.334026038646698, 0.05260678380727768, 0.0365472286939621, 0.03839726001024246, 0.5384227633476257], [0.27827826142311096, 0.10641763359308243, 0.021668950095772743, 0.04473980888724327, 0.5488954186439514], [0.2997766137123108, 0.09316261112689972, 0.0202618595212698, 0.028572138398885727, 0.5582267642021179], [0.34018588066101074, 0.16922467947006226, 0.1098816990852356, 0.1077096238732338, 0.27299806475639343]], [[0.19024145603179932, 0.06835031509399414, 0.048154763877391815, 0.0259572584182024, 0.6672962307929993], [0.22047585248947144, 0.029078301042318344, 0.04668090119957924, 0.025675328448414803, 0.6780896186828613], [0.20454934239387512, 0.036501169204711914, 0.013657210394740105, 0.008336511440575123, 0.7369558215141296], [0.24717852473258972, 0.05970665439963341, 0.027756165713071823, 0.014552420005202293, 0.650806188583374], [0.43660932779312134, 0.031360309571027756, 0.024624725803732872, 0.00974791869521141, 0.4976577162742615]], [[0.08381601423025131, 0.1367945373058319, 0.06412273645401001, 0.06252548843622208, 0.6527412533760071], [0.587098240852356, 0.10818107426166534, 0.07254932820796967, 0.03736838698387146, 0.19480295479297638], [0.6278642416000366, 0.13645200431346893, 0.061725251376628876, 0.04697442054748535, 0.12698404490947723], [0.25395211577415466, 0.1628924310207367, 0.08997398614883423, 0.08985131233930588, 0.40333014726638794], [0.4269914925098419, 0.19867177307605743, 0.09499827772378922, 0.10231011360883713, 0.1770283728837967]]], [[[0.11129887402057648, 0.05855671688914299, 0.04437677189707756, 0.03290962055325508, 0.75285804271698], [0.04745630547404289, 0.02758651413023472, 0.08801116794347763, 0.10014363378286362, 0.7368023991584778], [0.06506028026342392, 0.02834785357117653, 0.052821043878793716, 0.06121545284986496, 0.7925554513931274], [0.04709772765636444, 0.019684288650751114, 0.023270778357982635, 0.02197614125907421, 0.8879711031913757], [0.11275694519281387, 0.039509594440460205, 0.2038656771183014, 0.09239649027585983, 0.5514712333679199]], [[0.20532287657260895, 0.11429489403963089, 0.27327609062194824, 0.09140928834676743, 0.3156968355178833], [0.2216424196958542, 0.47015878558158875, 0.1011429876089096, 0.021877039223909378, 0.1851787269115448], [0.12726113200187683, 0.5139954090118408, 0.1366531401872635, 0.04333893582224846, 0.17875131964683533], [0.05263156071305275, 0.3761446475982666, 0.3466213345527649, 0.056725479662418365, 0.16787691414356232], [0.0690818801522255, 0.21432329714298248, 0.214237779378891, 0.19194437563419342, 0.3104127049446106]], [[0.40638524293899536, 0.15298837423324585, 0.2163173407316208, 0.04171157628297806, 0.18259753286838531], [0.24388113617897034, 0.11152909696102142, 0.13310852646827698, 0.09401080757379532, 0.41747042536735535], [0.19819627702236176, 0.037918757647275925, 0.10379498451948166, 0.0681346133351326, 0.5919553637504578], [0.23874057829380035, 0.05788268521428108, 0.0979205071926117, 0.09294693171977997, 0.512509286403656], [0.3854527473449707, 0.09334061294794083, 0.11045855283737183, 0.07252772897481918, 0.3382202982902527]], [[0.1947672814130783, 0.18329742550849915, 0.07597722858190536, 0.07139892131090164, 0.4745591878890991], [0.282836377620697, 0.015407154336571693, 0.04148693382740021, 0.027558470144867897, 0.6327110528945923], [0.4068257212638855, 0.08176901191473007, 0.014541296288371086, 0.02164541184902191, 0.4752184748649597], [0.31545141339302063, 0.08331015706062317, 0.01392013393342495, 0.023219674825668335, 0.5640985369682312], [0.2967420518398285, 0.10433420538902283, 0.08475188165903091, 0.06926869601011276, 0.444903165102005]], [[0.2578105628490448, 7.489505514968187e-05, 0.0006928943330422044, 0.0016927033429965377, 0.7397289872169495], [2.397640628259978e-07, 0.000745910219848156, 0.9956749081611633, 0.0035789913963526487, 1.4056698027786751e-08], [1.165727007901296e-05, 4.855651241086889e-06, 0.007170951459556818, 0.991951584815979, 0.0008609889773651958], [4.127938609599369e-06, 1.8212376051707224e-11, 1.3528909903470776e-07, 0.00019956800679210573, 0.9997962117195129], [0.0003313629131298512, 1.3305006402175579e-11, 5.285030191259921e-09, 3.973223556386074e-06, 0.9996646642684937]], [[0.36841002106666565, 0.03206777945160866, 0.30195215344429016, 0.08545737713575363, 0.2121126800775528], [0.004453043453395367, 0.0014979433035477996, 0.03477709740400314, 0.673651397228241, 0.2856205701828003], [0.0016251573106274009, 4.971882844984066e-06, 0.00015037869161460549, 0.022395635023713112, 0.9758238196372986], [0.0012783413985744119, 1.0629934195094393e-06, 2.278135798405856e-05, 0.0018783826380968094, 0.9968193769454956], [0.06656991690397263, 0.00031276149093173444, 0.0004958462668582797, 0.0014628443168476224, 0.9311586618423462]], [[0.2195155769586563, 0.1626879721879959, 0.16747598350048065, 0.07786468416452408, 0.37245574593544006], [0.19963489472866058, 0.021012160927057266, 0.032906681299209595, 0.00416330061852932, 0.742283046245575], [0.1843942105770111, 0.009646452032029629, 0.009712106548249722, 0.006913371384143829, 0.7893338799476624], [0.2179756760597229, 0.04471723735332489, 0.02620670013129711, 0.021570555865764618, 0.6895298957824707], [0.2508496344089508, 0.03903773054480553, 0.10206488519906998, 0.03004901483654976, 0.5779987573623657]], [[0.19105809926986694, 0.1417255401611328, 0.09644030034542084, 0.09834733605384827, 0.47242873907089233], [0.19975845515727997, 0.08417274057865143, 0.12010256201028824, 0.06515888124704361, 0.5308073163032532], [0.1746230572462082, 0.13931481540203094, 0.13069148361682892, 0.07298125326633453, 0.4823893904685974], [0.15289939939975739, 0.08659284561872482, 0.12879522144794464, 0.08046761155128479, 0.5512449741363525], [0.1872190535068512, 0.0953306257724762, 0.13801702857017517, 0.04146263003349304, 0.5379707217216492]], [[0.3712292015552521, 0.08356835693120956, 0.0636504665017128, 0.05639343708753586, 0.4251585602760315], [0.3027908205986023, 0.07412303239107132, 0.06993206590414047, 0.043679479509592056, 0.5094745755195618], [0.3347534239292145, 0.0991489589214325, 0.052656129002571106, 0.05127948522567749, 0.4621620774269104], [0.258160799741745, 0.029011210426688194, 0.07186144590377808, 0.08166996389627457, 0.5592965483665466], [0.3558718264102936, 0.12600435316562653, 0.08917367458343506, 0.06233569607138634, 0.3666144609451294]], [[0.344672292470932, 0.03462905064225197, 0.021272948011755943, 0.034626737236976624, 0.5647989511489868], [0.1610376536846161, 0.46149176359176636, 0.00995167251676321, 0.018004901707172394, 0.349513977766037], [0.23034030199050903, 0.03350580111145973, 0.041618213057518005, 0.06890054047107697, 0.6256350874900818], [0.2311725616455078, 0.05812197923660278, 0.08193271607160568, 0.26091575622558594, 0.36785703897476196], [0.40220507979393005, 0.03704993426799774, 0.018874486908316612, 0.02010100521147251, 0.5217695236206055]], [[0.051031775772571564, 7.267976616276428e-05, 0.00019017246086150408, 0.00034292470081709325, 0.948362410068512], [9.90149004453933e-11, 6.241619121283293e-05, 0.999701201915741, 0.00023635037359781563, 8.025287248983326e-13], [2.8650394057194717e-08, 1.8594976225472237e-08, 0.003282018005847931, 0.9967024922370911, 1.5414536392199807e-05], [7.478828223383971e-08, 6.569753557362015e-14, 1.5716652868036363e-08, 0.00012295434135012329, 0.9998769760131836], [5.172996679903008e-06, 4.220813457046172e-15, 2.272431808697517e-12, 4.814527443386396e-09, 0.9999948740005493]], [[0.23514358699321747, 0.132633239030838, 0.17590154707431793, 0.20066964626312256, 0.25565192103385925], [0.19098453223705292, 0.18860173225402832, 0.11790133267641068, 0.1297566443681717, 0.3727557063102722], [0.17879386246204376, 0.1462913602590561, 0.08617087453603745, 0.0634138360619545, 0.5253300070762634], [0.1357443481683731, 0.1025102436542511, 0.09071822464466095, 0.07683303952217102, 0.5941941738128662], [0.20721569657325745, 0.09791553765535355, 0.11610578745603561, 0.0729558989405632, 0.5058071613311768]]], [[[0.1941811889410019, 0.05756758525967598, 0.030830299481749535, 0.05012662708759308, 0.6672943234443665], [0.01049239281564951, 0.010185391642153263, 0.15151222050189972, 0.766569972038269, 0.061239972710609436], [0.02651115320622921, 0.10113189369440079, 0.019844062626361847, 0.16103069484233856, 0.6914822459220886], [0.01518509816378355, 0.28245314955711365, 0.1383168250322342, 0.0169718898832798, 0.5470729470252991], [0.019740067422389984, 0.012498217634856701, 0.021344702690839767, 0.046477146446704865, 0.8999398946762085]], [[0.22544726729393005, 0.04483050853013992, 0.03525276109576225, 0.057409051805734634, 0.6370603442192078], [0.2588534355163574, 0.09433037787675858, 0.050811514258384705, 0.11428746581077576, 0.48171719908714294], [0.17198055982589722, 0.03701615706086159, 0.086280457675457, 0.053005144000053406, 0.6517177224159241], [0.10874957591295242, 0.05372884124517441, 0.14155875146389008, 0.13244765996932983, 0.5635151267051697], [0.234516903758049, 0.05161722004413605, 0.07221008092164993, 0.12608975172042847, 0.5155659914016724]], [[0.23527894914150238, 0.07574868947267532, 0.03516542539000511, 0.1930619478225708, 0.4607449769973755], [0.22279396653175354, 0.07244367152452469, 0.03525112196803093, 0.08486579358577728, 0.5846454501152039], [0.1042056456208229, 0.07604828476905823, 0.013973993249237537, 0.02731507644057274, 0.7784570455551147], [0.08908341825008392, 0.33147865533828735, 0.04240703582763672, 0.15377658605575562, 0.3832543194293976], [0.07187268137931824, 0.029046742245554924, 0.023956548422574997, 0.09006867557764053, 0.7850552797317505]], [[0.16179262101650238, 0.12296230345964432, 0.19359217584133148, 0.06278615444898605, 0.45886674523353577], [0.23272114992141724, 0.3054157793521881, 0.37227100133895874, 0.03867115080356598, 0.05092091113328934], [0.012181524187326431, 0.78992760181427, 0.15540236234664917, 0.010626271367073059, 0.0318622812628746], [0.015017645433545113, 0.24759264290332794, 0.5375641584396362, 0.031754087656736374, 0.16807149350643158], [0.003799234749749303, 0.0044445437379181385, 0.08753441274166107, 0.09029388427734375, 0.8139278888702393]], [[0.19803275167942047, 0.08660721033811569, 0.11682982742786407, 0.05782617628574371, 0.5407041311264038], [0.25341472029685974, 0.062931589782238, 0.20535364747047424, 0.05602819100022316, 0.42227187752723694], [0.1822909116744995, 0.049534015357494354, 0.07954845577478409, 0.04904135689139366, 0.6395852565765381], [0.0778520330786705, 0.04483874887228012, 0.09488227963447571, 0.1305779367685318, 0.6518489718437195], [0.01926717720925808, 0.033291224390268326, 0.09030595421791077, 0.026360854506492615, 0.8307747840881348]], [[0.17063763737678528, 0.1262965202331543, 0.18135333061218262, 0.1882183849811554, 0.33349406719207764], [0.25400468707084656, 0.028491098433732986, 0.06316288560628891, 0.04980006814002991, 0.6045412421226501], [0.11341749131679535, 0.03807954862713814, 0.012417794205248356, 0.04615122824907303, 0.7899338603019714], [0.082815021276474, 0.020131366327404976, 0.022143030539155006, 0.0694231241941452, 0.8054874539375305], [0.08721460402011871, 0.054729606956243515, 0.0717557966709137, 0.13882261514663696, 0.647477388381958]], [[0.12090244144201279, 0.13969191908836365, 0.046000927686691284, 0.012363932095468044, 0.6810407638549805], [0.14503087103366852, 0.0934271439909935, 0.15258540213108063, 0.08856002986431122, 0.5203965902328491], [0.12666866183280945, 0.09312190860509872, 0.1059863269329071, 0.05780717730522156, 0.6164159774780273], [0.09594245254993439, 0.061447788029909134, 0.09697200357913971, 0.07656481117010117, 0.6690729856491089], [0.04243370518088341, 0.07925410568714142, 0.06564193218946457, 0.06948857009410858, 0.7431816458702087]], [[0.15870016813278198, 0.01547467801719904, 0.03408972918987274, 0.28342026472091675, 0.5083151459693909], [0.00011489919415907934, 0.9992017149925232, 0.0006076860008761287, 7.472192373825237e-05, 9.528883992970805e-07], [5.135800465461138e-11, 0.9991452693939209, 0.0008547490579076111, 6.220326032035928e-09, 1.5285240087536955e-11], [4.4342576832612224e-10, 0.00012910188524983823, 0.9998538494110107, 1.7088457752834074e-05, 3.055367869819747e-08], [0.00019483435607980937, 3.070512320846319e-06, 0.0036204487551003695, 0.5095125436782837, 0.4866692125797272]], [[0.14018484950065613, 0.05092783272266388, 0.029113775119185448, 0.13671158254146576, 0.6430619359016418], [0.0961628183722496, 0.022420734167099, 0.045574646443128586, 0.14587213099002838, 0.6899696588516235], [0.044770531356334686, 0.0018872643122449517, 0.0012861501891165972, 0.012792729772627354, 0.9392633438110352], [0.0551689974963665, 0.002843915019184351, 0.007664735894650221, 0.06042449176311493, 0.8738977909088135], [0.09447357803583145, 0.024302931502461433, 0.1120142936706543, 0.06070635840296745, 0.7085028886795044]], [[0.20199549198150635, 0.23105143010616302, 0.09093225747346878, 0.06410493701696396, 0.4119158983230591], [0.20835396647453308, 0.5222362279891968, 0.09071840345859528, 0.05287401005625725, 0.1258174329996109], [0.2616161108016968, 0.3555506765842438, 0.10534009337425232, 0.15802110731601715, 0.11947201192378998], [0.07989238202571869, 0.4923005700111389, 0.11030451208353043, 0.1986401230096817, 0.11886238306760788], [0.02476906217634678, 0.2124270498752594, 0.175542950630188, 0.10027757287025452, 0.48698335886001587]], [[0.2797819674015045, 0.024068070575594902, 0.01119146402925253, 0.03091859072446823, 0.6540399193763733], [0.042952973395586014, 0.010093963705003262, 0.10272874683141708, 0.41272780299186707, 0.4314965605735779], [0.015001497231423855, 0.008073771372437477, 0.009411177597939968, 0.09872981905937195, 0.868783712387085], [0.009276716969907284, 0.001032308442518115, 0.0006021118024364114, 0.011211979202926159, 0.9778768420219421], [0.02250661514699459, 0.0006966455257497728, 0.0005509795155376196, 0.0038629868067801, 0.9723827838897705]], [[0.3362036347389221, 0.05656944960355759, 0.029621554538607597, 0.035119444131851196, 0.5424858927726746], [0.056163690984249115, 0.35670292377471924, 0.19532142579555511, 0.037679675966501236, 0.3541323244571686], [0.06525951623916626, 0.10244355350732803, 0.28332820534706116, 0.05112479627132416, 0.4978438913822174], [0.1513233631849289, 0.005846472457051277, 0.008303631097078323, 0.06554673612117767, 0.7689797878265381], [0.2195231318473816, 0.06852506101131439, 0.07584507018327713, 0.011579199694097042, 0.6245274543762207]]], [[[0.03769722208380699, 0.027224337682127953, 0.010682179592549801, 0.08722516894340515, 0.8371711373329163], [0.04984109476208687, 0.018159380182623863, 0.028313105925917625, 0.042302925139665604, 0.8613834977149963], [0.020064249634742737, 0.005202955100685358, 0.024485819041728973, 0.02559817023575306, 0.9246487617492676], [0.021886393427848816, 0.012510562315583229, 0.04193314164876938, 0.061010122299194336, 0.862659752368927], [0.009490628726780415, 0.004929304122924805, 0.002966115716844797, 0.006277907639741898, 0.9763360619544983]], [[0.17869390547275543, 0.02582670748233795, 0.003851252142339945, 0.001416791114024818, 0.7902113795280457], [3.1874235446593957e-06, 0.017517687752842903, 0.9821614027023315, 0.00026384505326859653, 5.395222615334205e-05], [0.00045237617450766265, 0.0010321432491764426, 0.02360895276069641, 0.9661332964897156, 0.00877317599952221], [0.0005205846391618252, 0.0008600589935667813, 1.4856751477054786e-05, 0.002273433143272996, 0.9963310360908508], [0.03456909582018852, 0.0029024812392890453, 0.004197236150503159, 0.012404462322592735, 0.9459267258644104]], [[0.05710633099079132, 0.055598337203264236, 0.04517405480146408, 0.03881826251745224, 0.8033030033111572], [0.025844572111964226, 0.0445975661277771, 0.01844118908047676, 0.023024166002869606, 0.888092577457428], [0.013502685353159904, 0.25945940613746643, 0.0795092061161995, 0.01710101030766964, 0.6304277181625366], [0.007584758102893829, 0.5789538621902466, 0.22758322954177856, 0.031046567484736443, 0.15483152866363525], [0.0074936277233064175, 0.009191788733005524, 0.006437611300498247, 0.004456271883100271, 0.9724207520484924]], [[0.05650952458381653, 0.02224767580628395, 0.023487167432904243, 0.019673673436045647, 0.8780819177627563], [0.02185935713350773, 0.010517190210521221, 0.005921987816691399, 0.028317542746663094, 0.9333839416503906], [0.013741332106292248, 0.003947877790778875, 0.0037630086299031973, 0.02162747085094452, 0.9569202661514282], [0.015508121810853481, 0.003519192337989807, 0.00578668899834156, 0.02025197260081768, 0.9549340009689331], [0.011462371796369553, 0.001366392127238214, 0.0023130998015403748, 0.003471586387604475, 0.9813866019248962]], [[0.07818570733070374, 0.0017559390980750322, 0.0007620202377438545, 0.00628795986995101, 0.9130083918571472], [0.017221996560692787, 0.08052423596382141, 0.0029063657857477665, 0.015046002343297005, 0.8843014240264893], [0.007870662026107311, 0.0008201886666938663, 0.010824126191437244, 0.011590078473091125, 0.9688949584960938], [0.05381932482123375, 0.0018957442371174693, 0.00850369967520237, 0.22623145580291748, 0.7095498442649841], [0.03258545696735382, 0.0007442379137501121, 0.0009957877919077873, 0.001232294482178986, 0.964442253112793]], [[0.0755060613155365, 0.015267313458025455, 0.024668198078870773, 0.013141435571014881, 0.8714169263839722], [0.007214365992695093, 0.016066953539848328, 0.012016578577458858, 0.01919180154800415, 0.9455102682113647], [0.00995264295488596, 0.102751225233078, 0.03816773369908333, 0.05627332627773285, 0.7928550839424133], [0.030927041545510292, 0.16400264203548431, 0.09826960414648056, 0.13515155017375946, 0.5716491341590881], [0.010851183906197548, 0.002237738808616996, 0.0029779919423162937, 0.0015559450257569551, 0.9823771715164185]], [[0.09621790796518326, 0.022019056603312492, 0.0038155321963131428, 0.03054531291127205, 0.8474022150039673], [0.11814262717962265, 0.03754136711359024, 0.0046855853870511055, 0.007225047796964645, 0.8324053287506104], [0.0513329915702343, 0.005720443557947874, 0.0027549092192202806, 0.001962431939318776, 0.9382292032241821], [0.15327772498130798, 0.013303202576935291, 0.001851609442383051, 0.028138112276792526, 0.8034293055534363], [0.021938512101769447, 0.0007490958669222891, 0.0003167506365571171, 0.0004639546386897564, 0.9765316247940063]], [[0.050437722355127335, 0.014602974988520145, 0.017616398632526398, 0.02892232872545719, 0.8884206414222717], [0.05186596140265465, 0.07778826355934143, 0.07458142936229706, 0.0945206731557846, 0.7012436985969543], [0.029190659523010254, 0.08526641130447388, 0.12618650496006012, 0.10271189361810684, 0.6566445827484131], [0.014687912538647652, 0.05213460326194763, 0.13856282830238342, 0.18230995535850525, 0.6123046278953552], [0.009508433751761913, 0.004121180158108473, 0.009668462909758091, 0.015486745163798332, 0.9612152576446533]], [[0.025056272745132446, 0.015721473842859268, 0.0233046542853117, 0.015884874388575554, 0.9200327396392822], [0.013852564617991447, 0.01297424640506506, 0.22804337739944458, 0.13053029775619507, 0.6145995259284973], [0.01681072823703289, 0.0023810244165360928, 0.009519470855593681, 0.0186572577804327, 0.9526314735412598], [0.011793751269578934, 0.00377150671556592, 0.009551758877933025, 0.008194273337721825, 0.9666887521743774], [0.010246379300951958, 0.004211689345538616, 0.012238838709890842, 0.006214582826942205, 0.967088520526886]], [[0.15266653895378113, 0.058195628225803375, 0.02974100410938263, 0.040962103754282, 0.718434751033783], [0.04472879692912102, 0.017384212464094162, 0.007596393581479788, 0.06006879732012749, 0.8702217936515808], [0.027153268456459045, 0.009155072271823883, 0.00812064204365015, 0.03957599028944969, 0.9159950017929077], [0.032080356031656265, 0.013415421359241009, 0.011938301846385002, 0.05139816552400589, 0.8911678194999695], [0.028651420027017593, 0.008095619268715382, 0.005648382008075714, 0.009763289242982864, 0.9478413462638855]], [[0.10313814878463745, 0.02981523610651493, 0.019190926104784012, 0.041262201964855194, 0.8065935373306274], [0.0023022685199975967, 0.021195966750383377, 0.4717180132865906, 0.019187521189451218, 0.4855961799621582], [0.011087113991379738, 0.015151976607739925, 0.018923550844192505, 0.06910308450460434, 0.8857342004776001], [0.029924040660262108, 0.00754631869494915, 0.013983063399791718, 0.19802889227867126, 0.7505176663398743], [0.011519846506416798, 0.001166249276138842, 0.0031320953276008368, 0.006249082740396261, 0.9779326915740967]], [[0.13457685708999634, 0.015684932470321655, 0.03234396502375603, 0.04426729679107666, 0.7731269001960754], [0.013080869801342487, 0.01394257415086031, 0.16761401295661926, 0.1792982965707779, 0.6260641813278198], [0.01779569685459137, 0.001881668926216662, 0.04427940398454666, 0.24852687120437622, 0.6875163912773132], [0.028831159695982933, 0.011696548201143742, 0.1165456548333168, 0.06758183240890503, 0.7753447890281677], [0.024254538118839264, 0.0012634703889489174, 0.002664353000000119, 0.006791670341044664, 0.9650259613990784]]], [[[0.1412665694952011, 0.04179127514362335, 0.15755164623260498, 0.07714756578207016, 0.5822429060935974], [0.04474891722202301, 0.1236027404665947, 0.006486831232905388, 0.07354224473237991, 0.751619279384613], [0.0036979643628001213, 0.8747745752334595, 0.021381404250860214, 0.002535636303946376, 0.0976104885339737], [0.005591800436377525, 0.014484922401607037, 0.8513907790184021, 0.024792306125164032, 0.10374011099338531], [0.08628346771001816, 0.05201507359743118, 0.0806756541132927, 0.057282913476228714, 0.7237428426742554]], [[0.19130519032478333, 0.12057223170995712, 0.23429006338119507, 0.09972922503948212, 0.35410329699516296], [0.14102856814861298, 0.11514931917190552, 0.09554809331893921, 0.10867813229560852, 0.5395958423614502], [0.09656061977148056, 0.05045531690120697, 0.05659446492791176, 0.10417921096086502, 0.6922103762626648], [0.10442857444286346, 0.04213534668087959, 0.054868146777153015, 0.1642078310251236, 0.6343600749969482], [0.1153944879770279, 0.047662053257226944, 0.05933358147740364, 0.04647551476955414, 0.731134295463562]], [[0.11758144944906235, 0.02563723921775818, 0.059517938643693924, 0.2424122840166092, 0.5548511147499084], [0.05159762129187584, 0.03255170211195946, 0.03180721029639244, 0.08250930160284042, 0.8015341758728027], [0.0506865456700325, 0.34108632802963257, 0.05999716743826866, 0.1293710470199585, 0.41885891556739807], [0.010023867711424828, 0.7087669372558594, 0.08956646174192429, 0.06490852683782578, 0.12673431634902954], [0.06044831871986389, 0.023821216076612473, 0.028579214587807655, 0.08657152205705643, 0.8005797266960144]], [[0.1343679279088974, 0.03227381035685539, 0.0369580052793026, 0.05733849108219147, 0.7390617728233337], [0.05602742359042168, 0.012608802877366543, 0.017868783324956894, 0.041142549365758896, 0.8723524212837219], [0.05880120396614075, 0.012954799458384514, 0.01707429438829422, 0.045704152435064316, 0.8654655814170837], [0.046882178634405136, 0.11210903525352478, 0.05874099209904671, 0.10401289165019989, 0.6782549023628235], [0.07618667185306549, 0.022442663088440895, 0.03200783580541611, 0.061402276158332825, 0.807960569858551]], [[0.09365136921405792, 0.04783792793750763, 0.05749155953526497, 0.21475845575332642, 0.5862606763839722], [0.0597015880048275, 0.02450624480843544, 0.05300553888082504, 0.07855913043022156, 0.7842274904251099], [0.04677608981728554, 0.05922653153538704, 0.07931198179721832, 0.12710276246070862, 0.6875826716423035], [0.03418562933802605, 0.07445144653320312, 0.16860255599021912, 0.2691594064235687, 0.4536009430885315], [0.021407971158623695, 0.009467187337577343, 0.010157923214137554, 0.02011488750576973, 0.9388520121574402]], [[0.18094582855701447, 0.024448590353131294, 0.03633853793144226, 0.097725510597229, 0.6605414748191833], [0.010101339779794216, 0.017152395099401474, 0.2743881940841675, 0.5127561688423157, 0.18560191988945007], [0.031215686351060867, 0.016240276396274567, 0.09141317009925842, 0.5643749237060547, 0.29675590991973877], [0.049786750227212906, 0.024751903489232063, 0.0501425564289093, 0.1751982867717743, 0.7001204490661621], [0.07959906756877899, 0.012633750215172768, 0.01969069242477417, 0.036325644701719284, 0.8517508506774902]], [[0.14632408320903778, 0.05775246396660805, 0.0619768425822258, 0.057930417358875275, 0.6760162115097046], [0.16706280410289764, 0.06270506978034973, 0.017342139035463333, 0.01253671944141388, 0.7403532266616821], [0.10285422950983047, 0.04428309202194214, 0.02500309608876705, 0.009745209477841854, 0.8181143999099731], [0.13174591958522797, 0.08173739910125732, 0.03973430395126343, 0.03881014883518219, 0.7079721689224243], [0.030340611934661865, 0.011644154787063599, 0.012457366101443768, 0.008450215682387352, 0.9371076226234436]], [[0.2421177178621292, 0.061403095722198486, 0.014953144825994968, 0.023337827995419502, 0.6581882238388062], [0.1818522810935974, 0.018081504851579666, 0.013311387971043587, 0.043900322169065475, 0.7428544163703918], [0.07886602729558945, 0.021803390234708786, 0.008042952977120876, 0.031013863161206245, 0.8602737784385681], [0.18528036773204803, 0.017768675461411476, 0.008014642633497715, 0.011449006386101246, 0.7774873375892639], [0.37201252579689026, 0.10221707075834274, 0.0725926086306572, 0.09814657270908356, 0.35503116250038147]], [[0.23256951570510864, 0.03461407870054245, 0.014263360761106014, 0.05394972488284111, 0.6646032929420471], [0.11221885681152344, 0.05703691765666008, 0.024204466491937637, 0.02305898442864418, 0.7834807634353638], [0.08214307576417923, 0.013681329786777496, 0.0278251264244318, 0.021957295015454292, 0.8543931841850281], [0.07678809762001038, 0.017475392669439316, 0.02289287932217121, 0.062340375036001205, 0.820503294467926], [0.2921399772167206, 0.0973493680357933, 0.06312180310487747, 0.41913458704948425, 0.12825432419776917]], [[0.10588976740837097, 0.015066810883581638, 0.052472539246082306, 0.024715742096304893, 0.801855206489563], [0.08426225185394287, 0.03304184600710869, 0.05338606983423233, 0.0578116700053215, 0.7714981436729431], [0.09430766850709915, 0.057967111468315125, 0.031327392905950546, 0.06778771430253983, 0.7486100792884827], [0.06093868613243103, 0.020685283467173576, 0.018153386190533638, 0.05653833970427513, 0.8436843156814575], [0.06165406480431557, 0.0077297622337937355, 0.015591544099152088, 0.015647120773792267, 0.8993774652481079]], [[0.07922954112291336, 0.007023167796432972, 0.0060073742642998695, 0.12766796350479126, 0.7800719141960144], [0.037178147584199905, 0.028263317421078682, 0.04696042463183403, 0.06350001692771912, 0.8240980505943298], [0.04297072812914848, 0.04005846008658409, 0.07239703834056854, 0.08630705624818802, 0.7582667469978333], [0.028916316106915474, 0.024889349937438965, 0.03339753672480583, 0.060258470475673676, 0.8525383472442627], [0.06171053275465965, 0.015524364076554775, 0.015980061143636703, 0.09520565718412399, 0.8115794062614441]], [[0.0780683159828186, 0.015816781669855118, 0.014514563605189323, 0.05414333939552307, 0.8374569416046143], [0.04672045633196831, 0.03451058641076088, 0.059810105711221695, 0.1666998714208603, 0.692258894443512], [0.04837958514690399, 0.018660560250282288, 0.025761397555470467, 0.12351308763027191, 0.7836854457855225], [0.03169887140393257, 0.01034820917993784, 0.011790488846600056, 0.08537285029888153, 0.8607895970344543], [0.058247972279787064, 0.015812993049621582, 0.022206908091902733, 0.03971678763628006, 0.8640154004096985]]], [[[0.03858942165970802, 0.025819452479481697, 0.0190799031406641, 0.01501066517084837, 0.9015005826950073], [0.030928920954465866, 0.04978115111589432, 0.08746447414159775, 0.07344387471675873, 0.7583816647529602], [0.020761311054229736, 0.01458396203815937, 0.05031641945242882, 0.033900175243616104, 0.8804381489753723], [0.013980689458549023, 0.012929086573421955, 0.026196863502264023, 0.034161366522312164, 0.9127320647239685], [0.028692711144685745, 0.01944332756102085, 0.013415210880339146, 0.014711408875882626, 0.9237372875213623]], [[0.020068349316716194, 0.009451353922486305, 0.014825222082436085, 0.02000403217971325, 0.9356511235237122], [0.004482836928218603, 0.008317616768181324, 0.01994176395237446, 0.03338313847780228, 0.9338746070861816], [0.003975641913712025, 0.00761309452354908, 0.02778678573668003, 0.04297839105129242, 0.9176461100578308], [0.007088739890605211, 0.019779430702328682, 0.04631740227341652, 0.06684646010398865, 0.8599679470062256], [0.007269490975886583, 0.006140492856502533, 0.005373362917453051, 0.005113148130476475, 0.9761034846305847]], [[0.033079713582992554, 0.010305708274245262, 0.02778751030564308, 0.029101520776748657, 0.8997254967689514], [0.016848957166075706, 0.02002793736755848, 0.1474369913339615, 0.1092807799577713, 0.7064052820205688], [0.009514275006949902, 0.020914284512400627, 0.05825960263609886, 0.06928472220897675, 0.8420270681381226], [0.008699987083673477, 0.032182373106479645, 0.05591642111539841, 0.03818456456065178, 0.8650166392326355], [0.11065742373466492, 0.06934740394353867, 0.05297691002488136, 0.06456709653139114, 0.7024511098861694]], [[0.003272708971053362, 0.000967101426795125, 0.0012375256046652794, 0.0004822122573386878, 0.9940404295921326], [0.002643568441271782, 0.0038393368013203144, 0.0013070773566141725, 0.0004409549874253571, 0.9917690753936768], [0.0017469513695687056, 0.0010353514226153493, 0.0029837803449481726, 0.0008617956773377955, 0.9933720827102661], [0.0033404657151550055, 0.0020217299461364746, 0.0038045949768275023, 0.008336566388607025, 0.9824966192245483], [0.004778727889060974, 0.0008237556903623044, 0.0007173870108090341, 0.000831521931104362, 0.9928486347198486]], [[0.013569031842052937, 0.014151773415505886, 0.010174483060836792, 0.007668052799999714, 0.9544366598129272], [0.0041024512611329556, 0.00957072339951992, 0.006185868289321661, 0.004827410448342562, 0.9753134846687317], [0.008378835394978523, 0.020013675093650818, 0.011378882452845573, 0.010033922269940376, 0.9501947164535522], [0.01658306084573269, 0.03689975291490555, 0.022099211812019348, 0.028830990195274353, 0.8955870270729065], [0.010666419751942158, 0.008591167628765106, 0.004154587630182505, 0.004710771143436432, 0.9718770384788513]], [[0.06202835962176323, 0.03091568872332573, 0.016945235431194305, 0.010438596829771996, 0.879672110080719], [0.07054068148136139, 0.06000280752778053, 0.028650496155023575, 0.02720007859170437, 0.8136059045791626], [0.03491387516260147, 0.024921894073486328, 0.022078225389122963, 0.02190517820417881, 0.8961808085441589], [0.03728676587343216, 0.024038264527916908, 0.017125796526670456, 0.048606328666210175, 0.8729428648948669], [0.16970089077949524, 0.06614388525485992, 0.08499805629253387, 0.314809113740921, 0.36434808373451233]], [[0.010701712220907211, 0.0025957338511943817, 0.002948409179225564, 0.004592085722833872, 0.9791620969772339], [0.022109247744083405, 0.01005857065320015, 0.020918047055602074, 0.00685069989413023, 0.9400634169578552], [0.005762901622802019, 0.002711352426558733, 0.011486377567052841, 0.002907761139795184, 0.9771315455436707], [0.00825164932757616, 0.0036633501295000315, 0.021369120106101036, 0.012800641357898712, 0.9539151787757874], [0.006355137098580599, 0.0012012678198516369, 0.002234942978248, 0.0012085916241630912, 0.989000141620636]], [[0.059840016067028046, 0.022895846515893936, 0.05445781350135803, 0.1656571924686432, 0.6971492171287537], [0.03226768597960472, 0.04743032529950142, 0.022150233387947083, 0.043548598885536194, 0.854603111743927], [0.005916951224207878, 0.41998904943466187, 0.026737850159406662, 0.001960395136848092, 0.5453956723213196], [0.004824329167604446, 0.017561420798301697, 0.6557866334915161, 0.013772153295576572, 0.30805546045303345], [0.10837545245885849, 0.07261215895414352, 0.03461461886763573, 0.08635549247264862, 0.6980422735214233]], [[0.03466711565852165, 0.02544957585632801, 0.014624171890318394, 0.019809916615486145, 0.9054491519927979], [0.030487636104226112, 0.021656515076756477, 0.01564844325184822, 0.026018816977739334, 0.9061886072158813], [0.012434964999556541, 0.015494303777813911, 0.01030082069337368, 0.014299554750323296, 0.9474703669548035], [0.011075528338551521, 0.021674875169992447, 0.012347498908638954, 0.02154531702399254, 0.9333568215370178], [0.08153118938207626, 0.03341042250394821, 0.016315633431077003, 0.02977244183421135, 0.8389703035354614]], [[0.028016412630677223, 0.013158616609871387, 0.021658534184098244, 0.013383367098867893, 0.9237830638885498], [0.007124491035938263, 0.012842882424592972, 0.061967816203832626, 0.02800094708800316, 0.8900638818740845], [0.006198831368237734, 0.008552809245884418, 0.0499408133327961, 0.04837257042527199, 0.8869349956512451], [0.015627851709723473, 0.01681746169924736, 0.07676579058170319, 0.03577196225523949, 0.8550169467926025], [0.005131908226758242, 0.0017719526076689363, 0.0035244340542703867, 0.0038707542698830366, 0.9857009649276733]], [[0.01044590026140213, 0.0015282871900126338, 0.0015163123607635498, 0.005297290161252022, 0.9812121987342834], [0.0005431487807072699, 0.004101683385670185, 0.002115285722538829, 0.00019351000082679093, 0.9930463433265686], [0.0001551744353491813, 0.0004938905476592481, 0.002052952302619815, 7.57518719183281e-05, 0.9972221851348877], [0.000574753968976438, 0.00018476088007446378, 0.0005975381354801357, 0.0037626412231475115, 0.9948803186416626], [0.0004095078620593995, 0.00018816567899193615, 0.00022398588771466166, 4.465028177946806e-05, 0.9991337656974792]], [[0.023155413568019867, 0.030041400343179703, 0.008018282242119312, 0.015967683866620064, 0.9228172302246094], [0.013628321699798107, 0.035908859223127365, 0.007841166108846664, 0.007800410035997629, 0.9348212480545044], [0.011373245157301426, 0.072001151740551, 0.013120658695697784, 0.013647588901221752, 0.8898573517799377], [0.015939118340611458, 0.07723827660083771, 0.018751930445432663, 0.04763093218207359, 0.8404397368431091], [0.023807836696505547, 0.019512195140123367, 0.005248871631920338, 0.005338555201888084, 0.9460925459861755]]], [[[0.09492474049329758, 0.04641919210553169, 0.029057065024971962, 0.048460278660058975, 0.7811387181282043], [0.02667037397623062, 0.05172780901193619, 0.03386889770627022, 0.026067571714520454, 0.8616653680801392], [0.024241385981440544, 0.021983539685606956, 0.03929465636610985, 0.029583226889371872, 0.8848972320556641], [0.016768980771303177, 0.016447432339191437, 0.015538262203335762, 0.035781655460596085, 0.9154636859893799], [0.15833468735218048, 0.20823010802268982, 0.17218054831027985, 0.10681406408548355, 0.3544405698776245]], [[0.0797848328948021, 0.047326669096946716, 0.05594649910926819, 0.1758679896593094, 0.641074001789093], [0.030315663665533066, 0.0934431329369545, 0.24650204181671143, 0.184423565864563, 0.44531551003456116], [0.03502366691827774, 0.05473265051841736, 0.20078210532665253, 0.19567625224590302, 0.5137853026390076], [0.011690041981637478, 0.04175141453742981, 0.07713890820741653, 0.22852638363838196, 0.640893280506134], [0.20046965777873993, 0.2182854413986206, 0.21250127255916595, 0.20189082622528076, 0.1668528914451599]], [[0.061102624982595444, 0.022219447419047356, 0.009776384569704533, 0.0376715324819088, 0.8692299723625183], [0.01936277002096176, 0.18746019899845123, 0.04504045844078064, 0.03900712728500366, 0.7091293931007385], [0.0045164236798882484, 0.05566369742155075, 0.11802178621292114, 0.013468649238348007, 0.8083294034004211], [0.008678125217556953, 0.02875729650259018, 0.011995021253824234, 0.0694640502333641, 0.8811054825782776], [0.09648413956165314, 0.16509613394737244, 0.18677851557731628, 0.15411119163036346, 0.39753007888793945]], [[0.03559636324644089, 0.0569152869284153, 0.04890036582946777, 0.03036661073565483, 0.8282213807106018], [0.012620441615581512, 0.07789157330989838, 0.05456894263625145, 0.023895535618066788, 0.8310235142707825], [0.017470987513661385, 0.1585628092288971, 0.1569054126739502, 0.07384958118200302, 0.5932112336158752], [0.019315414130687714, 0.13275013864040375, 0.10900279879570007, 0.08960908651351929, 0.6493226289749146], [0.18809722363948822, 0.172707200050354, 0.18736790120601654, 0.1699284315109253, 0.2818993031978607]], [[0.1237969920039177, 0.10113062709569931, 0.07324209809303284, 0.020824741572141647, 0.6810055375099182], [0.034738849848508835, 0.06366414576768875, 0.038814108818769455, 0.01670544594526291, 0.8460775017738342], [0.03276830539107323, 0.0633864477276802, 0.043589282780885696, 0.02033565379679203, 0.8399202823638916], [0.047767698764801025, 0.03695094212889671, 0.04322552680969238, 0.03011355921626091, 0.841942310333252], [0.20371665060520172, 0.19450050592422485, 0.20008745789527893, 0.1733756959438324, 0.22831974923610687]], [[0.08110985904932022, 0.11998683214187622, 0.10564736276865005, 0.0598292201757431, 0.6334267258644104], [0.015357042662799358, 0.047166261821985245, 0.8138546943664551, 0.03859638050198555, 0.08502558618783951], [0.038472674787044525, 0.017140092328190804, 0.22008661925792694, 0.651364803314209, 0.07293586432933807], [0.04353245720267296, 0.1432705670595169, 0.03827429935336113, 0.0409904345870018, 0.7339322566986084], [0.2693784832954407, 0.21273371577262878, 0.23968733847141266, 0.16748172044754028, 0.11071871966123581]], [[0.021402748301625252, 0.013162648305296898, 0.004448441322892904, 0.014284050092101097, 0.9467021226882935], [0.01062893308699131, 0.15446192026138306, 0.02588019147515297, 0.01974508725106716, 0.789283812046051], [0.0039985887706279755, 0.06469965726137161, 0.1747983992099762, 0.026504578068852425, 0.729998767375946], [0.0077119264751672745, 0.035213667899370193, 0.011836805380880833, 0.2748984396457672, 0.6703392267227173], [0.18552201986312866, 0.1659782975912094, 0.1343003809452057, 0.21893174946308136, 0.2952675521373749]], [[0.027653420343995094, 0.016713077202439308, 0.006602885667234659, 0.012659230269491673, 0.9363714456558228], [0.0037287476006895304, 0.21648824214935303, 0.02213582769036293, 0.001948228687979281, 0.7556989192962646], [0.0013535496545955539, 0.0796811580657959, 0.09130703657865524, 0.0012195168528705835, 0.8264387845993042], [0.0037010591477155685, 0.026402605697512627, 0.010181966237723827, 0.016385622322559357, 0.9433286786079407], [0.09630291908979416, 0.2661939859390259, 0.20942385494709015, 0.1536460816860199, 0.2744331955909729]], [[0.09218690544366837, 0.03769531100988388, 0.0667933002114296, 0.04359005019068718, 0.7597344517707825], [0.11080773174762726, 0.12629340589046478, 0.08779258280992508, 0.04334772750735283, 0.6317585706710815], [0.07977432012557983, 0.5111798644065857, 0.2139987349510193, 0.021796392276883125, 0.17325064539909363], [0.043059930205345154, 0.07055355608463287, 0.6217604279518127, 0.031009700149297714, 0.23361632227897644], [0.27092912793159485, 0.17741148173809052, 0.24459552764892578, 0.19213922321796417, 0.11492466181516647]], [[0.09663214534521103, 0.10699301958084106, 0.025541070848703384, 0.07439631968736649, 0.6964374780654907], [0.025441445410251617, 0.13329008221626282, 0.04026997461915016, 0.024609293788671494, 0.7763892412185669], [0.03832385689020157, 0.03411988168954849, 0.07623326033353806, 0.05733684450387955, 0.7939861416816711], [0.039280179888010025, 0.05381385609507561, 0.02605537325143814, 0.06830807775259018, 0.8125425577163696], [0.1685861051082611, 0.21103252470493317, 0.24118781089782715, 0.12422128766775131, 0.254972368478775]], [[0.11521138995885849, 0.017303315922617912, 0.006478275638073683, 0.013595815747976303, 0.8474111557006836], [0.08698244392871857, 0.1076720729470253, 0.019803117960691452, 0.022374315187335014, 0.7631680965423584], [0.03238501399755478, 0.042936258018016815, 0.16292977333068848, 0.029156431555747986, 0.7325925230979919], [0.05048435553908348, 0.024298321455717087, 0.014013629406690598, 0.051132820546627045, 0.8600708246231079], [0.2917664647102356, 0.17535917460918427, 0.17633993923664093, 0.20257627964019775, 0.15395808219909668]], [[0.07816152274608612, 0.0707668736577034, 0.04016851633787155, 0.04425554350018501, 0.7666475176811218], [0.021063227206468582, 0.030272940173745155, 0.020938308909535408, 0.011538570746779442, 0.9161869883537292], [0.03641226142644882, 0.06585924327373505, 0.07630100101232529, 0.0707215890288353, 0.7507058382034302], [0.019034534692764282, 0.06053030490875244, 0.034617651253938675, 0.035358771681785583, 0.8504587411880493], [0.19902479648590088, 0.1796201914548874, 0.22562459111213684, 0.1444154679775238, 0.2513149678707123]]]], \"left_text\": [\"[CLS]\", \"Vertrags\", \"##gegen\", \"##stand\", \"[SEP]\"], \"right_text\": [\"[CLS]\", \"Vertrags\", \"##gegen\", \"##stand\", \"[SEP]\"]}], \"default_filter\": \"0\", \"root_div_id\": \"bertviz-766287b89f544b2bab3e3990ee14f04d\", \"layer\": null, \"heads\": null, \"include_layers\": [0, 1, 2, 3, 4, 5, 6, 7, 8, 9, 10, 11]} is a template marker that is replaced by actual params.\n    const TEXT_SIZE = 15;\n    const BOXWIDTH = 110;\n    const BOXHEIGHT = 22.5;\n    const MATRIX_WIDTH = 115;\n    const CHECKBOX_SIZE = 20;\n    const TEXT_TOP = 30;\n\n    console.log(\"d3 version\", d3.version)\n    let headColors;\n    try {\n        headColors = d3.scaleOrdinal(d3.schemeCategory10);\n    } catch (err) {\n        console.log('Older d3 version')\n        headColors = d3.scale.category10();\n    }\n    let config = {};\n    initialize();\n    renderVis();\n\n    function initialize() {\n        config.attention = params['attention'];\n        config.filter = params['default_filter'];\n        config.rootDivId = params['root_div_id'];\n        config.nLayers = config.attention[config.filter]['attn'].length;\n        config.nHeads = config.attention[config.filter]['attn'][0].length;\n        config.layers = params['include_layers']\n\n        if (params['heads']) {\n            config.headVis = new Array(config.nHeads).fill(false);\n            params['heads'].forEach(x => config.headVis[x] = true);\n        } else {\n            config.headVis = new Array(config.nHeads).fill(true);\n        }\n        config.initialTextLength = config.attention[config.filter].right_text.length;\n        config.layer_seq = (params['layer'] == null ? 0 : config.layers.findIndex(layer => params['layer'] === layer));\n        config.layer = config.layers[config.layer_seq]\n\n        let layerEl = $(`#${config.rootDivId} #layer`);\n        for (const layer of config.layers) {\n            layerEl.append($(\"<option />\").val(layer).text(layer));\n        }\n        layerEl.val(config.layer).change();\n        layerEl.on('change', function (e) {\n            config.layer = +e.currentTarget.value;\n            config.layer_seq = config.layers.findIndex(layer => config.layer === layer);\n            renderVis();\n        });\n\n        $(`#${config.rootDivId} #filter`).on('change', function (e) {\n            config.filter = e.currentTarget.value;\n            renderVis();\n        });\n    }\n\n    function renderVis() {\n\n        // Load parameters\n        const attnData = config.attention[config.filter];\n        const leftText = attnData.left_text;\n        const rightText = attnData.right_text;\n\n        // Select attention for given layer\n        const layerAttention = attnData.attn[config.layer_seq];\n\n        // Clear vis\n        $(`#${config.rootDivId} #vis`).empty();\n\n        // Determine size of visualization\n        const height = Math.max(leftText.length, rightText.length) * BOXHEIGHT + TEXT_TOP;\n        const svg = d3.select(`#${config.rootDivId} #vis`)\n            .append('svg')\n            .attr(\"width\", \"100%\")\n            .attr(\"height\", height + \"px\");\n\n        // Display tokens on left and right side of visualization\n        renderText(svg, leftText, true, layerAttention, 0);\n        renderText(svg, rightText, false, layerAttention, MATRIX_WIDTH + BOXWIDTH);\n\n        // Render attention arcs\n        renderAttention(svg, layerAttention);\n\n        // Draw squares at top of visualization, one for each head\n        drawCheckboxes(0, svg, layerAttention);\n    }\n\n    function renderText(svg, text, isLeft, attention, leftPos) {\n\n        const textContainer = svg.append(\"svg:g\")\n            .attr(\"id\", isLeft ? \"left\" : \"right\");\n\n        // Add attention highlights superimposed over words\n        textContainer.append(\"g\")\n            .classed(\"attentionBoxes\", true)\n            .selectAll(\"g\")\n            .data(attention)\n            .enter()\n            .append(\"g\")\n            .attr(\"head-index\", (d, i) => i)\n            .selectAll(\"rect\")\n            .data(d => isLeft ? d : transpose(d)) // if right text, transpose attention to get right-to-left weights\n            .enter()\n            .append(\"rect\")\n            .attr(\"x\", function () {\n                var headIndex = +this.parentNode.getAttribute(\"head-index\");\n                return leftPos + boxOffsets(headIndex);\n            })\n            .attr(\"y\", (+1) * BOXHEIGHT)\n            .attr(\"width\", BOXWIDTH / activeHeads())\n            .attr(\"height\", BOXHEIGHT)\n            .attr(\"fill\", function () {\n                return headColors(+this.parentNode.getAttribute(\"head-index\"))\n            })\n            .style(\"opacity\", 0.0);\n\n        const tokenContainer = textContainer.append(\"g\").selectAll(\"g\")\n            .data(text)\n            .enter()\n            .append(\"g\");\n\n        // Add gray background that appears when hovering over text\n        tokenContainer.append(\"rect\")\n            .classed(\"background\", true)\n            .style(\"opacity\", 0.0)\n            .attr(\"fill\", \"lightgray\")\n            .attr(\"x\", leftPos)\n            .attr(\"y\", (d, i) => TEXT_TOP + i * BOXHEIGHT)\n            .attr(\"width\", BOXWIDTH)\n            .attr(\"height\", BOXHEIGHT);\n\n        // Add token text\n        const textEl = tokenContainer.append(\"text\")\n            .text(d => d)\n            .attr(\"font-size\", TEXT_SIZE + \"px\")\n            .style(\"cursor\", \"default\")\n            .style(\"-webkit-user-select\", \"none\")\n            .attr(\"x\", leftPos)\n            .attr(\"y\", (d, i) => TEXT_TOP + i * BOXHEIGHT);\n\n        if (isLeft) {\n            textEl.style(\"text-anchor\", \"end\")\n                .attr(\"dx\", BOXWIDTH - 0.5 * TEXT_SIZE)\n                .attr(\"dy\", TEXT_SIZE);\n        } else {\n            textEl.style(\"text-anchor\", \"start\")\n                .attr(\"dx\", +0.5 * TEXT_SIZE)\n                .attr(\"dy\", TEXT_SIZE);\n        }\n\n        tokenContainer.on(\"mouseover\", function (d, index) {\n\n            // Show gray background for moused-over token\n            textContainer.selectAll(\".background\")\n                .style(\"opacity\", (d, i) => i === index ? 1.0 : 0.0)\n\n            // Reset visibility attribute for any previously highlighted attention arcs\n            svg.select(\"#attention\")\n                .selectAll(\"line[visibility='visible']\")\n                .attr(\"visibility\", null)\n\n            // Hide group containing attention arcs\n            svg.select(\"#attention\").attr(\"visibility\", \"hidden\");\n\n            // Set to visible appropriate attention arcs to be highlighted\n            if (isLeft) {\n                svg.select(\"#attention\").selectAll(\"line[left-token-index='\" + index + \"']\").attr(\"visibility\", \"visible\");\n            } else {\n                svg.select(\"#attention\").selectAll(\"line[right-token-index='\" + index + \"']\").attr(\"visibility\", \"visible\");\n            }\n\n            // Update color boxes superimposed over tokens\n            const id = isLeft ? \"right\" : \"left\";\n            const leftPos = isLeft ? MATRIX_WIDTH + BOXWIDTH : 0;\n            svg.select(\"#\" + id)\n                .selectAll(\".attentionBoxes\")\n                .selectAll(\"g\")\n                .attr(\"head-index\", (d, i) => i)\n                .selectAll(\"rect\")\n                .attr(\"x\", function () {\n                    const headIndex = +this.parentNode.getAttribute(\"head-index\");\n                    return leftPos + boxOffsets(headIndex);\n                })\n                .attr(\"y\", (d, i) => TEXT_TOP + i * BOXHEIGHT)\n                .attr(\"width\", BOXWIDTH / activeHeads())\n                .attr(\"height\", BOXHEIGHT)\n                .style(\"opacity\", function (d) {\n                    const headIndex = +this.parentNode.getAttribute(\"head-index\");\n                    if (config.headVis[headIndex])\n                        if (d) {\n                            return d[index];\n                        } else {\n                            return 0.0;\n                        }\n                    else\n                        return 0.0;\n                });\n        });\n\n        textContainer.on(\"mouseleave\", function () {\n\n            // Unhighlight selected token\n            d3.select(this).selectAll(\".background\")\n                .style(\"opacity\", 0.0);\n\n            // Reset visibility attributes for previously selected lines\n            svg.select(\"#attention\")\n                .selectAll(\"line[visibility='visible']\")\n                .attr(\"visibility\", null) ;\n            svg.select(\"#attention\").attr(\"visibility\", \"visible\");\n\n            // Reset highlights superimposed over tokens\n            svg.selectAll(\".attentionBoxes\")\n                .selectAll(\"g\")\n                .selectAll(\"rect\")\n                .style(\"opacity\", 0.0);\n        });\n    }\n\n    function renderAttention(svg, attention) {\n\n        // Remove previous dom elements\n        svg.select(\"#attention\").remove();\n\n        // Add new elements\n        svg.append(\"g\")\n            .attr(\"id\", \"attention\") // Container for all attention arcs\n            .selectAll(\".headAttention\")\n            .data(attention)\n            .enter()\n            .append(\"g\")\n            .classed(\"headAttention\", true) // Group attention arcs by head\n            .attr(\"head-index\", (d, i) => i)\n            .selectAll(\".tokenAttention\")\n            .data(d => d)\n            .enter()\n            .append(\"g\")\n            .classed(\"tokenAttention\", true) // Group attention arcs by left token\n            .attr(\"left-token-index\", (d, i) => i)\n            .selectAll(\"line\")\n            .data(d => d)\n            .enter()\n            .append(\"line\")\n            .attr(\"x1\", BOXWIDTH)\n            .attr(\"y1\", function () {\n                const leftTokenIndex = +this.parentNode.getAttribute(\"left-token-index\")\n                return TEXT_TOP + leftTokenIndex * BOXHEIGHT + (BOXHEIGHT / 2)\n            })\n            .attr(\"x2\", BOXWIDTH + MATRIX_WIDTH)\n            .attr(\"y2\", (d, rightTokenIndex) => TEXT_TOP + rightTokenIndex * BOXHEIGHT + (BOXHEIGHT / 2))\n            .attr(\"stroke-width\", 2)\n            .attr(\"stroke\", function () {\n                const headIndex = +this.parentNode.parentNode.getAttribute(\"head-index\");\n                return headColors(headIndex)\n            })\n            .attr(\"left-token-index\", function () {\n                return +this.parentNode.getAttribute(\"left-token-index\")\n            })\n            .attr(\"right-token-index\", (d, i) => i)\n        ;\n        updateAttention(svg)\n    }\n\n    function updateAttention(svg) {\n        svg.select(\"#attention\")\n            .selectAll(\"line\")\n            .attr(\"stroke-opacity\", function (d) {\n                const headIndex = +this.parentNode.parentNode.getAttribute(\"head-index\");\n                // If head is selected\n                if (config.headVis[headIndex]) {\n                    // Set opacity to attention weight divided by number of active heads\n                    return d / activeHeads()\n                } else {\n                    return 0.0;\n                }\n            })\n    }\n\n    function boxOffsets(i) {\n        const numHeadsAbove = config.headVis.reduce(\n            function (acc, val, cur) {\n                return val && cur < i ? acc + 1 : acc;\n            }, 0);\n        return numHeadsAbove * (BOXWIDTH / activeHeads());\n    }\n\n    function activeHeads() {\n        return config.headVis.reduce(function (acc, val) {\n            return val ? acc + 1 : acc;\n        }, 0);\n    }\n\n    function drawCheckboxes(top, svg) {\n        const checkboxContainer = svg.append(\"g\");\n        const checkbox = checkboxContainer.selectAll(\"rect\")\n            .data(config.headVis)\n            .enter()\n            .append(\"rect\")\n            .attr(\"fill\", (d, i) => headColors(i))\n            .attr(\"x\", (d, i) => i * CHECKBOX_SIZE)\n            .attr(\"y\", top)\n            .attr(\"width\", CHECKBOX_SIZE)\n            .attr(\"height\", CHECKBOX_SIZE);\n\n        function updateCheckboxes() {\n            checkboxContainer.selectAll(\"rect\")\n                .data(config.headVis)\n                .attr(\"fill\", (d, i) => d ? headColors(i): lighten(headColors(i)));\n        }\n\n        updateCheckboxes();\n\n        checkbox.on(\"click\", function (d, i) {\n            if (config.headVis[i] && activeHeads() === 1) return;\n            config.headVis[i] = !config.headVis[i];\n            updateCheckboxes();\n            updateAttention(svg);\n        });\n\n        checkbox.on(\"dblclick\", function (d, i) {\n            // If we double click on the only active head then reset\n            if (config.headVis[i] && activeHeads() === 1) {\n                config.headVis = new Array(config.nHeads).fill(true);\n            } else {\n                config.headVis = new Array(config.nHeads).fill(false);\n                config.headVis[i] = true;\n            }\n            updateCheckboxes();\n            updateAttention(svg);\n        });\n    }\n\n    function lighten(color) {\n        const c = d3.hsl(color);\n        const increment = (1 - c.l) * 0.6;\n        c.l += increment;\n        c.s -= increment;\n        return c;\n    }\n\n    function transpose(mat) {\n        return mat[0].map(function (col, i) {\n            return mat.map(function (row) {\n                return row[i];\n            });\n        });\n    }\n\n});",
            "text/plain": [
              "<IPython.core.display.Javascript object>"
            ]
          },
          "metadata": {},
          "output_type": "display_data"
        }
      ],
      "source": [
        "#attention_weights = outputs_legal.attentions\n",
        "#head_view(attention_weights,\n",
        "#tokens=legal_g_bert_cased.convert_ids_to_tokens(inputs_paragraph_title_legal[0][0]))"
      ]
    },
    {
      "cell_type": "markdown",
      "id": "FXvEk9lNsE7v",
      "metadata": {
        "id": "FXvEk9lNsE7v"
      },
      "source": [
        "## 9.2 Calculation of the CLS ebadings in LEGAL G BERT"
      ]
    },
    {
      "cell_type": "code",
      "execution_count": 38,
      "id": "2bb1-8UNsE7v",
      "metadata": {
        "colab": {
          "base_uri": "https://localhost:8080/"
        },
        "id": "2bb1-8UNsE7v",
        "outputId": "8b6a486f-cd75-4176-8d0e-445e279d6a34"
      },
      "outputs": [
        {
          "name": "stdout",
          "output_type": "stream",
          "text": [
            "First 10 dimensions of the LGAL G BERT`s Sentence embedding of the first paragraph title:\n",
            "[-0.5292437  -0.16948324 -0.06846891 -0.47662362 -0.722266    0.06980227\n",
            "  1.0041115   0.28140152 -0.01368951]\n",
            "\n",
            "     VS.     \n",
            "\n",
            "First 10 dimensions of the genereic BERT`s Sentence embeddingof the first paragraph title:\n",
            "[ 0.37478474  0.08961661 -0.12682869 -0.26694614 -0.05042038  0.10338304\n",
            "  0.3454303  -0.09266943 -0.08774802]\n"
          ]
        }
      ],
      "source": [
        "legal_g_bert_1st_emb = prepare_apply_model(legal_g_bert_cased, df[\"paragraph_title\"].loc[0], model_legal_g_bert )\n",
        "print(\"First 10 dimensions of the LGAL G BERT`s Sentence embedding of the first paragraph title:\")\n",
        "print(legal_g_bert_1st_emb[0:9])\n",
        "print(\"\\n     VS.     \\n\\nFirst 10 dimensions of the genereic BERT`s Sentence embeddingof the first paragraph title:\")\n",
        "print(bert_1st_emb[0:9])"
      ]
    }
  ],
  "metadata": {
    "colab": {
      "provenance": []
    },
    "kernelspec": {
      "display_name": ".venv",
      "language": "python",
      "name": "python3"
    },
    "language_info": {
      "codemirror_mode": {
        "name": "ipython",
        "version": 3
      },
      "file_extension": ".py",
      "mimetype": "text/x-python",
      "name": "python",
      "nbconvert_exporter": "python",
      "pygments_lexer": "ipython3",
      "version": "3.11.2"
    }
  },
  "nbformat": 4,
  "nbformat_minor": 5
}
